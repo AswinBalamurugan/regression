{
  "cells": [
    {
      "cell_type": "markdown",
      "id": "b932e368",
      "metadata": {
        "id": "b932e368"
      },
      "source": [
        "* **Link for data**\n",
        "* https://www.kaggle.com/datasets/anmolkumar/house-price-prediction-challenge?select=train.csv"
      ]
    },
    {
      "cell_type": "markdown",
      "id": "e2c263ab",
      "metadata": {
        "id": "e2c263ab"
      },
      "source": [
        "* **Links for coding clues**\n",
        "* https://www.kaggle.com/code/abhinavjhanwar/house-price-prediction-r2-score-94\n",
        "* https://www.jigsawacademy.com/popular-regression-algorithms-ml/ - list of useful models\n",
        "* https://www.kaggle.com/code/tanujmathur98/best-model-for-indian-house-price-prediction"
      ]
    },
    {
      "cell_type": "markdown",
      "id": "c95cdbd6",
      "metadata": {
        "id": "c95cdbd6"
      },
      "source": [
        "# Attributes Description\n",
        "\n",
        "* POSTED_BY :\tCategory marking who has listed the property\n",
        "* UNDER_CONSTRUCTION :\tUnder Construction or Not\n",
        "* RERA :\tRera approved or Not\n",
        "* BHK_NO :\tNumber of Rooms\n",
        "* BHKORRK :\tType of property\n",
        "* SQUARE_FT :\tTotal area of the house in square feet\n",
        "* READYTOMOVE :\tCategory marking Ready to move or Not\n",
        "* RESALE :\tCategory marking Resale or not\n",
        "* ADDRESS : \tAddress of the property\n",
        "* LONGITUDE :\tLongitude of the property\n",
        "* LATITUDE :\tLatitude of the property\n"
      ]
    },
    {
      "cell_type": "code",
      "execution_count": 46,
      "id": "651dfb25",
      "metadata": {
        "id": "651dfb25"
      },
      "outputs": [],
      "source": [
        "import pandas as pd\n",
        "import numpy as np\n",
        "import seaborn as sns\n",
        "import matplotlib.pyplot as plt\n",
        "%matplotlib inline"
      ]
    },
    {
      "cell_type": "code",
      "execution_count": 47,
      "id": "7830b568",
      "metadata": {
        "id": "7830b568"
      },
      "outputs": [],
      "source": [
        "train = pd.read_csv('train.csv')\n",
        "test = pd.read_csv('test.csv')\n",
        "sample = pd.read_csv('sample_submission.csv')"
      ]
    },
    {
      "cell_type": "code",
      "execution_count": 48,
      "id": "5e85d94b",
      "metadata": {
        "colab": {
          "base_uri": "https://localhost:8080/",
          "height": 319
        },
        "id": "5e85d94b",
        "outputId": "630e3fde-62a9-4027-9ad0-f216695b8bf4"
      },
      "outputs": [
        {
          "output_type": "execute_result",
          "data": {
            "text/plain": [
              "  POSTED_BY  UNDER_CONSTRUCTION  RERA  BHK_NO. BHK_OR_RK    SQUARE_FT  \\\n",
              "0     Owner                   0     0        2       BHK  1300.236407   \n",
              "1    Dealer                   0     0        2       BHK  1275.000000   \n",
              "2     Owner                   0     0        2       BHK   933.159722   \n",
              "3     Owner                   0     1        2       BHK   929.921143   \n",
              "4    Dealer                   1     0        2       BHK   999.009247   \n",
              "\n",
              "   READY_TO_MOVE  RESALE                      ADDRESS  LONGITUDE   LATITUDE  \\\n",
              "0              1       1        Ksfc Layout,Bangalore  12.969910  77.597960   \n",
              "1              1       1    Vishweshwara Nagar,Mysore  12.274538  76.644605   \n",
              "2              1       1             Jigani,Bangalore  12.778033  77.632191   \n",
              "3              1       1  Sector-1 Vaishali,Ghaziabad  28.642300  77.344500   \n",
              "4              0       1             New Town,Kolkata  22.592200  88.484911   \n",
              "\n",
              "   TARGET(PRICE_IN_LACS)  \n",
              "0                   55.0  \n",
              "1                   51.0  \n",
              "2                   43.0  \n",
              "3                   62.5  \n",
              "4                   60.5  "
            ],
            "text/html": [
              "\n",
              "  <div id=\"df-1174ed89-69cc-4db8-b8ea-5ec3a6c63629\">\n",
              "    <div class=\"colab-df-container\">\n",
              "      <div>\n",
              "<style scoped>\n",
              "    .dataframe tbody tr th:only-of-type {\n",
              "        vertical-align: middle;\n",
              "    }\n",
              "\n",
              "    .dataframe tbody tr th {\n",
              "        vertical-align: top;\n",
              "    }\n",
              "\n",
              "    .dataframe thead th {\n",
              "        text-align: right;\n",
              "    }\n",
              "</style>\n",
              "<table border=\"1\" class=\"dataframe\">\n",
              "  <thead>\n",
              "    <tr style=\"text-align: right;\">\n",
              "      <th></th>\n",
              "      <th>POSTED_BY</th>\n",
              "      <th>UNDER_CONSTRUCTION</th>\n",
              "      <th>RERA</th>\n",
              "      <th>BHK_NO.</th>\n",
              "      <th>BHK_OR_RK</th>\n",
              "      <th>SQUARE_FT</th>\n",
              "      <th>READY_TO_MOVE</th>\n",
              "      <th>RESALE</th>\n",
              "      <th>ADDRESS</th>\n",
              "      <th>LONGITUDE</th>\n",
              "      <th>LATITUDE</th>\n",
              "      <th>TARGET(PRICE_IN_LACS)</th>\n",
              "    </tr>\n",
              "  </thead>\n",
              "  <tbody>\n",
              "    <tr>\n",
              "      <th>0</th>\n",
              "      <td>Owner</td>\n",
              "      <td>0</td>\n",
              "      <td>0</td>\n",
              "      <td>2</td>\n",
              "      <td>BHK</td>\n",
              "      <td>1300.236407</td>\n",
              "      <td>1</td>\n",
              "      <td>1</td>\n",
              "      <td>Ksfc Layout,Bangalore</td>\n",
              "      <td>12.969910</td>\n",
              "      <td>77.597960</td>\n",
              "      <td>55.0</td>\n",
              "    </tr>\n",
              "    <tr>\n",
              "      <th>1</th>\n",
              "      <td>Dealer</td>\n",
              "      <td>0</td>\n",
              "      <td>0</td>\n",
              "      <td>2</td>\n",
              "      <td>BHK</td>\n",
              "      <td>1275.000000</td>\n",
              "      <td>1</td>\n",
              "      <td>1</td>\n",
              "      <td>Vishweshwara Nagar,Mysore</td>\n",
              "      <td>12.274538</td>\n",
              "      <td>76.644605</td>\n",
              "      <td>51.0</td>\n",
              "    </tr>\n",
              "    <tr>\n",
              "      <th>2</th>\n",
              "      <td>Owner</td>\n",
              "      <td>0</td>\n",
              "      <td>0</td>\n",
              "      <td>2</td>\n",
              "      <td>BHK</td>\n",
              "      <td>933.159722</td>\n",
              "      <td>1</td>\n",
              "      <td>1</td>\n",
              "      <td>Jigani,Bangalore</td>\n",
              "      <td>12.778033</td>\n",
              "      <td>77.632191</td>\n",
              "      <td>43.0</td>\n",
              "    </tr>\n",
              "    <tr>\n",
              "      <th>3</th>\n",
              "      <td>Owner</td>\n",
              "      <td>0</td>\n",
              "      <td>1</td>\n",
              "      <td>2</td>\n",
              "      <td>BHK</td>\n",
              "      <td>929.921143</td>\n",
              "      <td>1</td>\n",
              "      <td>1</td>\n",
              "      <td>Sector-1 Vaishali,Ghaziabad</td>\n",
              "      <td>28.642300</td>\n",
              "      <td>77.344500</td>\n",
              "      <td>62.5</td>\n",
              "    </tr>\n",
              "    <tr>\n",
              "      <th>4</th>\n",
              "      <td>Dealer</td>\n",
              "      <td>1</td>\n",
              "      <td>0</td>\n",
              "      <td>2</td>\n",
              "      <td>BHK</td>\n",
              "      <td>999.009247</td>\n",
              "      <td>0</td>\n",
              "      <td>1</td>\n",
              "      <td>New Town,Kolkata</td>\n",
              "      <td>22.592200</td>\n",
              "      <td>88.484911</td>\n",
              "      <td>60.5</td>\n",
              "    </tr>\n",
              "  </tbody>\n",
              "</table>\n",
              "</div>\n",
              "      <button class=\"colab-df-convert\" onclick=\"convertToInteractive('df-1174ed89-69cc-4db8-b8ea-5ec3a6c63629')\"\n",
              "              title=\"Convert this dataframe to an interactive table.\"\n",
              "              style=\"display:none;\">\n",
              "        \n",
              "  <svg xmlns=\"http://www.w3.org/2000/svg\" height=\"24px\"viewBox=\"0 0 24 24\"\n",
              "       width=\"24px\">\n",
              "    <path d=\"M0 0h24v24H0V0z\" fill=\"none\"/>\n",
              "    <path d=\"M18.56 5.44l.94 2.06.94-2.06 2.06-.94-2.06-.94-.94-2.06-.94 2.06-2.06.94zm-11 1L8.5 8.5l.94-2.06 2.06-.94-2.06-.94L8.5 2.5l-.94 2.06-2.06.94zm10 10l.94 2.06.94-2.06 2.06-.94-2.06-.94-.94-2.06-.94 2.06-2.06.94z\"/><path d=\"M17.41 7.96l-1.37-1.37c-.4-.4-.92-.59-1.43-.59-.52 0-1.04.2-1.43.59L10.3 9.45l-7.72 7.72c-.78.78-.78 2.05 0 2.83L4 21.41c.39.39.9.59 1.41.59.51 0 1.02-.2 1.41-.59l7.78-7.78 2.81-2.81c.8-.78.8-2.07 0-2.86zM5.41 20L4 18.59l7.72-7.72 1.47 1.35L5.41 20z\"/>\n",
              "  </svg>\n",
              "      </button>\n",
              "      \n",
              "  <style>\n",
              "    .colab-df-container {\n",
              "      display:flex;\n",
              "      flex-wrap:wrap;\n",
              "      gap: 12px;\n",
              "    }\n",
              "\n",
              "    .colab-df-convert {\n",
              "      background-color: #E8F0FE;\n",
              "      border: none;\n",
              "      border-radius: 50%;\n",
              "      cursor: pointer;\n",
              "      display: none;\n",
              "      fill: #1967D2;\n",
              "      height: 32px;\n",
              "      padding: 0 0 0 0;\n",
              "      width: 32px;\n",
              "    }\n",
              "\n",
              "    .colab-df-convert:hover {\n",
              "      background-color: #E2EBFA;\n",
              "      box-shadow: 0px 1px 2px rgba(60, 64, 67, 0.3), 0px 1px 3px 1px rgba(60, 64, 67, 0.15);\n",
              "      fill: #174EA6;\n",
              "    }\n",
              "\n",
              "    [theme=dark] .colab-df-convert {\n",
              "      background-color: #3B4455;\n",
              "      fill: #D2E3FC;\n",
              "    }\n",
              "\n",
              "    [theme=dark] .colab-df-convert:hover {\n",
              "      background-color: #434B5C;\n",
              "      box-shadow: 0px 1px 3px 1px rgba(0, 0, 0, 0.15);\n",
              "      filter: drop-shadow(0px 1px 2px rgba(0, 0, 0, 0.3));\n",
              "      fill: #FFFFFF;\n",
              "    }\n",
              "  </style>\n",
              "\n",
              "      <script>\n",
              "        const buttonEl =\n",
              "          document.querySelector('#df-1174ed89-69cc-4db8-b8ea-5ec3a6c63629 button.colab-df-convert');\n",
              "        buttonEl.style.display =\n",
              "          google.colab.kernel.accessAllowed ? 'block' : 'none';\n",
              "\n",
              "        async function convertToInteractive(key) {\n",
              "          const element = document.querySelector('#df-1174ed89-69cc-4db8-b8ea-5ec3a6c63629');\n",
              "          const dataTable =\n",
              "            await google.colab.kernel.invokeFunction('convertToInteractive',\n",
              "                                                     [key], {});\n",
              "          if (!dataTable) return;\n",
              "\n",
              "          const docLinkHtml = 'Like what you see? Visit the ' +\n",
              "            '<a target=\"_blank\" href=https://colab.research.google.com/notebooks/data_table.ipynb>data table notebook</a>'\n",
              "            + ' to learn more about interactive tables.';\n",
              "          element.innerHTML = '';\n",
              "          dataTable['output_type'] = 'display_data';\n",
              "          await google.colab.output.renderOutput(dataTable, element);\n",
              "          const docLink = document.createElement('div');\n",
              "          docLink.innerHTML = docLinkHtml;\n",
              "          element.appendChild(docLink);\n",
              "        }\n",
              "      </script>\n",
              "    </div>\n",
              "  </div>\n",
              "  "
            ]
          },
          "metadata": {},
          "execution_count": 48
        }
      ],
      "source": [
        "train.head()"
      ]
    },
    {
      "cell_type": "code",
      "execution_count": 49,
      "id": "a2f3ea12",
      "metadata": {
        "colab": {
          "base_uri": "https://localhost:8080/",
          "height": 319
        },
        "id": "a2f3ea12",
        "outputId": "912e81d6-39af-4261-f132-c88942e46fa4"
      },
      "outputs": [
        {
          "output_type": "execute_result",
          "data": {
            "text/plain": [
              "  POSTED_BY  UNDER_CONSTRUCTION  RERA  BHK_NO. BHK_OR_RK    SQUARE_FT  \\\n",
              "0     Owner                   0     0        1       BHK   545.171340   \n",
              "1    Dealer                   1     1        2       BHK   800.000000   \n",
              "2    Dealer                   0     0        2       BHK  1257.096513   \n",
              "3    Dealer                   0     0        3       BHK  1400.329489   \n",
              "4     Owner                   0     0        1       BHK   430.477830   \n",
              "\n",
              "   READY_TO_MOVE  RESALE             ADDRESS  LONGITUDE   LATITUDE  \n",
              "0              1       1        Kamrej,Surat  21.262000  73.047700  \n",
              "1              0       0     Panvel,Lalitpur  18.966114  73.148278  \n",
              "2              1       1    New Town,Kolkata  22.592200  88.484911  \n",
              "3              1       1  Kalwar Road,Jaipur  26.988300  75.584600  \n",
              "4              1       1   Mai Mandir,Nadiad  22.700000  72.870000  "
            ],
            "text/html": [
              "\n",
              "  <div id=\"df-0d141479-a908-4437-a635-07815d3cb3ef\">\n",
              "    <div class=\"colab-df-container\">\n",
              "      <div>\n",
              "<style scoped>\n",
              "    .dataframe tbody tr th:only-of-type {\n",
              "        vertical-align: middle;\n",
              "    }\n",
              "\n",
              "    .dataframe tbody tr th {\n",
              "        vertical-align: top;\n",
              "    }\n",
              "\n",
              "    .dataframe thead th {\n",
              "        text-align: right;\n",
              "    }\n",
              "</style>\n",
              "<table border=\"1\" class=\"dataframe\">\n",
              "  <thead>\n",
              "    <tr style=\"text-align: right;\">\n",
              "      <th></th>\n",
              "      <th>POSTED_BY</th>\n",
              "      <th>UNDER_CONSTRUCTION</th>\n",
              "      <th>RERA</th>\n",
              "      <th>BHK_NO.</th>\n",
              "      <th>BHK_OR_RK</th>\n",
              "      <th>SQUARE_FT</th>\n",
              "      <th>READY_TO_MOVE</th>\n",
              "      <th>RESALE</th>\n",
              "      <th>ADDRESS</th>\n",
              "      <th>LONGITUDE</th>\n",
              "      <th>LATITUDE</th>\n",
              "    </tr>\n",
              "  </thead>\n",
              "  <tbody>\n",
              "    <tr>\n",
              "      <th>0</th>\n",
              "      <td>Owner</td>\n",
              "      <td>0</td>\n",
              "      <td>0</td>\n",
              "      <td>1</td>\n",
              "      <td>BHK</td>\n",
              "      <td>545.171340</td>\n",
              "      <td>1</td>\n",
              "      <td>1</td>\n",
              "      <td>Kamrej,Surat</td>\n",
              "      <td>21.262000</td>\n",
              "      <td>73.047700</td>\n",
              "    </tr>\n",
              "    <tr>\n",
              "      <th>1</th>\n",
              "      <td>Dealer</td>\n",
              "      <td>1</td>\n",
              "      <td>1</td>\n",
              "      <td>2</td>\n",
              "      <td>BHK</td>\n",
              "      <td>800.000000</td>\n",
              "      <td>0</td>\n",
              "      <td>0</td>\n",
              "      <td>Panvel,Lalitpur</td>\n",
              "      <td>18.966114</td>\n",
              "      <td>73.148278</td>\n",
              "    </tr>\n",
              "    <tr>\n",
              "      <th>2</th>\n",
              "      <td>Dealer</td>\n",
              "      <td>0</td>\n",
              "      <td>0</td>\n",
              "      <td>2</td>\n",
              "      <td>BHK</td>\n",
              "      <td>1257.096513</td>\n",
              "      <td>1</td>\n",
              "      <td>1</td>\n",
              "      <td>New Town,Kolkata</td>\n",
              "      <td>22.592200</td>\n",
              "      <td>88.484911</td>\n",
              "    </tr>\n",
              "    <tr>\n",
              "      <th>3</th>\n",
              "      <td>Dealer</td>\n",
              "      <td>0</td>\n",
              "      <td>0</td>\n",
              "      <td>3</td>\n",
              "      <td>BHK</td>\n",
              "      <td>1400.329489</td>\n",
              "      <td>1</td>\n",
              "      <td>1</td>\n",
              "      <td>Kalwar Road,Jaipur</td>\n",
              "      <td>26.988300</td>\n",
              "      <td>75.584600</td>\n",
              "    </tr>\n",
              "    <tr>\n",
              "      <th>4</th>\n",
              "      <td>Owner</td>\n",
              "      <td>0</td>\n",
              "      <td>0</td>\n",
              "      <td>1</td>\n",
              "      <td>BHK</td>\n",
              "      <td>430.477830</td>\n",
              "      <td>1</td>\n",
              "      <td>1</td>\n",
              "      <td>Mai Mandir,Nadiad</td>\n",
              "      <td>22.700000</td>\n",
              "      <td>72.870000</td>\n",
              "    </tr>\n",
              "  </tbody>\n",
              "</table>\n",
              "</div>\n",
              "      <button class=\"colab-df-convert\" onclick=\"convertToInteractive('df-0d141479-a908-4437-a635-07815d3cb3ef')\"\n",
              "              title=\"Convert this dataframe to an interactive table.\"\n",
              "              style=\"display:none;\">\n",
              "        \n",
              "  <svg xmlns=\"http://www.w3.org/2000/svg\" height=\"24px\"viewBox=\"0 0 24 24\"\n",
              "       width=\"24px\">\n",
              "    <path d=\"M0 0h24v24H0V0z\" fill=\"none\"/>\n",
              "    <path d=\"M18.56 5.44l.94 2.06.94-2.06 2.06-.94-2.06-.94-.94-2.06-.94 2.06-2.06.94zm-11 1L8.5 8.5l.94-2.06 2.06-.94-2.06-.94L8.5 2.5l-.94 2.06-2.06.94zm10 10l.94 2.06.94-2.06 2.06-.94-2.06-.94-.94-2.06-.94 2.06-2.06.94z\"/><path d=\"M17.41 7.96l-1.37-1.37c-.4-.4-.92-.59-1.43-.59-.52 0-1.04.2-1.43.59L10.3 9.45l-7.72 7.72c-.78.78-.78 2.05 0 2.83L4 21.41c.39.39.9.59 1.41.59.51 0 1.02-.2 1.41-.59l7.78-7.78 2.81-2.81c.8-.78.8-2.07 0-2.86zM5.41 20L4 18.59l7.72-7.72 1.47 1.35L5.41 20z\"/>\n",
              "  </svg>\n",
              "      </button>\n",
              "      \n",
              "  <style>\n",
              "    .colab-df-container {\n",
              "      display:flex;\n",
              "      flex-wrap:wrap;\n",
              "      gap: 12px;\n",
              "    }\n",
              "\n",
              "    .colab-df-convert {\n",
              "      background-color: #E8F0FE;\n",
              "      border: none;\n",
              "      border-radius: 50%;\n",
              "      cursor: pointer;\n",
              "      display: none;\n",
              "      fill: #1967D2;\n",
              "      height: 32px;\n",
              "      padding: 0 0 0 0;\n",
              "      width: 32px;\n",
              "    }\n",
              "\n",
              "    .colab-df-convert:hover {\n",
              "      background-color: #E2EBFA;\n",
              "      box-shadow: 0px 1px 2px rgba(60, 64, 67, 0.3), 0px 1px 3px 1px rgba(60, 64, 67, 0.15);\n",
              "      fill: #174EA6;\n",
              "    }\n",
              "\n",
              "    [theme=dark] .colab-df-convert {\n",
              "      background-color: #3B4455;\n",
              "      fill: #D2E3FC;\n",
              "    }\n",
              "\n",
              "    [theme=dark] .colab-df-convert:hover {\n",
              "      background-color: #434B5C;\n",
              "      box-shadow: 0px 1px 3px 1px rgba(0, 0, 0, 0.15);\n",
              "      filter: drop-shadow(0px 1px 2px rgba(0, 0, 0, 0.3));\n",
              "      fill: #FFFFFF;\n",
              "    }\n",
              "  </style>\n",
              "\n",
              "      <script>\n",
              "        const buttonEl =\n",
              "          document.querySelector('#df-0d141479-a908-4437-a635-07815d3cb3ef button.colab-df-convert');\n",
              "        buttonEl.style.display =\n",
              "          google.colab.kernel.accessAllowed ? 'block' : 'none';\n",
              "\n",
              "        async function convertToInteractive(key) {\n",
              "          const element = document.querySelector('#df-0d141479-a908-4437-a635-07815d3cb3ef');\n",
              "          const dataTable =\n",
              "            await google.colab.kernel.invokeFunction('convertToInteractive',\n",
              "                                                     [key], {});\n",
              "          if (!dataTable) return;\n",
              "\n",
              "          const docLinkHtml = 'Like what you see? Visit the ' +\n",
              "            '<a target=\"_blank\" href=https://colab.research.google.com/notebooks/data_table.ipynb>data table notebook</a>'\n",
              "            + ' to learn more about interactive tables.';\n",
              "          element.innerHTML = '';\n",
              "          dataTable['output_type'] = 'display_data';\n",
              "          await google.colab.output.renderOutput(dataTable, element);\n",
              "          const docLink = document.createElement('div');\n",
              "          docLink.innerHTML = docLinkHtml;\n",
              "          element.appendChild(docLink);\n",
              "        }\n",
              "      </script>\n",
              "    </div>\n",
              "  </div>\n",
              "  "
            ]
          },
          "metadata": {},
          "execution_count": 49
        }
      ],
      "source": [
        "test.head()"
      ]
    },
    {
      "cell_type": "code",
      "execution_count": 50,
      "id": "a4a38dfb",
      "metadata": {
        "scrolled": true,
        "colab": {
          "base_uri": "https://localhost:8080/"
        },
        "id": "a4a38dfb",
        "outputId": "a17803d5-35d8-42b2-c6aa-b6c1b8eed80e"
      },
      "outputs": [
        {
          "output_type": "execute_result",
          "data": {
            "text/plain": [
              "TARGET(PRICE_IN_LACS)\n",
              "0.0                      68720\n",
              "dtype: int64"
            ]
          },
          "metadata": {},
          "execution_count": 50
        }
      ],
      "source": [
        "sample.value_counts()"
      ]
    },
    {
      "cell_type": "markdown",
      "id": "a684cfa2",
      "metadata": {
        "id": "a684cfa2"
      },
      "source": [
        "# Data Visualisation"
      ]
    },
    {
      "cell_type": "code",
      "execution_count": 51,
      "id": "47d2485e",
      "metadata": {
        "colab": {
          "base_uri": "https://localhost:8080/",
          "height": 353
        },
        "id": "47d2485e",
        "outputId": "42aee3fa-fa8a-47d9-cd71-f556b3bc21a0"
      },
      "outputs": [
        {
          "output_type": "execute_result",
          "data": {
            "text/plain": [
              "Text(0.5, 1.0, 'Test dataset')"
            ]
          },
          "metadata": {},
          "execution_count": 51
        },
        {
          "output_type": "display_data",
          "data": {
            "text/plain": [
              "<Figure size 1080x360 with 2 Axes>"
            ],
            "image/png": "[encoded data removed]"
          },
          "metadata": {
            "needs_background": "light"
          }
        }
      ],
      "source": [
        "fig, axes = plt.subplots(1,2,figsize=(15,5))\n",
        "sns.countplot(x='POSTED_BY',data=train,ax=axes[0])\n",
        "axes[0].set_title('Train dataset')\n",
        "sns.countplot(x='POSTED_BY',data=test,ax=axes[1])\n",
        "axes[1].set_title('Test dataset')"
      ]
    },
    {
      "cell_type": "code",
      "execution_count": 52,
      "id": "93fec8e2",
      "metadata": {
        "scrolled": true,
        "colab": {
          "base_uri": "https://localhost:8080/",
          "height": 353
        },
        "id": "93fec8e2",
        "outputId": "057922e4-21d7-48b4-a57c-f49b4ce1d208"
      },
      "outputs": [
        {
          "output_type": "execute_result",
          "data": {
            "text/plain": [
              "Text(0.5, 1.0, 'Test dataset')"
            ]
          },
          "metadata": {},
          "execution_count": 52
        },
        {
          "output_type": "display_data",
          "data": {
            "text/plain": [
              "<Figure size 1080x360 with 2 Axes>"
            ],
            "image/png": "[encoded data removed]"
          },
          "metadata": {
            "needs_background": "light"
          }
        }
      ],
      "source": [
        "fig, axes = plt.subplots(1,2,figsize=(15,5))\n",
        "sns.countplot(x='BHK_OR_RK',data=train,ax=axes[0])\n",
        "axes[0].set_title('Train dataset')\n",
        "sns.countplot(x='BHK_OR_RK',data=test,ax=axes[1])\n",
        "axes[1].set_title('Test dataset')"
      ]
    },
    {
      "cell_type": "code",
      "execution_count": 53,
      "id": "72e95177",
      "metadata": {
        "colab": {
          "base_uri": "https://localhost:8080/",
          "height": 353
        },
        "id": "72e95177",
        "outputId": "fe128ea3-012b-41db-d5ef-1e12ea2e2d00"
      },
      "outputs": [
        {
          "output_type": "execute_result",
          "data": {
            "text/plain": [
              "Text(0.5, 1.0, 'Test dataset')"
            ]
          },
          "metadata": {},
          "execution_count": 53
        },
        {
          "output_type": "display_data",
          "data": {
            "text/plain": [
              "<Figure size 1080x360 with 2 Axes>"
            ],
            "image/png": "[encoded data removed]"
          },
          "metadata": {
            "needs_background": "light"
          }
        }
      ],
      "source": [
        "fig, axes = plt.subplots(1,2,figsize=(15,5))\n",
        "sns.countplot(x='UNDER_CONSTRUCTION',data=train,ax=axes[0])\n",
        "axes[0].set_title('Train dataset')\n",
        "sns.countplot(x='UNDER_CONSTRUCTION',data=test,ax=axes[1])\n",
        "axes[1].set_title('Test dataset')"
      ]
    },
    {
      "cell_type": "code",
      "execution_count": 54,
      "id": "1b1fdea0",
      "metadata": {
        "colab": {
          "base_uri": "https://localhost:8080/",
          "height": 343
        },
        "id": "1b1fdea0",
        "outputId": "a5d6976d-2caa-47aa-e883-83220369bd1f"
      },
      "outputs": [
        {
          "output_type": "execute_result",
          "data": {
            "text/plain": [
              "<matplotlib.axes._subplots.AxesSubplot at 0x7f5056d2db10>"
            ]
          },
          "metadata": {},
          "execution_count": 54
        },
        {
          "output_type": "display_data",
          "data": {
            "text/plain": [
              "<Figure size 1080x360 with 1 Axes>"
            ],
            "image/png": "[encoded data removed]"
          },
          "metadata": {
            "needs_background": "light"
          }
        }
      ],
      "source": [
        "plt.figure(figsize=(15,5))\n",
        "sns.histplot(x='TARGET(PRICE_IN_LACS)',data=train)"
      ]
    },
    {
      "cell_type": "code",
      "execution_count": 55,
      "id": "e778125e",
      "metadata": {
        "colab": {
          "base_uri": "https://localhost:8080/",
          "height": 337
        },
        "id": "e778125e",
        "outputId": "77c8781e-5810-4132-fc5c-6150a69aa1f9"
      },
      "outputs": [
        {
          "output_type": "execute_result",
          "data": {
            "text/plain": [
              "<matplotlib.axes._subplots.AxesSubplot at 0x7f5051978f90>"
            ]
          },
          "metadata": {},
          "execution_count": 55
        },
        {
          "output_type": "display_data",
          "data": {
            "text/plain": [
              "<Figure size 1080x360 with 1 Axes>"
            ],
            "image/png": "[encoded data removed]"
          },
          "metadata": {
            "needs_background": "light"
          }
        }
      ],
      "source": [
        "plt.figure(figsize=(15,5))\n",
        "sns.scatterplot(data=train,x='LATITUDE',y='TARGET(PRICE_IN_LACS)')"
      ]
    },
    {
      "cell_type": "code",
      "execution_count": 56,
      "id": "157b0d40",
      "metadata": {
        "scrolled": true,
        "colab": {
          "base_uri": "https://localhost:8080/",
          "height": 337
        },
        "id": "157b0d40",
        "outputId": "f51e69f7-7cf7-48ca-dfda-f4d51b919325"
      },
      "outputs": [
        {
          "output_type": "execute_result",
          "data": {
            "text/plain": [
              "<matplotlib.axes._subplots.AxesSubplot at 0x7f5051151110>"
            ]
          },
          "metadata": {},
          "execution_count": 56
        },
        {
          "output_type": "display_data",
          "data": {
            "text/plain": [
              "<Figure size 1080x360 with 1 Axes>"
            ],
            "image/png": "[encoded data removed]"
          },
          "metadata": {
            "needs_background": "light"
          }
        }
      ],
      "source": [
        "plt.figure(figsize=(15,5))\n",
        "sns.scatterplot(data=train,x='LONGITUDE',y='TARGET(PRICE_IN_LACS)')"
      ]
    },
    {
      "cell_type": "markdown",
      "id": "232b0c16",
      "metadata": {
        "id": "232b0c16"
      },
      "source": [
        "# Data Cleaning"
      ]
    },
    {
      "cell_type": "code",
      "execution_count": 57,
      "id": "fc746db3",
      "metadata": {
        "id": "fc746db3"
      },
      "outputs": [],
      "source": [
        "train.drop('ADDRESS',axis=1,inplace=True)\n",
        "test.drop('ADDRESS',axis=1,inplace=True)"
      ]
    },
    {
      "cell_type": "code",
      "execution_count": 58,
      "id": "8e7a2070",
      "metadata": {
        "colab": {
          "base_uri": "https://localhost:8080/"
        },
        "id": "8e7a2070",
        "outputId": "5c67832b-6252-418a-e676-8bbbb183ce90"
      },
      "outputs": [
        {
          "output_type": "execute_result",
          "data": {
            "text/plain": [
              "POSTED_BY                0\n",
              "UNDER_CONSTRUCTION       0\n",
              "RERA                     0\n",
              "BHK_NO.                  0\n",
              "BHK_OR_RK                0\n",
              "SQUARE_FT                0\n",
              "READY_TO_MOVE            0\n",
              "RESALE                   0\n",
              "LONGITUDE                0\n",
              "LATITUDE                 0\n",
              "TARGET(PRICE_IN_LACS)    0\n",
              "dtype: int64"
            ]
          },
          "metadata": {},
          "execution_count": 58
        }
      ],
      "source": [
        "train.isnull().sum()"
      ]
    },
    {
      "cell_type": "code",
      "execution_count": 59,
      "id": "e0ad0d56",
      "metadata": {
        "colab": {
          "base_uri": "https://localhost:8080/"
        },
        "id": "e0ad0d56",
        "outputId": "1dd900c6-3e78-4386-8035-417602310405"
      },
      "outputs": [
        {
          "output_type": "execute_result",
          "data": {
            "text/plain": [
              "POSTED_BY             0\n",
              "UNDER_CONSTRUCTION    0\n",
              "RERA                  0\n",
              "BHK_NO.               0\n",
              "BHK_OR_RK             0\n",
              "SQUARE_FT             0\n",
              "READY_TO_MOVE         0\n",
              "RESALE                0\n",
              "LONGITUDE             0\n",
              "LATITUDE              0\n",
              "dtype: int64"
            ]
          },
          "metadata": {},
          "execution_count": 59
        }
      ],
      "source": [
        "test.isnull().sum()"
      ]
    },
    {
      "cell_type": "code",
      "execution_count": 60,
      "id": "3d16e654",
      "metadata": {
        "id": "3d16e654"
      },
      "outputs": [],
      "source": [
        "train = pd.get_dummies(train,columns=['POSTED_BY','BHK_OR_RK'])"
      ]
    },
    {
      "cell_type": "markdown",
      "id": "352b6b88",
      "metadata": {
        "id": "352b6b88"
      },
      "source": [
        "# Model Application"
      ]
    },
    {
      "cell_type": "code",
      "execution_count": 61,
      "id": "9ff23c8f",
      "metadata": {
        "id": "9ff23c8f"
      },
      "outputs": [],
      "source": [
        "from sklearn.model_selection import train_test_split, GridSearchCV\n",
        "from sklearn.linear_model import LinearRegression\n",
        "from sklearn.metrics import r2_score,mean_squared_error\n",
        "from sklearn.tree import DecisionTreeRegressor\n",
        "from sklearn.ensemble import RandomForestRegressor\n",
        "from sklearn.neighbors import KNeighborsRegressor\n",
        "from sklearn.svm import SVR\n",
        "from sklearn.preprocessing import MinMaxScaler,StandardScaler"
      ]
    },
    {
      "cell_type": "code",
      "execution_count": 62,
      "id": "7f8e57ef",
      "metadata": {
        "id": "7f8e57ef"
      },
      "outputs": [],
      "source": [
        "X = train.drop('TARGET(PRICE_IN_LACS)',axis=1)\n",
        "y = train['TARGET(PRICE_IN_LACS)']\n",
        "\n",
        "X_train, X_test, y_train, y_test = train_test_split(X, y, test_size=0.3)"
      ]
    },
    {
      "cell_type": "markdown",
      "id": "0cbbb094",
      "metadata": {
        "id": "0cbbb094"
      },
      "source": [
        "## Linear Regression"
      ]
    },
    {
      "cell_type": "code",
      "execution_count": 63,
      "id": "b83bc7e5",
      "metadata": {
        "colab": {
          "base_uri": "https://localhost:8080/"
        },
        "id": "b83bc7e5",
        "outputId": "e807b1f1-bcdc-4965-809c-097a63cef4dc"
      },
      "outputs": [
        {
          "output_type": "stream",
          "name": "stdout",
          "text": [
            "0.07294890032375434\n",
            "546.3496040880481\n"
          ]
        }
      ],
      "source": [
        "linmodel = LinearRegression()\n",
        "\n",
        "linmodel.fit(X_train,y_train)\n",
        "pred_lin = linmodel.predict(X_test)\n",
        "train_pred_lin = linmodel.predict(X_train)\n",
        "\n",
        "print(r2_score(y_test,pred_lin))\n",
        "print(mean_squared_error(y_test,pred_lin)**0.5)"
      ]
    },
    {
      "cell_type": "markdown",
      "id": "b8bf8a4c",
      "metadata": {
        "id": "b8bf8a4c"
      },
      "source": [
        "## Decision Tree Regressor"
      ]
    },
    {
      "cell_type": "code",
      "execution_count": 64,
      "id": "61c7957a",
      "metadata": {
        "colab": {
          "base_uri": "https://localhost:8080/"
        },
        "id": "61c7957a",
        "outputId": "736ab157-4c05-467e-e343-6910ef8f09fe"
      },
      "outputs": [
        {
          "output_type": "stream",
          "name": "stdout",
          "text": [
            "0.9201507699548676\n",
            "160.34453494840562\n"
          ]
        }
      ],
      "source": [
        "dtree = DecisionTreeRegressor()\n",
        "\n",
        "dtree.fit(X_train,y_train)\n",
        "pred_dtree = dtree.predict(X_test)\n",
        "train_pred_dtree = dtree.predict(X_train)\n",
        "\n",
        "print(r2_score(y_test,pred_dtree))\n",
        "print(mean_squared_error(y_test,pred_dtree)**0.5)"
      ]
    },
    {
      "cell_type": "markdown",
      "id": "4c378b87",
      "metadata": {
        "id": "4c378b87"
      },
      "source": [
        "## Random Forest Regressor"
      ]
    },
    {
      "cell_type": "code",
      "execution_count": 65,
      "id": "7e6764a1",
      "metadata": {
        "colab": {
          "base_uri": "https://localhost:8080/"
        },
        "id": "7e6764a1",
        "outputId": "d8258ea2-b94d-4b22-e102-07458227d18c"
      },
      "outputs": [
        {
          "output_type": "stream",
          "name": "stdout",
          "text": [
            "0.9461927567016815\n",
            "131.62523731854446\n"
          ]
        }
      ],
      "source": [
        "rfr = RandomForestRegressor()\n",
        "\n",
        "rfr.fit(X_train,y_train)\n",
        "pred_rfr = rfr.predict(X_test)\n",
        "train_pred_rfr = rfr.predict(X_train)\n",
        "\n",
        "print(r2_score(y_test,pred_rfr))\n",
        "print(mean_squared_error(y_test,pred_rfr)**0.5)"
      ]
    },
    {
      "cell_type": "markdown",
      "id": "50f4ccb8",
      "metadata": {
        "id": "50f4ccb8"
      },
      "source": [
        "## K Nearest Neighbors Regressor"
      ]
    },
    {
      "cell_type": "code",
      "execution_count": 66,
      "id": "e9881480",
      "metadata": {
        "colab": {
          "base_uri": "https://localhost:8080/"
        },
        "id": "e9881480",
        "outputId": "39db218c-a3e2-4c40-d454-e09a1b5b05ae"
      },
      "outputs": [
        {
          "output_type": "stream",
          "name": "stdout",
          "text": [
            "0.5495430082435857\n",
            "380.8425479877744\n"
          ]
        }
      ],
      "source": [
        "knn = KNeighborsRegressor(n_neighbors=1)\n",
        "\n",
        "scaler = StandardScaler()\n",
        "scaled_X_train = scaler.fit_transform(X_train)\n",
        "scaled_X_test = scaler.transform(X_test)\n",
        "\n",
        "knn.fit(scaled_X_train,y_train)\n",
        "pred_knn = knn.predict(scaled_X_test)\n",
        "train_pred_knn = knn.predict(scaled_X_train)\n",
        "\n",
        "print(r2_score(y_test,pred_knn))\n",
        "print(mean_squared_error(y_test,pred_knn)**0.5)"
      ]
    },
    {
      "cell_type": "code",
      "execution_count": 67,
      "id": "4c1798b9",
      "metadata": {
        "id": "4c1798b9"
      },
      "outputs": [],
      "source": [
        "scores = []\n",
        "\n",
        "for i in range(1,16):\n",
        "    kni = KNeighborsRegressor(n_neighbors=i)\n",
        "    kni.fit(scaled_X_train,y_train)\n",
        "    pred_kni = kni.predict(scaled_X_test)\n",
        "    scores.append(r2_score(y_test,pred_kni))\n"
      ]
    },
    {
      "cell_type": "code",
      "execution_count": 68,
      "id": "53128b77",
      "metadata": {
        "colab": {
          "base_uri": "https://localhost:8080/",
          "height": 422
        },
        "id": "53128b77",
        "outputId": "ec2a48c6-b61b-4764-fd91-2e6c5880b614"
      },
      "outputs": [
        {
          "output_type": "execute_result",
          "data": {
            "text/plain": [
              "Text(0, 0.5, 'r2_score')"
            ]
          },
          "metadata": {},
          "execution_count": 68
        },
        {
          "output_type": "display_data",
          "data": {
            "text/plain": [
              "<Figure size 720x432 with 1 Axes>"
            ],
            "image/png": "[encoded data removed]"
          },
          "metadata": {
            "needs_background": "light"
          }
        }
      ],
      "source": [
        "plt.figure(figsize=(10,6))\n",
        "plt.plot(range(1,16),scores,markersize=10,marker='o',markerfacecolor='orange')\n",
        "plt.title('R2_score for different values of n_neighbors')\n",
        "plt.xlabel('n_neighbors')\n",
        "plt.ylabel('r2_score')"
      ]
    },
    {
      "cell_type": "code",
      "execution_count": 69,
      "id": "be74f627",
      "metadata": {
        "colab": {
          "base_uri": "https://localhost:8080/"
        },
        "id": "be74f627",
        "outputId": "6a4c14a0-0218-4a6f-c187-dee4cd10280c"
      },
      "outputs": [
        {
          "output_type": "stream",
          "name": "stdout",
          "text": [
            "0.6029784945348547\n",
            "357.5409682491651\n"
          ]
        }
      ],
      "source": [
        "knr = KNeighborsRegressor(n_neighbors=2)\n",
        "\n",
        "knr.fit(scaled_X_train,y_train)\n",
        "pred_knr = knr.predict(scaled_X_test)\n",
        "train_pred_knr = knr.predict(scaled_X_train)\n",
        "\n",
        "print(r2_score(y_test,pred_knr))\n",
        "print(mean_squared_error(y_test,pred_knr)**0.5)"
      ]
    },
    {
      "cell_type": "markdown",
      "id": "2ebfdba6",
      "metadata": {
        "id": "2ebfdba6"
      },
      "source": [
        "## Support Vector Machines Regressor"
      ]
    },
    {
      "cell_type": "code",
      "execution_count": 70,
      "id": "50bd0c92",
      "metadata": {
        "colab": {
          "base_uri": "https://localhost:8080/"
        },
        "id": "50bd0c92",
        "outputId": "70c6b415-5ee2-479d-ab96-8d250c381c0f"
      },
      "outputs": [
        {
          "output_type": "stream",
          "name": "stdout",
          "text": [
            "-0.0005866326576664527\n",
            "567.6049109100675\n"
          ]
        }
      ],
      "source": [
        "svr = SVR(kernel='poly')\n",
        "\n",
        "svr.fit(scaled_X_train,y_train)\n",
        "pred_svr = svr.predict(scaled_X_test)\n",
        "train_pred_svr = svr.predict(scaled_X_train)\n",
        "\n",
        "print(r2_score(y_test,pred_svr))\n",
        "print(mean_squared_error(y_test,pred_svr)**0.5)"
      ]
    },
    {
      "cell_type": "code",
      "execution_count": 71,
      "id": "c9ea2e8a",
      "metadata": {
        "id": "c9ea2e8a"
      },
      "outputs": [],
      "source": [
        "# param_grid = {'C': [1e4,1e5,1e6], 'gamma': [1e-4,1e-5,1e-6]}\n",
        "\n",
        "# grid = GridSearchCV(SVR(kernel='poly'),param_grid,refit=True,verbose=2)\n",
        "# grid.fit(scaled_X_train,y_train)"
      ]
    },
    {
      "cell_type": "markdown",
      "source": [
        "## Neural Networks"
      ],
      "metadata": {
        "id": "ljrhGHVdEZbu"
      },
      "id": "ljrhGHVdEZbu"
    },
    {
      "cell_type": "code",
      "execution_count": 72,
      "id": "536827dc",
      "metadata": {
        "id": "536827dc"
      },
      "outputs": [],
      "source": [
        "import tensorflow as tf\n",
        "from tensorflow.keras.models import Sequential\n",
        "from tensorflow.keras.layers import Dense,Dropout"
      ]
    },
    {
      "cell_type": "code",
      "source": [
        "model = Sequential()\n",
        "\n",
        "model.add(Dense(13,activation='relu'))\n",
        "model.add(Dropout(0.2))\n",
        "model.add(Dense(7,activation='relu'))\n",
        "model.add(Dropout(0.2))\n",
        "model.add(Dense(1,activation='linear'))\n",
        "\n",
        "model.compile(loss='mse',optimizer='adam')"
      ],
      "metadata": {
        "id": "6rBSZliJEoi_"
      },
      "id": "6rBSZliJEoi_",
      "execution_count": 73,
      "outputs": []
    },
    {
      "cell_type": "code",
      "source": [
        "model.fit(scaled_X_train,\n",
        "          y_train,\n",
        "          batch_size=256,\n",
        "          epochs=100,\n",
        "          validation_data=(scaled_X_test,y_test))"
      ],
      "metadata": {
        "colab": {
          "base_uri": "https://localhost:8080/"
        },
        "id": "vvcKFOTvGdVH",
        "outputId": "98fa9104-2027-40a3-bc96-b62d26ae301c"
      },
      "id": "vvcKFOTvGdVH",
      "execution_count": 74,
      "outputs": [
        {
          "output_type": "stream",
          "name": "stdout",
          "text": [
            "Epoch 1/100\n",
            "81/81 [==============================] - 1s 5ms/step - loss: 499654.5312 - val_loss: 340119.2188\n",
            "Epoch 2/100\n",
            "81/81 [==============================] - 0s 3ms/step - loss: 499274.9375 - val_loss: 339698.4688\n",
            "Epoch 3/100\n",
            "81/81 [==============================] - 0s 3ms/step - loss: 498552.4062 - val_loss: 338949.4688\n",
            "Epoch 4/100\n",
            "81/81 [==============================] - 0s 3ms/step - loss: 497520.2500 - val_loss: 337684.3125\n",
            "Epoch 5/100\n",
            "81/81 [==============================] - 0s 3ms/step - loss: 495641.3438 - val_loss: 335441.8438\n",
            "Epoch 6/100\n",
            "81/81 [==============================] - 0s 3ms/step - loss: 492017.7812 - val_loss: 331492.9688\n",
            "Epoch 7/100\n",
            "81/81 [==============================] - 0s 3ms/step - loss: 486791.2188 - val_loss: 326218.8750\n",
            "Epoch 8/100\n",
            "81/81 [==============================] - 0s 3ms/step - loss: 479469.2500 - val_loss: 320497.0938\n",
            "Epoch 9/100\n",
            "81/81 [==============================] - 0s 3ms/step - loss: 472092.7500 - val_loss: 315243.2812\n",
            "Epoch 10/100\n",
            "81/81 [==============================] - 0s 3ms/step - loss: 465061.9688 - val_loss: 311487.9062\n",
            "Epoch 11/100\n",
            "81/81 [==============================] - 0s 3ms/step - loss: 460751.2812 - val_loss: 308743.8125\n",
            "Epoch 12/100\n",
            "81/81 [==============================] - 0s 3ms/step - loss: 458154.6875 - val_loss: 306964.2812\n",
            "Epoch 13/100\n",
            "81/81 [==============================] - 0s 3ms/step - loss: 453569.7188 - val_loss: 305532.2500\n",
            "Epoch 14/100\n",
            "81/81 [==============================] - 0s 3ms/step - loss: 454803.3438 - val_loss: 304576.9688\n",
            "Epoch 15/100\n",
            "81/81 [==============================] - 0s 3ms/step - loss: 450726.3125 - val_loss: 303713.1250\n",
            "Epoch 16/100\n",
            "81/81 [==============================] - 0s 3ms/step - loss: 451240.3125 - val_loss: 303054.5938\n",
            "Epoch 17/100\n",
            "81/81 [==============================] - 0s 3ms/step - loss: 445893.1562 - val_loss: 302277.0625\n",
            "Epoch 18/100\n",
            "81/81 [==============================] - 0s 3ms/step - loss: 448291.4688 - val_loss: 301624.3125\n",
            "Epoch 19/100\n",
            "81/81 [==============================] - 0s 3ms/step - loss: 442864.2812 - val_loss: 301038.6562\n",
            "Epoch 20/100\n",
            "81/81 [==============================] - 0s 3ms/step - loss: 444959.1250 - val_loss: 300588.1250\n",
            "Epoch 21/100\n",
            "81/81 [==============================] - 0s 3ms/step - loss: 440171.0312 - val_loss: 300120.8438\n",
            "Epoch 22/100\n",
            "81/81 [==============================] - 0s 3ms/step - loss: 436261.6562 - val_loss: 299673.0312\n",
            "Epoch 23/100\n",
            "81/81 [==============================] - 0s 3ms/step - loss: 444173.7500 - val_loss: 299329.4688\n",
            "Epoch 24/100\n",
            "81/81 [==============================] - 0s 3ms/step - loss: 432041.2188 - val_loss: 298941.9375\n",
            "Epoch 25/100\n",
            "81/81 [==============================] - 0s 3ms/step - loss: 433286.0312 - val_loss: 298615.5312\n",
            "Epoch 26/100\n",
            "81/81 [==============================] - 0s 3ms/step - loss: 430765.0000 - val_loss: 298280.8438\n",
            "Epoch 27/100\n",
            "81/81 [==============================] - 0s 3ms/step - loss: 427140.3125 - val_loss: 298036.6875\n",
            "Epoch 28/100\n",
            "81/81 [==============================] - 0s 3ms/step - loss: 430016.7812 - val_loss: 297786.6875\n",
            "Epoch 29/100\n",
            "81/81 [==============================] - 0s 3ms/step - loss: 432774.5000 - val_loss: 297578.0312\n",
            "Epoch 30/100\n",
            "81/81 [==============================] - 0s 3ms/step - loss: 423890.8438 - val_loss: 297388.7500\n",
            "Epoch 31/100\n",
            "81/81 [==============================] - 0s 3ms/step - loss: 431241.6562 - val_loss: 297219.5938\n",
            "Epoch 32/100\n",
            "81/81 [==============================] - 0s 3ms/step - loss: 418183.2188 - val_loss: 297061.3125\n",
            "Epoch 33/100\n",
            "81/81 [==============================] - 0s 3ms/step - loss: 421888.2500 - val_loss: 296924.1875\n",
            "Epoch 34/100\n",
            "81/81 [==============================] - 0s 3ms/step - loss: 427858.5938 - val_loss: 296843.2812\n",
            "Epoch 35/100\n",
            "81/81 [==============================] - 0s 3ms/step - loss: 416124.8438 - val_loss: 296745.8125\n",
            "Epoch 36/100\n",
            "81/81 [==============================] - 0s 3ms/step - loss: 411767.1562 - val_loss: 296674.2500\n",
            "Epoch 37/100\n",
            "81/81 [==============================] - 0s 3ms/step - loss: 411632.4375 - val_loss: 296642.5625\n",
            "Epoch 38/100\n",
            "81/81 [==============================] - 0s 3ms/step - loss: 414874.5000 - val_loss: 296548.7188\n",
            "Epoch 39/100\n",
            "81/81 [==============================] - 0s 3ms/step - loss: 408122.0312 - val_loss: 296543.9688\n",
            "Epoch 40/100\n",
            "81/81 [==============================] - 0s 3ms/step - loss: 399429.2812 - val_loss: 296527.9688\n",
            "Epoch 41/100\n",
            "81/81 [==============================] - 0s 3ms/step - loss: 407982.0625 - val_loss: 296502.8750\n",
            "Epoch 42/100\n",
            "81/81 [==============================] - 0s 3ms/step - loss: 412957.6250 - val_loss: 296477.0312\n",
            "Epoch 43/100\n",
            "81/81 [==============================] - 0s 3ms/step - loss: 430165.4375 - val_loss: 296441.4062\n",
            "Epoch 44/100\n",
            "81/81 [==============================] - 0s 3ms/step - loss: 418422.7812 - val_loss: 296448.5625\n",
            "Epoch 45/100\n",
            "81/81 [==============================] - 0s 3ms/step - loss: 403987.9062 - val_loss: 296447.7812\n",
            "Epoch 46/100\n",
            "81/81 [==============================] - 0s 3ms/step - loss: 409567.7812 - val_loss: 296368.8438\n",
            "Epoch 47/100\n",
            "81/81 [==============================] - 0s 3ms/step - loss: 399337.9062 - val_loss: 296408.1875\n",
            "Epoch 48/100\n",
            "81/81 [==============================] - 0s 3ms/step - loss: 403120.9688 - val_loss: 296359.0938\n",
            "Epoch 49/100\n",
            "81/81 [==============================] - 0s 3ms/step - loss: 396783.4375 - val_loss: 296445.8750\n",
            "Epoch 50/100\n",
            "81/81 [==============================] - 0s 3ms/step - loss: 396238.0938 - val_loss: 296403.4688\n",
            "Epoch 51/100\n",
            "81/81 [==============================] - 0s 3ms/step - loss: 397141.6875 - val_loss: 296537.5625\n",
            "Epoch 52/100\n",
            "81/81 [==============================] - 0s 3ms/step - loss: 382423.3750 - val_loss: 296599.2500\n",
            "Epoch 53/100\n",
            "81/81 [==============================] - 0s 3ms/step - loss: 403854.5000 - val_loss: 296621.1250\n",
            "Epoch 54/100\n",
            "81/81 [==============================] - 0s 3ms/step - loss: 387991.6250 - val_loss: 296681.2500\n",
            "Epoch 55/100\n",
            "81/81 [==============================] - 0s 3ms/step - loss: 397431.2812 - val_loss: 296664.0312\n",
            "Epoch 56/100\n",
            "81/81 [==============================] - 0s 3ms/step - loss: 392291.7188 - val_loss: 296722.8750\n",
            "Epoch 57/100\n",
            "81/81 [==============================] - 0s 3ms/step - loss: 396902.5312 - val_loss: 296761.4375\n",
            "Epoch 58/100\n",
            "81/81 [==============================] - 0s 3ms/step - loss: 390097.7188 - val_loss: 296702.3438\n",
            "Epoch 59/100\n",
            "81/81 [==============================] - 0s 3ms/step - loss: 391546.4375 - val_loss: 296700.2812\n",
            "Epoch 60/100\n",
            "81/81 [==============================] - 0s 3ms/step - loss: 387163.1875 - val_loss: 296774.8438\n",
            "Epoch 61/100\n",
            "81/81 [==============================] - 0s 3ms/step - loss: 389383.3125 - val_loss: 296743.4375\n",
            "Epoch 62/100\n",
            "81/81 [==============================] - 0s 3ms/step - loss: 379277.7812 - val_loss: 296732.9375\n",
            "Epoch 63/100\n",
            "81/81 [==============================] - 0s 3ms/step - loss: 404941.5938 - val_loss: 296809.8750\n",
            "Epoch 64/100\n",
            "81/81 [==============================] - 0s 3ms/step - loss: 368881.1250 - val_loss: 296742.8125\n",
            "Epoch 65/100\n",
            "81/81 [==============================] - 0s 3ms/step - loss: 391642.5625 - val_loss: 296770.9375\n",
            "Epoch 66/100\n",
            "81/81 [==============================] - 0s 3ms/step - loss: 385833.0625 - val_loss: 296770.1562\n",
            "Epoch 67/100\n",
            "81/81 [==============================] - 0s 3ms/step - loss: 394932.9688 - val_loss: 296804.2812\n",
            "Epoch 68/100\n",
            "81/81 [==============================] - 0s 3ms/step - loss: 397150.7500 - val_loss: 296767.7188\n",
            "Epoch 69/100\n",
            "81/81 [==============================] - 0s 3ms/step - loss: 371904.1875 - val_loss: 296788.1562\n",
            "Epoch 70/100\n",
            "81/81 [==============================] - 0s 3ms/step - loss: 386300.1875 - val_loss: 296749.0938\n",
            "Epoch 71/100\n",
            "81/81 [==============================] - 0s 3ms/step - loss: 391705.0938 - val_loss: 296771.9375\n",
            "Epoch 72/100\n",
            "81/81 [==============================] - 0s 3ms/step - loss: 367606.7812 - val_loss: 296796.8750\n",
            "Epoch 73/100\n",
            "81/81 [==============================] - 0s 3ms/step - loss: 388778.0625 - val_loss: 296741.3750\n",
            "Epoch 74/100\n",
            "81/81 [==============================] - 0s 3ms/step - loss: 371007.8438 - val_loss: 296832.4375\n",
            "Epoch 75/100\n",
            "81/81 [==============================] - 0s 3ms/step - loss: 367998.2812 - val_loss: 296785.0625\n",
            "Epoch 76/100\n",
            "81/81 [==============================] - 0s 3ms/step - loss: 375707.8438 - val_loss: 296761.1562\n",
            "Epoch 77/100\n",
            "81/81 [==============================] - 0s 3ms/step - loss: 367783.3125 - val_loss: 296779.1250\n",
            "Epoch 78/100\n",
            "81/81 [==============================] - 0s 3ms/step - loss: 352191.2500 - val_loss: 296813.6875\n",
            "Epoch 79/100\n",
            "81/81 [==============================] - 0s 3ms/step - loss: 386666.1875 - val_loss: 296840.0000\n",
            "Epoch 80/100\n",
            "81/81 [==============================] - 0s 3ms/step - loss: 373501.3438 - val_loss: 296789.0312\n",
            "Epoch 81/100\n",
            "81/81 [==============================] - 0s 3ms/step - loss: 367686.5312 - val_loss: 296745.7812\n",
            "Epoch 82/100\n",
            "81/81 [==============================] - 0s 4ms/step - loss: 360076.0000 - val_loss: 296684.8438\n",
            "Epoch 83/100\n",
            "81/81 [==============================] - 0s 3ms/step - loss: 361400.0312 - val_loss: 296618.9688\n",
            "Epoch 84/100\n",
            "81/81 [==============================] - 0s 3ms/step - loss: 361142.4375 - val_loss: 296625.5000\n",
            "Epoch 85/100\n",
            "81/81 [==============================] - 0s 3ms/step - loss: 362618.6562 - val_loss: 296624.4375\n",
            "Epoch 86/100\n",
            "81/81 [==============================] - 0s 3ms/step - loss: 358490.8438 - val_loss: 296621.5625\n",
            "Epoch 87/100\n",
            "81/81 [==============================] - 0s 3ms/step - loss: 360391.3125 - val_loss: 296629.0625\n",
            "Epoch 88/100\n",
            "81/81 [==============================] - 0s 3ms/step - loss: 379081.0000 - val_loss: 296589.0312\n",
            "Epoch 89/100\n",
            "81/81 [==============================] - 0s 3ms/step - loss: 350770.6562 - val_loss: 296544.2812\n",
            "Epoch 90/100\n",
            "81/81 [==============================] - 0s 3ms/step - loss: 365543.7500 - val_loss: 296592.0938\n",
            "Epoch 91/100\n",
            "81/81 [==============================] - 0s 3ms/step - loss: 356032.3750 - val_loss: 296506.2500\n",
            "Epoch 92/100\n",
            "81/81 [==============================] - 0s 3ms/step - loss: 357571.9062 - val_loss: 296508.5938\n",
            "Epoch 93/100\n",
            "81/81 [==============================] - 0s 3ms/step - loss: 355873.8750 - val_loss: 296487.6562\n",
            "Epoch 94/100\n",
            "81/81 [==============================] - 0s 3ms/step - loss: 364084.7500 - val_loss: 296538.2812\n",
            "Epoch 95/100\n",
            "81/81 [==============================] - 0s 3ms/step - loss: 353220.0312 - val_loss: 296436.8125\n",
            "Epoch 96/100\n",
            "81/81 [==============================] - 0s 3ms/step - loss: 370846.1562 - val_loss: 296384.7500\n",
            "Epoch 97/100\n",
            "81/81 [==============================] - 0s 3ms/step - loss: 355843.5625 - val_loss: 296423.0000\n",
            "Epoch 98/100\n",
            "81/81 [==============================] - 0s 3ms/step - loss: 350668.6562 - val_loss: 296313.7812\n",
            "Epoch 99/100\n",
            "81/81 [==============================] - 0s 3ms/step - loss: 382461.1250 - val_loss: 296422.7812\n",
            "Epoch 100/100\n",
            "81/81 [==============================] - 0s 3ms/step - loss: 365709.6562 - val_loss: 296308.5312\n"
          ]
        },
        {
          "output_type": "execute_result",
          "data": {
            "text/plain": [
              "<keras.callbacks.History at 0x7f50514c7450>"
            ]
          },
          "metadata": {},
          "execution_count": 74
        }
      ]
    },
    {
      "cell_type": "code",
      "source": [
        "losses = pd.DataFrame(model.history.history)\n",
        "losses[['loss','val_loss']].plot()\n",
        "plt.xlim(0,100)"
      ],
      "metadata": {
        "colab": {
          "base_uri": "https://localhost:8080/",
          "height": 282
        },
        "id": "a5RNmDApGjya",
        "outputId": "22801632-4ce4-46ad-f255-742d08c36fd3"
      },
      "id": "a5RNmDApGjya",
      "execution_count": 75,
      "outputs": [
        {
          "output_type": "execute_result",
          "data": {
            "text/plain": [
              "(0.0, 100.0)"
            ]
          },
          "metadata": {},
          "execution_count": 75
        },
        {
          "output_type": "display_data",
          "data": {
            "text/plain": [
              "<Figure size 432x288 with 1 Axes>"
            ],
            "image/png": "[encoded data removed]"
          },
          "metadata": {
            "needs_background": "light"
          }
        }
      ]
    },
    {
      "cell_type": "code",
      "source": [
        "pred_nn = model.predict(scaled_X_test)\n",
        "train_pred_nn = model.predict(scaled_X_train)\n",
        "\n",
        "print(r2_score(y_test,pred_nn))\n",
        "print(mean_squared_error(y_test,pred_nn)**0.5)"
      ],
      "metadata": {
        "colab": {
          "base_uri": "https://localhost:8080/"
        },
        "id": "2GPIEsz3HU5x",
        "outputId": "ac215478-052f-48a3-ca41-42450735602a"
      },
      "id": "2GPIEsz3HU5x",
      "execution_count": 76,
      "outputs": [
        {
          "output_type": "stream",
          "name": "stdout",
          "text": [
            "0.0797484845505323\n",
            "544.3422782772492\n"
          ]
        }
      ]
    },
    {
      "cell_type": "markdown",
      "source": [
        "# Results"
      ],
      "metadata": {
        "id": "Y6jPWKBIISXb"
      },
      "id": "Y6jPWKBIISXb"
    },
    {
      "cell_type": "code",
      "source": [
        "lin1 = r2_score(y_test,pred_lin)*100\n",
        "dtr1 = r2_score(y_test,pred_dtree)*100\n",
        "rfr1 = r2_score(y_test,pred_rfr)*100\n",
        "knn1 = r2_score(y_test,pred_knn)*100\n",
        "knr1 = r2_score(y_test,pred_knr)*100\n",
        "svr1 = r2_score(y_test,pred_svr)*100\n",
        "nn1 = r2_score(y_test,pred_nn)*100\n",
        "\n",
        "lin2 = r2_score(y_train,train_pred_lin)*100\n",
        "dtr2 = r2_score(y_train,train_pred_dtree)*100\n",
        "rfr2 = r2_score(y_train,train_pred_rfr)*100\n",
        "knn2 = r2_score(y_train,train_pred_knn)*100\n",
        "knr2 = r2_score(y_train,train_pred_knr)*100\n",
        "svr2 = r2_score(y_train,train_pred_svr)*100\n",
        "nn2 = r2_score(y_train,train_pred_nn)*100\n",
        "\n",
        "test_score_dict = {'Linear Regression':lin1,'Decision Tree Classifier':dtr1,'Random Forest Classifier':rfr1,\n",
        "              'KNR (n=1)':knn1,'KNR (n=2)':knr1,'Support Vector Machines':svr1,'Neural Networks':nn1}\n",
        "              \n",
        "train_score_dict = {'Linear Regression':lin2,'Decision Tree Classifier':dtr2,'Random Forest Classifier':rfr2,\n",
        "              'KNR (n=1)':knn2,'KNR (n=2)':knr2,'Support Vector Machines':svr2,'Neural Networks':nn2}"
      ],
      "metadata": {
        "id": "2DOG9DbjIUH5"
      },
      "id": "2DOG9DbjIUH5",
      "execution_count": 79,
      "outputs": []
    },
    {
      "cell_type": "code",
      "source": [
        "df_scores = pd.DataFrame([train_score_dict,test_score_dict],index=['Train Accuracy','Test Accuracy']).transpose()\n",
        "\n",
        "df_scores.plot(kind='bar')"
      ],
      "metadata": {
        "colab": {
          "base_uri": "https://localhost:8080/",
          "height": 397
        },
        "id": "rEDwoBRYKB56",
        "outputId": "2e0cda8f-f529-464c-e815-d60f630ab7c6"
      },
      "id": "rEDwoBRYKB56",
      "execution_count": 80,
      "outputs": [
        {
          "output_type": "execute_result",
          "data": {
            "text/plain": [
              "<matplotlib.axes._subplots.AxesSubplot at 0x7f5057d64d90>"
            ]
          },
          "metadata": {},
          "execution_count": 80
        },
        {
          "output_type": "display_data",
          "data": {
            "text/plain": [
              "<Figure size 432x288 with 1 Axes>"
            ],
            "image/png": "[encoded data removed]"
          },
          "metadata": {
            "needs_background": "light"
          }
        }
      ]
    }
  ],
  "metadata": {
    "kernelspec": {
      "display_name": "Python 3",
      "language": "python",
      "name": "python3"
    },
    "language_info": {
      "codemirror_mode": {
        "name": "ipython",
        "version": 3
      },
      "file_extension": ".py",
      "mimetype": "text/x-python",
      "name": "python",
      "nbconvert_exporter": "python",
      "pygments_lexer": "ipython3",
      "version": "3.8.8"
    },
    "colab": {
      "name": "Housing_Price.ipynb",
      "provenance": [],
      "toc_visible": true
    }
  },
  "nbformat": 4,
  "nbformat_minor": 5
}