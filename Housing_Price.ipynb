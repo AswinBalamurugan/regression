{
  "cells": [
    {
      "cell_type": "markdown",
      "id": "c95cdbd6",
      "metadata": {
        "id": "c95cdbd6"
      },
      "source": [
        "# Attributes Description\n",
        "\n",
        "* POSTED_BY :\tCategory marking who has listed the property\n",
        "* UNDER_CONSTRUCTION :\tUnder Construction or Not\n",
        "* RERA :\tRera approved or Not\n",
        "* BHK_NO :\tNumber of Rooms\n",
        "* BHKORRK :\tType of property\n",
        "* SQUARE_FT :\tTotal area of the house in square feet\n",
        "* READYTOMOVE :\tCategory marking Ready to move or Not\n",
        "* RESALE :\tCategory marking Resale or not\n",
        "* ADDRESS : \tAddress of the property\n",
        "* LONGITUDE :\tLongitude of the property\n",
        "* LATITUDE :\tLatitude of the property\n"
      ]
    },
    {
      "cell_type": "code",
      "execution_count": 110,
      "id": "651dfb25",
      "metadata": {
        "id": "651dfb25"
      },
      "outputs": [],
      "source": [
        "import pandas as pd\n",
        "import numpy as np\n",
        "import seaborn as sns\n",
        "import matplotlib.pyplot as plt\n",
        "%matplotlib inline"
      ]
    },
    {
      "cell_type": "code",
      "execution_count": 111,
      "id": "7830b568",
      "metadata": {
        "id": "7830b568"
      },
      "outputs": [],
      "source": [
        "train = pd.read_csv('train.csv')\n",
        "test = pd.read_csv('test.csv')"
      ]
    },
    {
      "cell_type": "code",
      "execution_count": 112,
      "id": "5e85d94b",
      "metadata": {
        "colab": {
          "base_uri": "https://localhost:8080/",
          "height": 319
        },
        "id": "5e85d94b",
        "outputId": "acb23f4f-f2f6-447b-bd7e-9694558fc8d1"
      },
      "outputs": [
        {
          "output_type": "execute_result",
          "data": {
            "text/plain": [
              "  POSTED_BY  UNDER_CONSTRUCTION  RERA  BHK_NO. BHK_OR_RK    SQUARE_FT  \\\n",
              "0     Owner                   0     0        2       BHK  1300.236407   \n",
              "1    Dealer                   0     0        2       BHK  1275.000000   \n",
              "2     Owner                   0     0        2       BHK   933.159722   \n",
              "3     Owner                   0     1        2       BHK   929.921143   \n",
              "4    Dealer                   1     0        2       BHK   999.009247   \n",
              "\n",
              "   READY_TO_MOVE  RESALE                      ADDRESS  LONGITUDE   LATITUDE  \\\n",
              "0              1       1        Ksfc Layout,Bangalore  12.969910  77.597960   \n",
              "1              1       1    Vishweshwara Nagar,Mysore  12.274538  76.644605   \n",
              "2              1       1             Jigani,Bangalore  12.778033  77.632191   \n",
              "3              1       1  Sector-1 Vaishali,Ghaziabad  28.642300  77.344500   \n",
              "4              0       1             New Town,Kolkata  22.592200  88.484911   \n",
              "\n",
              "   TARGET(PRICE_IN_LACS)  \n",
              "0                   55.0  \n",
              "1                   51.0  \n",
              "2                   43.0  \n",
              "3                   62.5  \n",
              "4                   60.5  "
            ],
            "text/html": [
              "\n",
              "  <div id=\"df-764070ea-4a17-4790-b990-5f29d80075a9\">\n",
              "    <div class=\"colab-df-container\">\n",
              "      <div>\n",
              "<style scoped>\n",
              "    .dataframe tbody tr th:only-of-type {\n",
              "        vertical-align: middle;\n",
              "    }\n",
              "\n",
              "    .dataframe tbody tr th {\n",
              "        vertical-align: top;\n",
              "    }\n",
              "\n",
              "    .dataframe thead th {\n",
              "        text-align: right;\n",
              "    }\n",
              "</style>\n",
              "<table border=\"1\" class=\"dataframe\">\n",
              "  <thead>\n",
              "    <tr style=\"text-align: right;\">\n",
              "      <th></th>\n",
              "      <th>POSTED_BY</th>\n",
              "      <th>UNDER_CONSTRUCTION</th>\n",
              "      <th>RERA</th>\n",
              "      <th>BHK_NO.</th>\n",
              "      <th>BHK_OR_RK</th>\n",
              "      <th>SQUARE_FT</th>\n",
              "      <th>READY_TO_MOVE</th>\n",
              "      <th>RESALE</th>\n",
              "      <th>ADDRESS</th>\n",
              "      <th>LONGITUDE</th>\n",
              "      <th>LATITUDE</th>\n",
              "      <th>TARGET(PRICE_IN_LACS)</th>\n",
              "    </tr>\n",
              "  </thead>\n",
              "  <tbody>\n",
              "    <tr>\n",
              "      <th>0</th>\n",
              "      <td>Owner</td>\n",
              "      <td>0</td>\n",
              "      <td>0</td>\n",
              "      <td>2</td>\n",
              "      <td>BHK</td>\n",
              "      <td>1300.236407</td>\n",
              "      <td>1</td>\n",
              "      <td>1</td>\n",
              "      <td>Ksfc Layout,Bangalore</td>\n",
              "      <td>12.969910</td>\n",
              "      <td>77.597960</td>\n",
              "      <td>55.0</td>\n",
              "    </tr>\n",
              "    <tr>\n",
              "      <th>1</th>\n",
              "      <td>Dealer</td>\n",
              "      <td>0</td>\n",
              "      <td>0</td>\n",
              "      <td>2</td>\n",
              "      <td>BHK</td>\n",
              "      <td>1275.000000</td>\n",
              "      <td>1</td>\n",
              "      <td>1</td>\n",
              "      <td>Vishweshwara Nagar,Mysore</td>\n",
              "      <td>12.274538</td>\n",
              "      <td>76.644605</td>\n",
              "      <td>51.0</td>\n",
              "    </tr>\n",
              "    <tr>\n",
              "      <th>2</th>\n",
              "      <td>Owner</td>\n",
              "      <td>0</td>\n",
              "      <td>0</td>\n",
              "      <td>2</td>\n",
              "      <td>BHK</td>\n",
              "      <td>933.159722</td>\n",
              "      <td>1</td>\n",
              "      <td>1</td>\n",
              "      <td>Jigani,Bangalore</td>\n",
              "      <td>12.778033</td>\n",
              "      <td>77.632191</td>\n",
              "      <td>43.0</td>\n",
              "    </tr>\n",
              "    <tr>\n",
              "      <th>3</th>\n",
              "      <td>Owner</td>\n",
              "      <td>0</td>\n",
              "      <td>1</td>\n",
              "      <td>2</td>\n",
              "      <td>BHK</td>\n",
              "      <td>929.921143</td>\n",
              "      <td>1</td>\n",
              "      <td>1</td>\n",
              "      <td>Sector-1 Vaishali,Ghaziabad</td>\n",
              "      <td>28.642300</td>\n",
              "      <td>77.344500</td>\n",
              "      <td>62.5</td>\n",
              "    </tr>\n",
              "    <tr>\n",
              "      <th>4</th>\n",
              "      <td>Dealer</td>\n",
              "      <td>1</td>\n",
              "      <td>0</td>\n",
              "      <td>2</td>\n",
              "      <td>BHK</td>\n",
              "      <td>999.009247</td>\n",
              "      <td>0</td>\n",
              "      <td>1</td>\n",
              "      <td>New Town,Kolkata</td>\n",
              "      <td>22.592200</td>\n",
              "      <td>88.484911</td>\n",
              "      <td>60.5</td>\n",
              "    </tr>\n",
              "  </tbody>\n",
              "</table>\n",
              "</div>\n",
              "      <button class=\"colab-df-convert\" onclick=\"convertToInteractive('df-764070ea-4a17-4790-b990-5f29d80075a9')\"\n",
              "              title=\"Convert this dataframe to an interactive table.\"\n",
              "              style=\"display:none;\">\n",
              "        \n",
              "  <svg xmlns=\"http://www.w3.org/2000/svg\" height=\"24px\"viewBox=\"0 0 24 24\"\n",
              "       width=\"24px\">\n",
              "    <path d=\"M0 0h24v24H0V0z\" fill=\"none\"/>\n",
              "    <path d=\"M18.56 5.44l.94 2.06.94-2.06 2.06-.94-2.06-.94-.94-2.06-.94 2.06-2.06.94zm-11 1L8.5 8.5l.94-2.06 2.06-.94-2.06-.94L8.5 2.5l-.94 2.06-2.06.94zm10 10l.94 2.06.94-2.06 2.06-.94-2.06-.94-.94-2.06-.94 2.06-2.06.94z\"/><path d=\"M17.41 7.96l-1.37-1.37c-.4-.4-.92-.59-1.43-.59-.52 0-1.04.2-1.43.59L10.3 9.45l-7.72 7.72c-.78.78-.78 2.05 0 2.83L4 21.41c.39.39.9.59 1.41.59.51 0 1.02-.2 1.41-.59l7.78-7.78 2.81-2.81c.8-.78.8-2.07 0-2.86zM5.41 20L4 18.59l7.72-7.72 1.47 1.35L5.41 20z\"/>\n",
              "  </svg>\n",
              "      </button>\n",
              "      \n",
              "  <style>\n",
              "    .colab-df-container {\n",
              "      display:flex;\n",
              "      flex-wrap:wrap;\n",
              "      gap: 12px;\n",
              "    }\n",
              "\n",
              "    .colab-df-convert {\n",
              "      background-color: #E8F0FE;\n",
              "      border: none;\n",
              "      border-radius: 50%;\n",
              "      cursor: pointer;\n",
              "      display: none;\n",
              "      fill: #1967D2;\n",
              "      height: 32px;\n",
              "      padding: 0 0 0 0;\n",
              "      width: 32px;\n",
              "    }\n",
              "\n",
              "    .colab-df-convert:hover {\n",
              "      background-color: #E2EBFA;\n",
              "      box-shadow: 0px 1px 2px rgba(60, 64, 67, 0.3), 0px 1px 3px 1px rgba(60, 64, 67, 0.15);\n",
              "      fill: #174EA6;\n",
              "    }\n",
              "\n",
              "    [theme=dark] .colab-df-convert {\n",
              "      background-color: #3B4455;\n",
              "      fill: #D2E3FC;\n",
              "    }\n",
              "\n",
              "    [theme=dark] .colab-df-convert:hover {\n",
              "      background-color: #434B5C;\n",
              "      box-shadow: 0px 1px 3px 1px rgba(0, 0, 0, 0.15);\n",
              "      filter: drop-shadow(0px 1px 2px rgba(0, 0, 0, 0.3));\n",
              "      fill: #FFFFFF;\n",
              "    }\n",
              "  </style>\n",
              "\n",
              "      <script>\n",
              "        const buttonEl =\n",
              "          document.querySelector('#df-764070ea-4a17-4790-b990-5f29d80075a9 button.colab-df-convert');\n",
              "        buttonEl.style.display =\n",
              "          google.colab.kernel.accessAllowed ? 'block' : 'none';\n",
              "\n",
              "        async function convertToInteractive(key) {\n",
              "          const element = document.querySelector('#df-764070ea-4a17-4790-b990-5f29d80075a9');\n",
              "          const dataTable =\n",
              "            await google.colab.kernel.invokeFunction('convertToInteractive',\n",
              "                                                     [key], {});\n",
              "          if (!dataTable) return;\n",
              "\n",
              "          const docLinkHtml = 'Like what you see? Visit the ' +\n",
              "            '<a target=\"_blank\" href=https://colab.research.google.com/notebooks/data_table.ipynb>data table notebook</a>'\n",
              "            + ' to learn more about interactive tables.';\n",
              "          element.innerHTML = '';\n",
              "          dataTable['output_type'] = 'display_data';\n",
              "          await google.colab.output.renderOutput(dataTable, element);\n",
              "          const docLink = document.createElement('div');\n",
              "          docLink.innerHTML = docLinkHtml;\n",
              "          element.appendChild(docLink);\n",
              "        }\n",
              "      </script>\n",
              "    </div>\n",
              "  </div>\n",
              "  "
            ]
          },
          "metadata": {},
          "execution_count": 112
        }
      ],
      "source": [
        "train.head()"
      ]
    },
    {
      "cell_type": "code",
      "execution_count": 113,
      "id": "a2f3ea12",
      "metadata": {
        "colab": {
          "base_uri": "https://localhost:8080/",
          "height": 319
        },
        "id": "a2f3ea12",
        "outputId": "176a4c0f-7541-4dff-df66-6acc23c994c9"
      },
      "outputs": [
        {
          "output_type": "execute_result",
          "data": {
            "text/plain": [
              "  POSTED_BY  UNDER_CONSTRUCTION  RERA  BHK_NO. BHK_OR_RK    SQUARE_FT  \\\n",
              "0     Owner                   0     0        1       BHK   545.171340   \n",
              "1    Dealer                   1     1        2       BHK   800.000000   \n",
              "2    Dealer                   0     0        2       BHK  1257.096513   \n",
              "3    Dealer                   0     0        3       BHK  1400.329489   \n",
              "4     Owner                   0     0        1       BHK   430.477830   \n",
              "\n",
              "   READY_TO_MOVE  RESALE             ADDRESS  LONGITUDE   LATITUDE  \n",
              "0              1       1        Kamrej,Surat  21.262000  73.047700  \n",
              "1              0       0     Panvel,Lalitpur  18.966114  73.148278  \n",
              "2              1       1    New Town,Kolkata  22.592200  88.484911  \n",
              "3              1       1  Kalwar Road,Jaipur  26.988300  75.584600  \n",
              "4              1       1   Mai Mandir,Nadiad  22.700000  72.870000  "
            ],
            "text/html": [
              "\n",
              "  <div id=\"df-148bd2a2-4426-4553-9b9e-07666ebe8019\">\n",
              "    <div class=\"colab-df-container\">\n",
              "      <div>\n",
              "<style scoped>\n",
              "    .dataframe tbody tr th:only-of-type {\n",
              "        vertical-align: middle;\n",
              "    }\n",
              "\n",
              "    .dataframe tbody tr th {\n",
              "        vertical-align: top;\n",
              "    }\n",
              "\n",
              "    .dataframe thead th {\n",
              "        text-align: right;\n",
              "    }\n",
              "</style>\n",
              "<table border=\"1\" class=\"dataframe\">\n",
              "  <thead>\n",
              "    <tr style=\"text-align: right;\">\n",
              "      <th></th>\n",
              "      <th>POSTED_BY</th>\n",
              "      <th>UNDER_CONSTRUCTION</th>\n",
              "      <th>RERA</th>\n",
              "      <th>BHK_NO.</th>\n",
              "      <th>BHK_OR_RK</th>\n",
              "      <th>SQUARE_FT</th>\n",
              "      <th>READY_TO_MOVE</th>\n",
              "      <th>RESALE</th>\n",
              "      <th>ADDRESS</th>\n",
              "      <th>LONGITUDE</th>\n",
              "      <th>LATITUDE</th>\n",
              "    </tr>\n",
              "  </thead>\n",
              "  <tbody>\n",
              "    <tr>\n",
              "      <th>0</th>\n",
              "      <td>Owner</td>\n",
              "      <td>0</td>\n",
              "      <td>0</td>\n",
              "      <td>1</td>\n",
              "      <td>BHK</td>\n",
              "      <td>545.171340</td>\n",
              "      <td>1</td>\n",
              "      <td>1</td>\n",
              "      <td>Kamrej,Surat</td>\n",
              "      <td>21.262000</td>\n",
              "      <td>73.047700</td>\n",
              "    </tr>\n",
              "    <tr>\n",
              "      <th>1</th>\n",
              "      <td>Dealer</td>\n",
              "      <td>1</td>\n",
              "      <td>1</td>\n",
              "      <td>2</td>\n",
              "      <td>BHK</td>\n",
              "      <td>800.000000</td>\n",
              "      <td>0</td>\n",
              "      <td>0</td>\n",
              "      <td>Panvel,Lalitpur</td>\n",
              "      <td>18.966114</td>\n",
              "      <td>73.148278</td>\n",
              "    </tr>\n",
              "    <tr>\n",
              "      <th>2</th>\n",
              "      <td>Dealer</td>\n",
              "      <td>0</td>\n",
              "      <td>0</td>\n",
              "      <td>2</td>\n",
              "      <td>BHK</td>\n",
              "      <td>1257.096513</td>\n",
              "      <td>1</td>\n",
              "      <td>1</td>\n",
              "      <td>New Town,Kolkata</td>\n",
              "      <td>22.592200</td>\n",
              "      <td>88.484911</td>\n",
              "    </tr>\n",
              "    <tr>\n",
              "      <th>3</th>\n",
              "      <td>Dealer</td>\n",
              "      <td>0</td>\n",
              "      <td>0</td>\n",
              "      <td>3</td>\n",
              "      <td>BHK</td>\n",
              "      <td>1400.329489</td>\n",
              "      <td>1</td>\n",
              "      <td>1</td>\n",
              "      <td>Kalwar Road,Jaipur</td>\n",
              "      <td>26.988300</td>\n",
              "      <td>75.584600</td>\n",
              "    </tr>\n",
              "    <tr>\n",
              "      <th>4</th>\n",
              "      <td>Owner</td>\n",
              "      <td>0</td>\n",
              "      <td>0</td>\n",
              "      <td>1</td>\n",
              "      <td>BHK</td>\n",
              "      <td>430.477830</td>\n",
              "      <td>1</td>\n",
              "      <td>1</td>\n",
              "      <td>Mai Mandir,Nadiad</td>\n",
              "      <td>22.700000</td>\n",
              "      <td>72.870000</td>\n",
              "    </tr>\n",
              "  </tbody>\n",
              "</table>\n",
              "</div>\n",
              "      <button class=\"colab-df-convert\" onclick=\"convertToInteractive('df-148bd2a2-4426-4553-9b9e-07666ebe8019')\"\n",
              "              title=\"Convert this dataframe to an interactive table.\"\n",
              "              style=\"display:none;\">\n",
              "        \n",
              "  <svg xmlns=\"http://www.w3.org/2000/svg\" height=\"24px\"viewBox=\"0 0 24 24\"\n",
              "       width=\"24px\">\n",
              "    <path d=\"M0 0h24v24H0V0z\" fill=\"none\"/>\n",
              "    <path d=\"M18.56 5.44l.94 2.06.94-2.06 2.06-.94-2.06-.94-.94-2.06-.94 2.06-2.06.94zm-11 1L8.5 8.5l.94-2.06 2.06-.94-2.06-.94L8.5 2.5l-.94 2.06-2.06.94zm10 10l.94 2.06.94-2.06 2.06-.94-2.06-.94-.94-2.06-.94 2.06-2.06.94z\"/><path d=\"M17.41 7.96l-1.37-1.37c-.4-.4-.92-.59-1.43-.59-.52 0-1.04.2-1.43.59L10.3 9.45l-7.72 7.72c-.78.78-.78 2.05 0 2.83L4 21.41c.39.39.9.59 1.41.59.51 0 1.02-.2 1.41-.59l7.78-7.78 2.81-2.81c.8-.78.8-2.07 0-2.86zM5.41 20L4 18.59l7.72-7.72 1.47 1.35L5.41 20z\"/>\n",
              "  </svg>\n",
              "      </button>\n",
              "      \n",
              "  <style>\n",
              "    .colab-df-container {\n",
              "      display:flex;\n",
              "      flex-wrap:wrap;\n",
              "      gap: 12px;\n",
              "    }\n",
              "\n",
              "    .colab-df-convert {\n",
              "      background-color: #E8F0FE;\n",
              "      border: none;\n",
              "      border-radius: 50%;\n",
              "      cursor: pointer;\n",
              "      display: none;\n",
              "      fill: #1967D2;\n",
              "      height: 32px;\n",
              "      padding: 0 0 0 0;\n",
              "      width: 32px;\n",
              "    }\n",
              "\n",
              "    .colab-df-convert:hover {\n",
              "      background-color: #E2EBFA;\n",
              "      box-shadow: 0px 1px 2px rgba(60, 64, 67, 0.3), 0px 1px 3px 1px rgba(60, 64, 67, 0.15);\n",
              "      fill: #174EA6;\n",
              "    }\n",
              "\n",
              "    [theme=dark] .colab-df-convert {\n",
              "      background-color: #3B4455;\n",
              "      fill: #D2E3FC;\n",
              "    }\n",
              "\n",
              "    [theme=dark] .colab-df-convert:hover {\n",
              "      background-color: #434B5C;\n",
              "      box-shadow: 0px 1px 3px 1px rgba(0, 0, 0, 0.15);\n",
              "      filter: drop-shadow(0px 1px 2px rgba(0, 0, 0, 0.3));\n",
              "      fill: #FFFFFF;\n",
              "    }\n",
              "  </style>\n",
              "\n",
              "      <script>\n",
              "        const buttonEl =\n",
              "          document.querySelector('#df-148bd2a2-4426-4553-9b9e-07666ebe8019 button.colab-df-convert');\n",
              "        buttonEl.style.display =\n",
              "          google.colab.kernel.accessAllowed ? 'block' : 'none';\n",
              "\n",
              "        async function convertToInteractive(key) {\n",
              "          const element = document.querySelector('#df-148bd2a2-4426-4553-9b9e-07666ebe8019');\n",
              "          const dataTable =\n",
              "            await google.colab.kernel.invokeFunction('convertToInteractive',\n",
              "                                                     [key], {});\n",
              "          if (!dataTable) return;\n",
              "\n",
              "          const docLinkHtml = 'Like what you see? Visit the ' +\n",
              "            '<a target=\"_blank\" href=https://colab.research.google.com/notebooks/data_table.ipynb>data table notebook</a>'\n",
              "            + ' to learn more about interactive tables.';\n",
              "          element.innerHTML = '';\n",
              "          dataTable['output_type'] = 'display_data';\n",
              "          await google.colab.output.renderOutput(dataTable, element);\n",
              "          const docLink = document.createElement('div');\n",
              "          docLink.innerHTML = docLinkHtml;\n",
              "          element.appendChild(docLink);\n",
              "        }\n",
              "      </script>\n",
              "    </div>\n",
              "  </div>\n",
              "  "
            ]
          },
          "metadata": {},
          "execution_count": 113
        }
      ],
      "source": [
        "test.head()"
      ]
    },
    {
      "cell_type": "markdown",
      "id": "a684cfa2",
      "metadata": {
        "id": "a684cfa2"
      },
      "source": [
        "# Data Visualisation"
      ]
    },
    {
      "cell_type": "code",
      "execution_count": 114,
      "id": "47d2485e",
      "metadata": {
        "colab": {
          "base_uri": "https://localhost:8080/",
          "height": 122
        },
        "id": "47d2485e",
        "outputId": "032eb761-1315-4f18-dd8a-46e9cd3b9c7c"
      },
      "outputs": [
        {
          "output_type": "execute_result",
          "data": {
            "text/plain": [
              "Text(0.5, 1.0, 'Test dataset')"
            ]
          },
          "metadata": {},
          "execution_count": 114
        },
        {
          "output_type": "display_data",
          "data": {
            "text/plain": [
              "<Figure size 1080x360 with 2 Axes>"
            ],
            "image/png": "[encoded data removed]"
          },
          "metadata": {
            "needs_background": "light"
          }
        }
      ],
      "source": [
        "fig, axes = plt.subplots(1,2,figsize=(15,5))\n",
        "sns.countplot(x='POSTED_BY',data=train,ax=axes[0])\n",
        "axes[0].set_title('Train dataset')\n",
        "sns.countplot(x='POSTED_BY',data=test,ax=axes[1])\n",
        "axes[1].set_title('Test dataset')"
      ]
    },
    {
      "cell_type": "code",
      "execution_count": 115,
      "id": "93fec8e2",
      "metadata": {
        "colab": {
          "base_uri": "https://localhost:8080/",
          "height": 122
        },
        "id": "93fec8e2",
        "outputId": "0aa37024-9dd1-49dc-c942-17e9cae72e83",
        "scrolled": true
      },
      "outputs": [
        {
          "output_type": "execute_result",
          "data": {
            "text/plain": [
              "Text(0.5, 1.0, 'Test dataset')"
            ]
          },
          "metadata": {},
          "execution_count": 115
        },
        {
          "output_type": "display_data",
          "data": {
            "text/plain": [
              "<Figure size 1080x360 with 2 Axes>"
            ],
            "image/png": "[encoded data removed]"
          },
          "metadata": {
            "needs_background": "light"
          }
        }
      ],
      "source": [
        "fig, axes = plt.subplots(1,2,figsize=(15,5))\n",
        "sns.countplot(x='BHK_OR_RK',data=train,ax=axes[0])\n",
        "axes[0].set_title('Train dataset')\n",
        "sns.countplot(x='BHK_OR_RK',data=test,ax=axes[1])\n",
        "axes[1].set_title('Test dataset')"
      ]
    },
    {
      "cell_type": "code",
      "execution_count": 116,
      "id": "72e95177",
      "metadata": {
        "colab": {
          "base_uri": "https://localhost:8080/",
          "height": 122
        },
        "id": "72e95177",
        "outputId": "54a01ece-1eab-4676-8e27-8d863bbec9b5"
      },
      "outputs": [
        {
          "output_type": "execute_result",
          "data": {
            "text/plain": [
              "Text(0.5, 1.0, 'Test dataset')"
            ]
          },
          "metadata": {},
          "execution_count": 116
        },
        {
          "output_type": "display_data",
          "data": {
            "text/plain": [
              "<Figure size 1080x360 with 2 Axes>"
            ],
            "image/png": "[encoded data removed]"
          },
          "metadata": {
            "needs_background": "light"
          }
        }
      ],
      "source": [
        "fig, axes = plt.subplots(1,2,figsize=(15,5))\n",
        "sns.countplot(x='UNDER_CONSTRUCTION',data=train,ax=axes[0])\n",
        "axes[0].set_title('Train dataset')\n",
        "sns.countplot(x='UNDER_CONSTRUCTION',data=test,ax=axes[1])\n",
        "axes[1].set_title('Test dataset')"
      ]
    },
    {
      "cell_type": "code",
      "execution_count": 117,
      "id": "1b1fdea0",
      "metadata": {
        "colab": {
          "base_uri": "https://localhost:8080/",
          "height": 105
        },
        "id": "1b1fdea0",
        "outputId": "894a9fd2-8416-40c5-9ea2-a94188de0d96"
      },
      "outputs": [
        {
          "output_type": "execute_result",
          "data": {
            "text/plain": [
              "<matplotlib.axes._subplots.AxesSubplot at 0x7f1b000ff310>"
            ]
          },
          "metadata": {},
          "execution_count": 117
        },
        {
          "output_type": "display_data",
          "data": {
            "text/plain": [
              "<Figure size 1080x360 with 1 Axes>"
            ],
            "image/png": "[encoded data removed]"
          },
          "metadata": {
            "needs_background": "light"
          }
        }
      ],
      "source": [
        "plt.figure(figsize=(15,5))\n",
        "sns.histplot(x='TARGET(PRICE_IN_LACS)',data=train)"
      ]
    },
    {
      "cell_type": "code",
      "execution_count": 118,
      "id": "e778125e",
      "metadata": {
        "colab": {
          "base_uri": "https://localhost:8080/",
          "height": 105
        },
        "id": "e778125e",
        "outputId": "b8ec0630-625d-43ff-ad97-1b1e62b6a92c"
      },
      "outputs": [
        {
          "output_type": "execute_result",
          "data": {
            "text/plain": [
              "<matplotlib.axes._subplots.AxesSubplot at 0x7f1b00081210>"
            ]
          },
          "metadata": {},
          "execution_count": 118
        },
        {
          "output_type": "display_data",
          "data": {
            "text/plain": [
              "<Figure size 1080x360 with 1 Axes>"
            ],
            "image/png": "[encoded data removed]"
          },
          "metadata": {
            "needs_background": "light"
          }
        }
      ],
      "source": [
        "plt.figure(figsize=(15,5))\n",
        "sns.scatterplot(data=train,x='LATITUDE',y='TARGET(PRICE_IN_LACS)')"
      ]
    },
    {
      "cell_type": "code",
      "execution_count": 119,
      "id": "157b0d40",
      "metadata": {
        "colab": {
          "base_uri": "https://localhost:8080/",
          "height": 105
        },
        "id": "157b0d40",
        "outputId": "3f49045b-cb6c-4f6f-dae5-7420eae6593d",
        "scrolled": true
      },
      "outputs": [
        {
          "output_type": "execute_result",
          "data": {
            "text/plain": [
              "<matplotlib.axes._subplots.AxesSubplot at 0x7f1b00069e10>"
            ]
          },
          "metadata": {},
          "execution_count": 119
        },
        {
          "output_type": "display_data",
          "data": {
            "text/plain": [
              "<Figure size 1080x360 with 1 Axes>"
            ],
            "image/png": "[encoded data removed]"
          },
          "metadata": {
            "needs_background": "light"
          }
        }
      ],
      "source": [
        "plt.figure(figsize=(15,5))\n",
        "sns.scatterplot(data=train,x='LONGITUDE',y='TARGET(PRICE_IN_LACS)')"
      ]
    },
    {
      "cell_type": "markdown",
      "id": "232b0c16",
      "metadata": {
        "id": "232b0c16"
      },
      "source": [
        "# Data Cleaning"
      ]
    },
    {
      "cell_type": "code",
      "execution_count": 120,
      "id": "fc746db3",
      "metadata": {
        "id": "fc746db3"
      },
      "outputs": [],
      "source": [
        "train.drop('ADDRESS',axis=1,inplace=True)\n",
        "test.drop('ADDRESS',axis=1,inplace=True)"
      ]
    },
    {
      "cell_type": "code",
      "execution_count": 121,
      "id": "8e7a2070",
      "metadata": {
        "colab": {
          "base_uri": "https://localhost:8080/"
        },
        "id": "8e7a2070",
        "outputId": "145e04c9-1bbd-48b9-83f2-9191685f7370"
      },
      "outputs": [
        {
          "output_type": "execute_result",
          "data": {
            "text/plain": [
              "POSTED_BY                0\n",
              "UNDER_CONSTRUCTION       0\n",
              "RERA                     0\n",
              "BHK_NO.                  0\n",
              "BHK_OR_RK                0\n",
              "SQUARE_FT                0\n",
              "READY_TO_MOVE            0\n",
              "RESALE                   0\n",
              "LONGITUDE                0\n",
              "LATITUDE                 0\n",
              "TARGET(PRICE_IN_LACS)    0\n",
              "dtype: int64"
            ]
          },
          "metadata": {},
          "execution_count": 121
        }
      ],
      "source": [
        "train.isnull().sum()"
      ]
    },
    {
      "cell_type": "code",
      "execution_count": 122,
      "id": "e0ad0d56",
      "metadata": {
        "colab": {
          "base_uri": "https://localhost:8080/"
        },
        "id": "e0ad0d56",
        "outputId": "0d33af94-e9ce-42be-f5fe-8685ad629a97"
      },
      "outputs": [
        {
          "output_type": "execute_result",
          "data": {
            "text/plain": [
              "POSTED_BY             0\n",
              "UNDER_CONSTRUCTION    0\n",
              "RERA                  0\n",
              "BHK_NO.               0\n",
              "BHK_OR_RK             0\n",
              "SQUARE_FT             0\n",
              "READY_TO_MOVE         0\n",
              "RESALE                0\n",
              "LONGITUDE             0\n",
              "LATITUDE              0\n",
              "dtype: int64"
            ]
          },
          "metadata": {},
          "execution_count": 122
        }
      ],
      "source": [
        "test.isnull().sum()"
      ]
    },
    {
      "cell_type": "code",
      "execution_count": 123,
      "id": "3d16e654",
      "metadata": {
        "id": "3d16e654"
      },
      "outputs": [],
      "source": [
        "train = pd.get_dummies(train,columns=['POSTED_BY','BHK_OR_RK'])\n",
        "test = pd.get_dummies(test,columns=['POSTED_BY','BHK_OR_RK'])"
      ]
    },
    {
      "cell_type": "markdown",
      "id": "352b6b88",
      "metadata": {
        "id": "352b6b88"
      },
      "source": [
        "# Model Application"
      ]
    },
    {
      "cell_type": "code",
      "execution_count": 124,
      "id": "9ff23c8f",
      "metadata": {
        "id": "9ff23c8f"
      },
      "outputs": [],
      "source": [
        "from sklearn.model_selection import train_test_split, GridSearchCV\n",
        "from sklearn.linear_model import LinearRegression\n",
        "from sklearn.metrics import r2_score,mean_squared_error\n",
        "from sklearn.tree import DecisionTreeRegressor\n",
        "from sklearn.ensemble import RandomForestRegressor\n",
        "from sklearn.neighbors import KNeighborsRegressor\n",
        "from sklearn.svm import SVR\n",
        "from sklearn.preprocessing import MinMaxScaler,StandardScaler"
      ]
    },
    {
      "cell_type": "code",
      "execution_count": 125,
      "id": "7f8e57ef",
      "metadata": {
        "id": "7f8e57ef"
      },
      "outputs": [],
      "source": [
        "X = train.drop('TARGET(PRICE_IN_LACS)',axis=1)\n",
        "y = train['TARGET(PRICE_IN_LACS)']\n",
        "\n",
        "X_train, X_test, y_train, y_test = train_test_split(X, y, test_size=0.3)"
      ]
    },
    {
      "cell_type": "markdown",
      "id": "0cbbb094",
      "metadata": {
        "id": "0cbbb094"
      },
      "source": [
        "## Linear Regression"
      ]
    },
    {
      "cell_type": "code",
      "execution_count": 126,
      "id": "b83bc7e5",
      "metadata": {
        "colab": {
          "base_uri": "https://localhost:8080/"
        },
        "id": "b83bc7e5",
        "outputId": "1b1ee618-833c-4a30-ae9f-6da7b8c1fc5b"
      },
      "outputs": [
        {
          "output_type": "stream",
          "name": "stdout",
          "text": [
            "0.28671939138113445\n",
            "560.8059762953637\n"
          ]
        }
      ],
      "source": [
        "linmodel = LinearRegression()\n",
        "\n",
        "linmodel.fit(X_train,y_train)\n",
        "pred_lin = linmodel.predict(X_test)\n",
        "train_pred_lin = linmodel.predict(X_train)\n",
        "\n",
        "print(r2_score(y_test,pred_lin))\n",
        "print(mean_squared_error(y_test,pred_lin)**0.5)"
      ]
    },
    {
      "cell_type": "markdown",
      "id": "b8bf8a4c",
      "metadata": {
        "id": "b8bf8a4c"
      },
      "source": [
        "## Decision Tree Regressor"
      ]
    },
    {
      "cell_type": "code",
      "execution_count": 127,
      "id": "61c7957a",
      "metadata": {
        "colab": {
          "base_uri": "https://localhost:8080/"
        },
        "id": "61c7957a",
        "outputId": "6933d291-02a9-45e2-b16d-f077f8982f96"
      },
      "outputs": [
        {
          "output_type": "stream",
          "name": "stdout",
          "text": [
            "0.9206369847741867\n",
            "187.06455457786495\n"
          ]
        }
      ],
      "source": [
        "dtree = DecisionTreeRegressor()\n",
        "\n",
        "dtree.fit(X_train,y_train)\n",
        "pred_dtree = dtree.predict(X_test)\n",
        "train_pred_dtree = dtree.predict(X_train)\n",
        "\n",
        "print(r2_score(y_test,pred_dtree))\n",
        "print(mean_squared_error(y_test,pred_dtree)**0.5)"
      ]
    },
    {
      "cell_type": "markdown",
      "id": "4c378b87",
      "metadata": {
        "id": "4c378b87"
      },
      "source": [
        "## Random Forest Regressor"
      ]
    },
    {
      "cell_type": "code",
      "execution_count": 128,
      "id": "7e6764a1",
      "metadata": {
        "colab": {
          "base_uri": "https://localhost:8080/"
        },
        "id": "7e6764a1",
        "outputId": "7bfa3793-0ee8-4e31-c335-0f73225bb3dd"
      },
      "outputs": [
        {
          "output_type": "stream",
          "name": "stdout",
          "text": [
            "0.9445390871302498\n",
            "156.37809967807456\n"
          ]
        }
      ],
      "source": [
        "rfr = RandomForestRegressor()\n",
        "\n",
        "rfr.fit(X_train,y_train)\n",
        "pred_rfr = rfr.predict(X_test)\n",
        "train_pred_rfr = rfr.predict(X_train)\n",
        "\n",
        "print(r2_score(y_test,pred_rfr))\n",
        "print(mean_squared_error(y_test,pred_rfr)**0.5)"
      ]
    },
    {
      "cell_type": "markdown",
      "id": "50f4ccb8",
      "metadata": {
        "id": "50f4ccb8"
      },
      "source": [
        "## K Nearest Neighbors Regressor"
      ]
    },
    {
      "cell_type": "code",
      "execution_count": 129,
      "id": "e9881480",
      "metadata": {
        "colab": {
          "base_uri": "https://localhost:8080/"
        },
        "id": "e9881480",
        "outputId": "052baab6-31d0-4e63-8b41-557958232bbb"
      },
      "outputs": [
        {
          "output_type": "stream",
          "name": "stdout",
          "text": [
            "0.4196352086630829\n"
          ]
        }
      ],
      "source": [
        "knn = KNeighborsRegressor()\n",
        "\n",
        "scalerx = StandardScaler()\n",
        "scaled_X_train = scalerx.fit_transform(X_train)\n",
        "scaled_X_test = scalerx.transform(X_test)\n",
        "\n",
        "knn.fit(scaled_X_train,y_train)\n",
        "pred_knn = knn.predict(scaled_X_test)\n",
        "train_pred_knn = knn.predict(scaled_X_train)\n",
        "\n",
        "print(r2_score(y_test,pred_knn))"
      ]
    },
    {
      "cell_type": "code",
      "execution_count": 130,
      "id": "4c1798b9",
      "metadata": {
        "id": "4c1798b9"
      },
      "outputs": [],
      "source": [
        "scores = []\n",
        "\n",
        "for i in range(1,16):\n",
        "    kni = KNeighborsRegressor(n_neighbors=i)\n",
        "    kni.fit(scaled_X_train,y_train)\n",
        "    pred_kni = kni.predict(scaled_X_test)\n",
        "    scores.append(r2_score(y_test,pred_kni))\n"
      ]
    },
    {
      "cell_type": "code",
      "execution_count": 131,
      "id": "53128b77",
      "metadata": {
        "colab": {
          "base_uri": "https://localhost:8080/",
          "height": 422
        },
        "id": "53128b77",
        "outputId": "febbb705-d25b-43e6-9e1b-2263ce441d01"
      },
      "outputs": [
        {
          "output_type": "execute_result",
          "data": {
            "text/plain": [
              "Text(0, 0.5, 'r2_score')"
            ]
          },
          "metadata": {},
          "execution_count": 131
        },
        {
          "output_type": "display_data",
          "data": {
            "text/plain": [
              "<Figure size 720x432 with 1 Axes>"
            ],
            "image/png": "[encoded data removed]"
          },
          "metadata": {
            "needs_background": "light"
          }
        }
      ],
      "source": [
        "plt.figure(figsize=(10,6))\n",
        "plt.plot(range(1,16),scores,markersize=10,marker='o',markerfacecolor='orange')\n",
        "plt.title('R2_score for different values of n_neighbors')\n",
        "plt.xlabel('n_neighbors')\n",
        "plt.ylabel('r2_score')"
      ]
    },
    {
      "cell_type": "code",
      "execution_count": 132,
      "id": "be74f627",
      "metadata": {
        "colab": {
          "base_uri": "https://localhost:8080/"
        },
        "id": "be74f627",
        "outputId": "f4022719-8ab6-451b-ec15-f15618abf3d8"
      },
      "outputs": [
        {
          "output_type": "stream",
          "name": "stdout",
          "text": [
            "0.6515055976918396\n"
          ]
        }
      ],
      "source": [
        "knr = KNeighborsRegressor(n_neighbors=2)\n",
        "\n",
        "knr.fit(scaled_X_train,y_train)\n",
        "pred_knr = knr.predict(scaled_X_test)\n",
        "train_pred_knr = knr.predict(scaled_X_train)\n",
        "\n",
        "print(r2_score(y_test,pred_knr))"
      ]
    },
    {
      "cell_type": "markdown",
      "id": "2ebfdba6",
      "metadata": {
        "id": "2ebfdba6"
      },
      "source": [
        "## Support Vector Machines Regressor"
      ]
    },
    {
      "cell_type": "code",
      "execution_count": 133,
      "id": "50bd0c92",
      "metadata": {
        "colab": {
          "base_uri": "https://localhost:8080/"
        },
        "id": "50bd0c92",
        "outputId": "c66f26e9-fdff-4c4b-e6e0-2ed186cf71ff"
      },
      "outputs": [
        {
          "output_type": "stream",
          "name": "stdout",
          "text": [
            "0.024218539457167787\n"
          ]
        }
      ],
      "source": [
        "svr = SVR()\n",
        "\n",
        "scalery = StandardScaler()\n",
        "scaled_y_train = scalery.fit_transform(y_train.values.reshape(-1,1))\n",
        "scaled_y_test = scalery.transform(y_test.values.reshape(-1,1))\n",
        "\n",
        "scaled_y_train = scaled_y_train.reshape(20615,)\n",
        "scaled_y_test = scaled_y_test.reshape(8836,)\n",
        "\n",
        "svr.fit(scaled_X_train,scaled_y_train)\n",
        "pred_svr = svr.predict(scaled_X_test)\n",
        "train_pred_svr = svr.predict(scaled_X_train)\n",
        "\n",
        "print(r2_score(scaled_y_test,pred_svr))"
      ]
    },
    {
      "cell_type": "code",
      "execution_count": 134,
      "id": "c9ea2e8a",
      "metadata": {
        "colab": {
          "base_uri": "https://localhost:8080/"
        },
        "id": "c9ea2e8a",
        "outputId": "e5dc03a9-f5cd-4bf9-eacc-65b7bed2b953",
        "scrolled": false
      },
      "outputs": [
        {
          "output_type": "stream",
          "name": "stdout",
          "text": [
            "Fitting 3 folds for each of 9 candidates, totalling 27 fits\n",
            "[CV 1/3] END ......................C=1, gamma=1;, score=0.048 total time=   5.1s\n",
            "[CV 2/3] END ......................C=1, gamma=1;, score=0.028 total time=   5.1s\n",
            "[CV 3/3] END ......................C=1, gamma=1;, score=0.039 total time=   4.9s\n",
            "[CV 1/3] END .....................C=1, gamma=10;, score=0.066 total time=   5.8s\n",
            "[CV 2/3] END .....................C=1, gamma=10;, score=0.041 total time=   5.8s\n",
            "[CV 3/3] END .....................C=1, gamma=10;, score=0.053 total time=   5.6s\n",
            "[CV 1/3] END ....................C=1, gamma=100;, score=0.132 total time=   5.0s\n",
            "[CV 2/3] END ....................C=1, gamma=100;, score=0.094 total time=   5.0s\n",
            "[CV 3/3] END ....................C=1, gamma=100;, score=0.110 total time=   4.9s\n",
            "[CV 1/3] END .....................C=10, gamma=1;, score=0.050 total time=   6.4s\n",
            "[CV 2/3] END .....................C=10, gamma=1;, score=0.052 total time=   6.5s\n",
            "[CV 3/3] END .....................C=10, gamma=1;, score=0.045 total time=   6.2s\n",
            "[CV 1/3] END ....................C=10, gamma=10;, score=0.154 total time=   7.6s\n",
            "[CV 2/3] END ....................C=10, gamma=10;, score=0.142 total time=   7.4s\n",
            "[CV 3/3] END ....................C=10, gamma=10;, score=0.132 total time=   7.6s\n",
            "[CV 1/3] END ...................C=10, gamma=100;, score=0.514 total time=   6.9s\n",
            "[CV 2/3] END ...................C=10, gamma=100;, score=0.423 total time=   6.7s\n",
            "[CV 3/3] END ...................C=10, gamma=100;, score=0.457 total time=   6.4s\n",
            "[CV 1/3] END ....................C=100, gamma=1;, score=0.242 total time=  12.7s\n",
            "[CV 2/3] END ....................C=100, gamma=1;, score=0.227 total time=  13.5s\n",
            "[CV 3/3] END ....................C=100, gamma=1;, score=0.201 total time=  13.8s\n",
            "[CV 1/3] END ...................C=100, gamma=10;, score=0.508 total time=  15.4s\n",
            "[CV 2/3] END ...................C=100, gamma=10;, score=0.448 total time=  15.9s\n",
            "[CV 3/3] END ...................C=100, gamma=10;, score=0.472 total time=  15.2s\n",
            "[CV 1/3] END ..................C=100, gamma=100;, score=0.614 total time=  11.5s\n",
            "[CV 2/3] END ..................C=100, gamma=100;, score=0.531 total time=  11.5s\n",
            "[CV 3/3] END ..................C=100, gamma=100;, score=0.506 total time=  11.3s\n"
          ]
        },
        {
          "output_type": "execute_result",
          "data": {
            "text/plain": [
              "GridSearchCV(cv=3, estimator=SVR(),\n",
              "             param_grid={'C': [1, 10, 100], 'gamma': [1, 10, 100]}, verbose=5)"
            ]
          },
          "metadata": {},
          "execution_count": 134
        }
      ],
      "source": [
        "param_grid = {'C': [1,10,100], 'gamma': [1,10,100]}\n",
        "\n",
        "grid = GridSearchCV(SVR(),param_grid,refit=True,verbose=5,cv=3)\n",
        "grid.fit(scaled_X_train,scaled_y_train)"
      ]
    },
    {
      "cell_type": "code",
      "execution_count": 135,
      "id": "9D9VdS_aIwlh",
      "metadata": {
        "colab": {
          "base_uri": "https://localhost:8080/"
        },
        "id": "9D9VdS_aIwlh",
        "outputId": "f2ae3059-f929-4fe1-d206-a293bd80bdaa"
      },
      "outputs": [
        {
          "output_type": "execute_result",
          "data": {
            "text/plain": [
              "SVR(C=100, gamma=100)"
            ]
          },
          "metadata": {},
          "execution_count": 135
        }
      ],
      "source": [
        "grid.best_estimator_"
      ]
    },
    {
      "cell_type": "code",
      "execution_count": 136,
      "id": "QchKToL-Ranp",
      "metadata": {
        "id": "QchKToL-Ranp"
      },
      "outputs": [],
      "source": [
        "pred_f_svr = grid.predict(scaled_X_test)\n",
        "train_pred_f_svr = grid.predict(scaled_X_train)"
      ]
    },
    {
      "cell_type": "code",
      "execution_count": 137,
      "id": "GMI_q4yBStlr",
      "metadata": {
        "colab": {
          "base_uri": "https://localhost:8080/"
        },
        "id": "GMI_q4yBStlr",
        "outputId": "db17a3ed-6144-47d4-e9e7-47192c2a235b"
      },
      "outputs": [
        {
          "output_type": "stream",
          "name": "stdout",
          "text": [
            "0.5234482955451456\n"
          ]
        }
      ],
      "source": [
        "print(r2_score(scaled_y_test,pred_f_svr))"
      ]
    },
    {
      "cell_type": "markdown",
      "id": "ljrhGHVdEZbu",
      "metadata": {
        "id": "ljrhGHVdEZbu"
      },
      "source": [
        "## Neural Networks"
      ]
    },
    {
      "cell_type": "code",
      "execution_count": 138,
      "id": "536827dc",
      "metadata": {
        "id": "536827dc"
      },
      "outputs": [],
      "source": [
        "import tensorflow as tf\n",
        "from tensorflow.keras.models import Sequential\n",
        "from tensorflow.keras.layers import Dense,Dropout"
      ]
    },
    {
      "cell_type": "code",
      "execution_count": 139,
      "id": "6rBSZliJEoi_",
      "metadata": {
        "id": "6rBSZliJEoi_"
      },
      "outputs": [],
      "source": [
        "model = Sequential()\n",
        "\n",
        "model.add(Dense(13,activation='relu'))\n",
        "model.add(Dense(1,activation='linear'))\n",
        "\n",
        "model.compile(loss='mean_squared_error',optimizer='adam')"
      ]
    },
    {
      "cell_type": "code",
      "execution_count": 140,
      "id": "vvcKFOTvGdVH",
      "metadata": {
        "colab": {
          "base_uri": "https://localhost:8080/"
        },
        "id": "vvcKFOTvGdVH",
        "outputId": "b06a02f4-a224-4ca0-f9d9-acdcb6f8da3e"
      },
      "outputs": [
        {
          "output_type": "stream",
          "name": "stdout",
          "text": [
            "Epoch 1/500\n",
            "81/81 [==============================] - 1s 4ms/step - loss: 1.2804 - val_loss: 1.0104\n",
            "Epoch 2/500\n",
            "81/81 [==============================] - 0s 2ms/step - loss: 0.9435 - val_loss: 0.8499\n",
            "Epoch 3/500\n",
            "81/81 [==============================] - 0s 3ms/step - loss: 0.8503 - val_loss: 0.7923\n",
            "Epoch 4/500\n",
            "81/81 [==============================] - 0s 2ms/step - loss: 0.8172 - val_loss: 0.7665\n",
            "Epoch 5/500\n",
            "81/81 [==============================] - 0s 3ms/step - loss: 0.8026 - val_loss: 0.7548\n",
            "Epoch 6/500\n",
            "81/81 [==============================] - 0s 3ms/step - loss: 0.7971 - val_loss: 0.7476\n",
            "Epoch 7/500\n",
            "81/81 [==============================] - 0s 2ms/step - loss: 0.7932 - val_loss: 0.7439\n",
            "Epoch 8/500\n",
            "81/81 [==============================] - 0s 3ms/step - loss: 0.7919 - val_loss: 0.7400\n",
            "Epoch 9/500\n",
            "81/81 [==============================] - 0s 2ms/step - loss: 0.7856 - val_loss: 0.7432\n",
            "Epoch 10/500\n",
            "81/81 [==============================] - 0s 2ms/step - loss: 0.7844 - val_loss: 0.7414\n",
            "Epoch 11/500\n",
            "81/81 [==============================] - 0s 2ms/step - loss: 0.7843 - val_loss: 0.7399\n",
            "Epoch 12/500\n",
            "81/81 [==============================] - 0s 3ms/step - loss: 0.7806 - val_loss: 0.7368\n",
            "Epoch 13/500\n",
            "81/81 [==============================] - 0s 2ms/step - loss: 0.7817 - val_loss: 0.7372\n",
            "Epoch 14/500\n",
            "81/81 [==============================] - 0s 2ms/step - loss: 0.7795 - val_loss: 0.7373\n",
            "Epoch 15/500\n",
            "81/81 [==============================] - 0s 2ms/step - loss: 0.7809 - val_loss: 0.7396\n",
            "Epoch 16/500\n",
            "81/81 [==============================] - 0s 2ms/step - loss: 0.7785 - val_loss: 0.7387\n",
            "Epoch 17/500\n",
            "81/81 [==============================] - 0s 3ms/step - loss: 0.7785 - val_loss: 0.7394\n",
            "Epoch 18/500\n",
            "81/81 [==============================] - 0s 2ms/step - loss: 0.7770 - val_loss: 0.7389\n",
            "Epoch 19/500\n",
            "81/81 [==============================] - 0s 2ms/step - loss: 0.7766 - val_loss: 0.7373\n",
            "Epoch 20/500\n",
            "81/81 [==============================] - 0s 2ms/step - loss: 0.7757 - val_loss: 0.7373\n",
            "Epoch 21/500\n",
            "81/81 [==============================] - 0s 2ms/step - loss: 0.7757 - val_loss: 0.7384\n",
            "Epoch 22/500\n",
            "81/81 [==============================] - 0s 2ms/step - loss: 0.7723 - val_loss: 0.7377\n",
            "Epoch 23/500\n",
            "81/81 [==============================] - 0s 3ms/step - loss: 0.7744 - val_loss: 0.7383\n",
            "Epoch 24/500\n",
            "81/81 [==============================] - 0s 3ms/step - loss: 0.7738 - val_loss: 0.7368\n",
            "Epoch 25/500\n",
            "81/81 [==============================] - 0s 2ms/step - loss: 0.7728 - val_loss: 0.7395\n",
            "Epoch 26/500\n",
            "81/81 [==============================] - 0s 2ms/step - loss: 0.7719 - val_loss: 0.7409\n",
            "Epoch 27/500\n",
            "81/81 [==============================] - 0s 3ms/step - loss: 0.7702 - val_loss: 0.7405\n",
            "Epoch 28/500\n",
            "81/81 [==============================] - 0s 2ms/step - loss: 0.7708 - val_loss: 0.7390\n",
            "Epoch 29/500\n",
            "81/81 [==============================] - 0s 3ms/step - loss: 0.7689 - val_loss: 0.7421\n",
            "Epoch 30/500\n",
            "81/81 [==============================] - 0s 3ms/step - loss: 0.7697 - val_loss: 0.7409\n",
            "Epoch 31/500\n",
            "81/81 [==============================] - 0s 2ms/step - loss: 0.7679 - val_loss: 0.7422\n",
            "Epoch 32/500\n",
            "81/81 [==============================] - 0s 2ms/step - loss: 0.7662 - val_loss: 0.7327\n",
            "Epoch 33/500\n",
            "81/81 [==============================] - 0s 3ms/step - loss: 0.7690 - val_loss: 0.7379\n",
            "Epoch 34/500\n",
            "81/81 [==============================] - 0s 3ms/step - loss: 0.7677 - val_loss: 0.7382\n",
            "Epoch 35/500\n",
            "81/81 [==============================] - 0s 2ms/step - loss: 0.7657 - val_loss: 0.7436\n",
            "Epoch 36/500\n",
            "81/81 [==============================] - 0s 2ms/step - loss: 0.7638 - val_loss: 0.7408\n",
            "Epoch 37/500\n",
            "81/81 [==============================] - 0s 3ms/step - loss: 0.7620 - val_loss: 0.7357\n",
            "Epoch 38/500\n",
            "81/81 [==============================] - 0s 2ms/step - loss: 0.7643 - val_loss: 0.7321\n",
            "Epoch 39/500\n",
            "81/81 [==============================] - 0s 3ms/step - loss: 0.7615 - val_loss: 0.7388\n",
            "Epoch 40/500\n",
            "81/81 [==============================] - 0s 3ms/step - loss: 0.7608 - val_loss: 0.7396\n",
            "Epoch 41/500\n",
            "81/81 [==============================] - 0s 3ms/step - loss: 0.7586 - val_loss: 0.7336\n",
            "Epoch 42/500\n",
            "81/81 [==============================] - 0s 2ms/step - loss: 0.7610 - val_loss: 0.7389\n",
            "Epoch 43/500\n",
            "81/81 [==============================] - 0s 2ms/step - loss: 0.7616 - val_loss: 0.7382\n",
            "Epoch 44/500\n",
            "81/81 [==============================] - 0s 2ms/step - loss: 0.7586 - val_loss: 0.7342\n",
            "Epoch 45/500\n",
            "81/81 [==============================] - 0s 3ms/step - loss: 0.7582 - val_loss: 0.7384\n",
            "Epoch 46/500\n",
            "81/81 [==============================] - 0s 3ms/step - loss: 0.7569 - val_loss: 0.7340\n",
            "Epoch 47/500\n",
            "81/81 [==============================] - 0s 3ms/step - loss: 0.7588 - val_loss: 0.7344\n",
            "Epoch 48/500\n",
            "81/81 [==============================] - 0s 2ms/step - loss: 0.7534 - val_loss: 0.7316\n",
            "Epoch 49/500\n",
            "81/81 [==============================] - 0s 2ms/step - loss: 0.7567 - val_loss: 0.7347\n",
            "Epoch 50/500\n",
            "81/81 [==============================] - 0s 2ms/step - loss: 0.7533 - val_loss: 0.7330\n",
            "Epoch 51/500\n",
            "81/81 [==============================] - 0s 2ms/step - loss: 0.7548 - val_loss: 0.7370\n",
            "Epoch 52/500\n",
            "81/81 [==============================] - 0s 2ms/step - loss: 0.7532 - val_loss: 0.7348\n",
            "Epoch 53/500\n",
            "81/81 [==============================] - 0s 3ms/step - loss: 0.7530 - val_loss: 0.7343\n",
            "Epoch 54/500\n",
            "81/81 [==============================] - 0s 2ms/step - loss: 0.7514 - val_loss: 0.7327\n",
            "Epoch 55/500\n",
            "81/81 [==============================] - 0s 2ms/step - loss: 0.7497 - val_loss: 0.7365\n",
            "Epoch 56/500\n",
            "81/81 [==============================] - 0s 2ms/step - loss: 0.7486 - val_loss: 0.7281\n",
            "Epoch 57/500\n",
            "81/81 [==============================] - 0s 2ms/step - loss: 0.7474 - val_loss: 0.7290\n",
            "Epoch 58/500\n",
            "81/81 [==============================] - 0s 2ms/step - loss: 0.7480 - val_loss: 0.7298\n",
            "Epoch 59/500\n",
            "81/81 [==============================] - 0s 2ms/step - loss: 0.7459 - val_loss: 0.7337\n",
            "Epoch 60/500\n",
            "81/81 [==============================] - 0s 2ms/step - loss: 0.7445 - val_loss: 0.7268\n",
            "Epoch 61/500\n",
            "81/81 [==============================] - 0s 2ms/step - loss: 0.7432 - val_loss: 0.7281\n",
            "Epoch 62/500\n",
            "81/81 [==============================] - 0s 3ms/step - loss: 0.7430 - val_loss: 0.7298\n",
            "Epoch 63/500\n",
            "81/81 [==============================] - 0s 3ms/step - loss: 0.7395 - val_loss: 0.7239\n",
            "Epoch 64/500\n",
            "81/81 [==============================] - 0s 2ms/step - loss: 0.7384 - val_loss: 0.7216\n",
            "Epoch 65/500\n",
            "81/81 [==============================] - 0s 2ms/step - loss: 0.7409 - val_loss: 0.7198\n",
            "Epoch 66/500\n",
            "81/81 [==============================] - 0s 2ms/step - loss: 0.7406 - val_loss: 0.7240\n",
            "Epoch 67/500\n",
            "81/81 [==============================] - 0s 2ms/step - loss: 0.7372 - val_loss: 0.7249\n",
            "Epoch 68/500\n",
            "81/81 [==============================] - 0s 3ms/step - loss: 0.7347 - val_loss: 0.7259\n",
            "Epoch 69/500\n",
            "81/81 [==============================] - 0s 2ms/step - loss: 0.7348 - val_loss: 0.7228\n",
            "Epoch 70/500\n",
            "81/81 [==============================] - 0s 2ms/step - loss: 0.7331 - val_loss: 0.7242\n",
            "Epoch 71/500\n",
            "81/81 [==============================] - 0s 2ms/step - loss: 0.7309 - val_loss: 0.7141\n",
            "Epoch 72/500\n",
            "81/81 [==============================] - 0s 2ms/step - loss: 0.7304 - val_loss: 0.7158\n",
            "Epoch 73/500\n",
            "81/81 [==============================] - 0s 3ms/step - loss: 0.7287 - val_loss: 0.7144\n",
            "Epoch 74/500\n",
            "81/81 [==============================] - 0s 3ms/step - loss: 0.7245 - val_loss: 0.7104\n",
            "Epoch 75/500\n",
            "81/81 [==============================] - 0s 2ms/step - loss: 0.7247 - val_loss: 0.7123\n",
            "Epoch 76/500\n",
            "81/81 [==============================] - 0s 2ms/step - loss: 0.7236 - val_loss: 0.7078\n",
            "Epoch 77/500\n",
            "81/81 [==============================] - 0s 2ms/step - loss: 0.7224 - val_loss: 0.7075\n",
            "Epoch 78/500\n",
            "81/81 [==============================] - 0s 3ms/step - loss: 0.7202 - val_loss: 0.7083\n",
            "Epoch 79/500\n",
            "81/81 [==============================] - 0s 2ms/step - loss: 0.7167 - val_loss: 0.7036\n",
            "Epoch 80/500\n",
            "81/81 [==============================] - 0s 3ms/step - loss: 0.7172 - val_loss: 0.7019\n",
            "Epoch 81/500\n",
            "81/81 [==============================] - 0s 2ms/step - loss: 0.7131 - val_loss: 0.6999\n",
            "Epoch 82/500\n",
            "81/81 [==============================] - 0s 2ms/step - loss: 0.7093 - val_loss: 0.6920\n",
            "Epoch 83/500\n",
            "81/81 [==============================] - 0s 2ms/step - loss: 0.7069 - val_loss: 0.6939\n",
            "Epoch 84/500\n",
            "81/81 [==============================] - 0s 3ms/step - loss: 0.7046 - val_loss: 0.6880\n",
            "Epoch 85/500\n",
            "81/81 [==============================] - 0s 2ms/step - loss: 0.7018 - val_loss: 0.6852\n",
            "Epoch 86/500\n",
            "81/81 [==============================] - 0s 2ms/step - loss: 0.6996 - val_loss: 0.6834\n",
            "Epoch 87/500\n",
            "81/81 [==============================] - 0s 3ms/step - loss: 0.6946 - val_loss: 0.6791\n",
            "Epoch 88/500\n",
            "81/81 [==============================] - 0s 2ms/step - loss: 0.6920 - val_loss: 0.6841\n",
            "Epoch 89/500\n",
            "81/81 [==============================] - 0s 2ms/step - loss: 0.6919 - val_loss: 0.6700\n",
            "Epoch 90/500\n",
            "81/81 [==============================] - 0s 2ms/step - loss: 0.6888 - val_loss: 0.6712\n",
            "Epoch 91/500\n",
            "81/81 [==============================] - 0s 2ms/step - loss: 0.6842 - val_loss: 0.6638\n",
            "Epoch 92/500\n",
            "81/81 [==============================] - 0s 2ms/step - loss: 0.6804 - val_loss: 0.6583\n",
            "Epoch 93/500\n",
            "81/81 [==============================] - 0s 2ms/step - loss: 0.6767 - val_loss: 0.6554\n",
            "Epoch 94/500\n",
            "81/81 [==============================] - 0s 3ms/step - loss: 0.6769 - val_loss: 0.6584\n",
            "Epoch 95/500\n",
            "81/81 [==============================] - 0s 2ms/step - loss: 0.6717 - val_loss: 0.6467\n",
            "Epoch 96/500\n",
            "81/81 [==============================] - 0s 2ms/step - loss: 0.6652 - val_loss: 0.6503\n",
            "Epoch 97/500\n",
            "81/81 [==============================] - 0s 2ms/step - loss: 0.6659 - val_loss: 0.6368\n",
            "Epoch 98/500\n",
            "81/81 [==============================] - 0s 2ms/step - loss: 0.6608 - val_loss: 0.6433\n",
            "Epoch 99/500\n",
            "81/81 [==============================] - 0s 2ms/step - loss: 0.6558 - val_loss: 0.6415\n",
            "Epoch 100/500\n",
            "81/81 [==============================] - 0s 3ms/step - loss: 0.6534 - val_loss: 0.6366\n",
            "Epoch 101/500\n",
            "81/81 [==============================] - 0s 2ms/step - loss: 0.6485 - val_loss: 0.6292\n",
            "Epoch 102/500\n",
            "81/81 [==============================] - 0s 3ms/step - loss: 0.6453 - val_loss: 0.6273\n",
            "Epoch 103/500\n",
            "81/81 [==============================] - 0s 2ms/step - loss: 0.6399 - val_loss: 0.6234\n",
            "Epoch 104/500\n",
            "81/81 [==============================] - 0s 2ms/step - loss: 0.6374 - val_loss: 0.6124\n",
            "Epoch 105/500\n",
            "81/81 [==============================] - 0s 2ms/step - loss: 0.6351 - val_loss: 0.6102\n",
            "Epoch 106/500\n",
            "81/81 [==============================] - 0s 2ms/step - loss: 0.6289 - val_loss: 0.6056\n",
            "Epoch 107/500\n",
            "81/81 [==============================] - 0s 2ms/step - loss: 0.6257 - val_loss: 0.6051\n",
            "Epoch 108/500\n",
            "81/81 [==============================] - 0s 2ms/step - loss: 0.6199 - val_loss: 0.5982\n",
            "Epoch 109/500\n",
            "81/81 [==============================] - 0s 3ms/step - loss: 0.6169 - val_loss: 0.5900\n",
            "Epoch 110/500\n",
            "81/81 [==============================] - 0s 3ms/step - loss: 0.6103 - val_loss: 0.5878\n",
            "Epoch 111/500\n",
            "81/81 [==============================] - 0s 2ms/step - loss: 0.6089 - val_loss: 0.5866\n",
            "Epoch 112/500\n",
            "81/81 [==============================] - 0s 2ms/step - loss: 0.6022 - val_loss: 0.5761\n",
            "Epoch 113/500\n",
            "81/81 [==============================] - 0s 3ms/step - loss: 0.6012 - val_loss: 0.5749\n",
            "Epoch 114/500\n",
            "81/81 [==============================] - 0s 2ms/step - loss: 0.5945 - val_loss: 0.5700\n",
            "Epoch 115/500\n",
            "81/81 [==============================] - 0s 2ms/step - loss: 0.5910 - val_loss: 0.5668\n",
            "Epoch 116/500\n",
            "81/81 [==============================] - 0s 2ms/step - loss: 0.5863 - val_loss: 0.5631\n",
            "Epoch 117/500\n",
            "81/81 [==============================] - 0s 2ms/step - loss: 0.5828 - val_loss: 0.5446\n",
            "Epoch 118/500\n",
            "81/81 [==============================] - 0s 2ms/step - loss: 0.5765 - val_loss: 0.5501\n",
            "Epoch 119/500\n",
            "81/81 [==============================] - 0s 3ms/step - loss: 0.5712 - val_loss: 0.5428\n",
            "Epoch 120/500\n",
            "81/81 [==============================] - 0s 2ms/step - loss: 0.5681 - val_loss: 0.5372\n",
            "Epoch 121/500\n",
            "81/81 [==============================] - 0s 3ms/step - loss: 0.5648 - val_loss: 0.5447\n",
            "Epoch 122/500\n",
            "81/81 [==============================] - 0s 2ms/step - loss: 0.5565 - val_loss: 0.5326\n",
            "Epoch 123/500\n",
            "81/81 [==============================] - 0s 3ms/step - loss: 0.5530 - val_loss: 0.5247\n",
            "Epoch 124/500\n",
            "81/81 [==============================] - 0s 2ms/step - loss: 0.5470 - val_loss: 0.5207\n",
            "Epoch 125/500\n",
            "81/81 [==============================] - 0s 2ms/step - loss: 0.5441 - val_loss: 0.5182\n",
            "Epoch 126/500\n",
            "81/81 [==============================] - 0s 2ms/step - loss: 0.5376 - val_loss: 0.5118\n",
            "Epoch 127/500\n",
            "81/81 [==============================] - 0s 2ms/step - loss: 0.5321 - val_loss: 0.5104\n",
            "Epoch 128/500\n",
            "81/81 [==============================] - 0s 3ms/step - loss: 0.5265 - val_loss: 0.4947\n",
            "Epoch 129/500\n",
            "81/81 [==============================] - 0s 2ms/step - loss: 0.5240 - val_loss: 0.4934\n",
            "Epoch 130/500\n",
            "81/81 [==============================] - 0s 2ms/step - loss: 0.5159 - val_loss: 0.4879\n",
            "Epoch 131/500\n",
            "81/81 [==============================] - 0s 2ms/step - loss: 0.5119 - val_loss: 0.4816\n",
            "Epoch 132/500\n",
            "81/81 [==============================] - 0s 3ms/step - loss: 0.5071 - val_loss: 0.4778\n",
            "Epoch 133/500\n",
            "81/81 [==============================] - 0s 2ms/step - loss: 0.4998 - val_loss: 0.4735\n",
            "Epoch 134/500\n",
            "81/81 [==============================] - 0s 2ms/step - loss: 0.4965 - val_loss: 0.4726\n",
            "Epoch 135/500\n",
            "81/81 [==============================] - 0s 2ms/step - loss: 0.4920 - val_loss: 0.4590\n",
            "Epoch 136/500\n",
            "81/81 [==============================] - 0s 3ms/step - loss: 0.4869 - val_loss: 0.4497\n",
            "Epoch 137/500\n",
            "81/81 [==============================] - 0s 3ms/step - loss: 0.4795 - val_loss: 0.4503\n",
            "Epoch 138/500\n",
            "81/81 [==============================] - 0s 3ms/step - loss: 0.4778 - val_loss: 0.4486\n",
            "Epoch 139/500\n",
            "81/81 [==============================] - 0s 3ms/step - loss: 0.4720 - val_loss: 0.4382\n",
            "Epoch 140/500\n",
            "81/81 [==============================] - 0s 3ms/step - loss: 0.4649 - val_loss: 0.4298\n",
            "Epoch 141/500\n",
            "81/81 [==============================] - 0s 3ms/step - loss: 0.4577 - val_loss: 0.4284\n",
            "Epoch 142/500\n",
            "81/81 [==============================] - 0s 3ms/step - loss: 0.4525 - val_loss: 0.4211\n",
            "Epoch 143/500\n",
            "81/81 [==============================] - 0s 2ms/step - loss: 0.4481 - val_loss: 0.4131\n",
            "Epoch 144/500\n",
            "81/81 [==============================] - 0s 2ms/step - loss: 0.4456 - val_loss: 0.4113\n",
            "Epoch 145/500\n",
            "81/81 [==============================] - 0s 3ms/step - loss: 0.4380 - val_loss: 0.4158\n",
            "Epoch 146/500\n",
            "81/81 [==============================] - 0s 2ms/step - loss: 0.4354 - val_loss: 0.4002\n",
            "Epoch 147/500\n",
            "81/81 [==============================] - 0s 2ms/step - loss: 0.4264 - val_loss: 0.3987\n",
            "Epoch 148/500\n",
            "81/81 [==============================] - 0s 2ms/step - loss: 0.4244 - val_loss: 0.3860\n",
            "Epoch 149/500\n",
            "81/81 [==============================] - 0s 3ms/step - loss: 0.4178 - val_loss: 0.3769\n",
            "Epoch 150/500\n",
            "81/81 [==============================] - 0s 2ms/step - loss: 0.4165 - val_loss: 0.3750\n",
            "Epoch 151/500\n",
            "81/81 [==============================] - 0s 2ms/step - loss: 0.4091 - val_loss: 0.3765\n",
            "Epoch 152/500\n",
            "81/81 [==============================] - 0s 2ms/step - loss: 0.4017 - val_loss: 0.3681\n",
            "Epoch 153/500\n",
            "81/81 [==============================] - 0s 2ms/step - loss: 0.4005 - val_loss: 0.3560\n",
            "Epoch 154/500\n",
            "81/81 [==============================] - 0s 2ms/step - loss: 0.3968 - val_loss: 0.3583\n",
            "Epoch 155/500\n",
            "81/81 [==============================] - 0s 2ms/step - loss: 0.3871 - val_loss: 0.3521\n",
            "Epoch 156/500\n",
            "81/81 [==============================] - 0s 2ms/step - loss: 0.3825 - val_loss: 0.3518\n",
            "Epoch 157/500\n",
            "81/81 [==============================] - 0s 2ms/step - loss: 0.3791 - val_loss: 0.3418\n",
            "Epoch 158/500\n",
            "81/81 [==============================] - 0s 2ms/step - loss: 0.3746 - val_loss: 0.3384\n",
            "Epoch 159/500\n",
            "81/81 [==============================] - 0s 2ms/step - loss: 0.3692 - val_loss: 0.3351\n",
            "Epoch 160/500\n",
            "81/81 [==============================] - 0s 2ms/step - loss: 0.3651 - val_loss: 0.3293\n",
            "Epoch 161/500\n",
            "81/81 [==============================] - 0s 2ms/step - loss: 0.3599 - val_loss: 0.3246\n",
            "Epoch 162/500\n",
            "81/81 [==============================] - 0s 3ms/step - loss: 0.3531 - val_loss: 0.3181\n",
            "Epoch 163/500\n",
            "81/81 [==============================] - 0s 3ms/step - loss: 0.3480 - val_loss: 0.3119\n",
            "Epoch 164/500\n",
            "81/81 [==============================] - 0s 2ms/step - loss: 0.3463 - val_loss: 0.3129\n",
            "Epoch 165/500\n",
            "81/81 [==============================] - 0s 3ms/step - loss: 0.3423 - val_loss: 0.3124\n",
            "Epoch 166/500\n",
            "81/81 [==============================] - 0s 2ms/step - loss: 0.3342 - val_loss: 0.2983\n",
            "Epoch 167/500\n",
            "81/81 [==============================] - 0s 2ms/step - loss: 0.3337 - val_loss: 0.2947\n",
            "Epoch 168/500\n",
            "81/81 [==============================] - 0s 2ms/step - loss: 0.3281 - val_loss: 0.2937\n",
            "Epoch 169/500\n",
            "81/81 [==============================] - 0s 3ms/step - loss: 0.3240 - val_loss: 0.2877\n",
            "Epoch 170/500\n",
            "81/81 [==============================] - 0s 3ms/step - loss: 0.3180 - val_loss: 0.2896\n",
            "Epoch 171/500\n",
            "81/81 [==============================] - 0s 3ms/step - loss: 0.3157 - val_loss: 0.2828\n",
            "Epoch 172/500\n",
            "81/81 [==============================] - 0s 2ms/step - loss: 0.3099 - val_loss: 0.2816\n",
            "Epoch 173/500\n",
            "81/81 [==============================] - 0s 2ms/step - loss: 0.3064 - val_loss: 0.2769\n",
            "Epoch 174/500\n",
            "81/81 [==============================] - 0s 2ms/step - loss: 0.3027 - val_loss: 0.2745\n",
            "Epoch 175/500\n",
            "81/81 [==============================] - 0s 2ms/step - loss: 0.2968 - val_loss: 0.2613\n",
            "Epoch 176/500\n",
            "81/81 [==============================] - 0s 2ms/step - loss: 0.2978 - val_loss: 0.2563\n",
            "Epoch 177/500\n",
            "81/81 [==============================] - 0s 3ms/step - loss: 0.2897 - val_loss: 0.2586\n",
            "Epoch 178/500\n",
            "81/81 [==============================] - 0s 2ms/step - loss: 0.2870 - val_loss: 0.2534\n",
            "Epoch 179/500\n",
            "81/81 [==============================] - 0s 3ms/step - loss: 0.2844 - val_loss: 0.2433\n",
            "Epoch 180/500\n",
            "81/81 [==============================] - 0s 2ms/step - loss: 0.2798 - val_loss: 0.2521\n",
            "Epoch 181/500\n",
            "81/81 [==============================] - 0s 2ms/step - loss: 0.2763 - val_loss: 0.2497\n",
            "Epoch 182/500\n",
            "81/81 [==============================] - 0s 3ms/step - loss: 0.2756 - val_loss: 0.2483\n",
            "Epoch 183/500\n",
            "81/81 [==============================] - 0s 2ms/step - loss: 0.2702 - val_loss: 0.2411\n",
            "Epoch 184/500\n",
            "81/81 [==============================] - 0s 3ms/step - loss: 0.2691 - val_loss: 0.2353\n",
            "Epoch 185/500\n",
            "81/81 [==============================] - 0s 2ms/step - loss: 0.2635 - val_loss: 0.2321\n",
            "Epoch 186/500\n",
            "81/81 [==============================] - 0s 3ms/step - loss: 0.2587 - val_loss: 0.2326\n",
            "Epoch 187/500\n",
            "81/81 [==============================] - 0s 2ms/step - loss: 0.2581 - val_loss: 0.2246\n",
            "Epoch 188/500\n",
            "81/81 [==============================] - 0s 2ms/step - loss: 0.2548 - val_loss: 0.2272\n",
            "Epoch 189/500\n",
            "81/81 [==============================] - 0s 3ms/step - loss: 0.2484 - val_loss: 0.2185\n",
            "Epoch 190/500\n",
            "81/81 [==============================] - 0s 2ms/step - loss: 0.2471 - val_loss: 0.2205\n",
            "Epoch 191/500\n",
            "81/81 [==============================] - 0s 3ms/step - loss: 0.2436 - val_loss: 0.2108\n",
            "Epoch 192/500\n",
            "81/81 [==============================] - 0s 3ms/step - loss: 0.2418 - val_loss: 0.2158\n",
            "Epoch 193/500\n",
            "81/81 [==============================] - 0s 3ms/step - loss: 0.2403 - val_loss: 0.2109\n",
            "Epoch 194/500\n",
            "81/81 [==============================] - 0s 3ms/step - loss: 0.2358 - val_loss: 0.2073\n",
            "Epoch 195/500\n",
            "81/81 [==============================] - 0s 3ms/step - loss: 0.2341 - val_loss: 0.2023\n",
            "Epoch 196/500\n",
            "81/81 [==============================] - 0s 3ms/step - loss: 0.2306 - val_loss: 0.2021\n",
            "Epoch 197/500\n",
            "81/81 [==============================] - 0s 2ms/step - loss: 0.2283 - val_loss: 0.1969\n",
            "Epoch 198/500\n",
            "81/81 [==============================] - 0s 2ms/step - loss: 0.2264 - val_loss: 0.2039\n",
            "Epoch 199/500\n",
            "81/81 [==============================] - 0s 2ms/step - loss: 0.2254 - val_loss: 0.2047\n",
            "Epoch 200/500\n",
            "81/81 [==============================] - 0s 3ms/step - loss: 0.2239 - val_loss: 0.1917\n",
            "Epoch 201/500\n",
            "81/81 [==============================] - 0s 3ms/step - loss: 0.2176 - val_loss: 0.1887\n",
            "Epoch 202/500\n",
            "81/81 [==============================] - 0s 3ms/step - loss: 0.2162 - val_loss: 0.1906\n",
            "Epoch 203/500\n",
            "81/81 [==============================] - 0s 3ms/step - loss: 0.2141 - val_loss: 0.1924\n",
            "Epoch 204/500\n",
            "81/81 [==============================] - 0s 2ms/step - loss: 0.2100 - val_loss: 0.1860\n",
            "Epoch 205/500\n",
            "81/81 [==============================] - 0s 3ms/step - loss: 0.2069 - val_loss: 0.1821\n",
            "Epoch 206/500\n",
            "81/81 [==============================] - 0s 2ms/step - loss: 0.2058 - val_loss: 0.1809\n",
            "Epoch 207/500\n",
            "81/81 [==============================] - 0s 2ms/step - loss: 0.2050 - val_loss: 0.1840\n",
            "Epoch 208/500\n",
            "81/81 [==============================] - 0s 3ms/step - loss: 0.2047 - val_loss: 0.1792\n",
            "Epoch 209/500\n",
            "81/81 [==============================] - 0s 3ms/step - loss: 0.2025 - val_loss: 0.1781\n",
            "Epoch 210/500\n",
            "81/81 [==============================] - 0s 2ms/step - loss: 0.2003 - val_loss: 0.1820\n",
            "Epoch 211/500\n",
            "81/81 [==============================] - 0s 2ms/step - loss: 0.1967 - val_loss: 0.1766\n",
            "Epoch 212/500\n",
            "81/81 [==============================] - 0s 3ms/step - loss: 0.1960 - val_loss: 0.1701\n",
            "Epoch 213/500\n",
            "81/81 [==============================] - 0s 3ms/step - loss: 0.1936 - val_loss: 0.1655\n",
            "Epoch 214/500\n",
            "81/81 [==============================] - 0s 3ms/step - loss: 0.1892 - val_loss: 0.1767\n",
            "Epoch 215/500\n",
            "81/81 [==============================] - 0s 3ms/step - loss: 0.1909 - val_loss: 0.1667\n",
            "Epoch 216/500\n",
            "81/81 [==============================] - 0s 3ms/step - loss: 0.1879 - val_loss: 0.1667\n",
            "Epoch 217/500\n",
            "81/81 [==============================] - 0s 3ms/step - loss: 0.1832 - val_loss: 0.1751\n",
            "Epoch 218/500\n",
            "81/81 [==============================] - 0s 3ms/step - loss: 0.1866 - val_loss: 0.1645\n",
            "Epoch 219/500\n",
            "81/81 [==============================] - 0s 2ms/step - loss: 0.1840 - val_loss: 0.1680\n",
            "Epoch 220/500\n",
            "81/81 [==============================] - 0s 2ms/step - loss: 0.1817 - val_loss: 0.1607\n",
            "Epoch 221/500\n",
            "81/81 [==============================] - 0s 3ms/step - loss: 0.1860 - val_loss: 0.1740\n",
            "Epoch 222/500\n",
            "81/81 [==============================] - 0s 3ms/step - loss: 0.1772 - val_loss: 0.1608\n",
            "Epoch 223/500\n",
            "81/81 [==============================] - 0s 3ms/step - loss: 0.1768 - val_loss: 0.1600\n",
            "Epoch 224/500\n",
            "81/81 [==============================] - 0s 3ms/step - loss: 0.1764 - val_loss: 0.1548\n",
            "Epoch 225/500\n",
            "81/81 [==============================] - 0s 3ms/step - loss: 0.1749 - val_loss: 0.1522\n",
            "Epoch 226/500\n",
            "81/81 [==============================] - 0s 2ms/step - loss: 0.1719 - val_loss: 0.1562\n",
            "Epoch 227/500\n",
            "81/81 [==============================] - 0s 2ms/step - loss: 0.1709 - val_loss: 0.1635\n",
            "Epoch 228/500\n",
            "81/81 [==============================] - 0s 2ms/step - loss: 0.1692 - val_loss: 0.1515\n",
            "Epoch 229/500\n",
            "81/81 [==============================] - 0s 2ms/step - loss: 0.1690 - val_loss: 0.1481\n",
            "Epoch 230/500\n",
            "81/81 [==============================] - 0s 2ms/step - loss: 0.1675 - val_loss: 0.1490\n",
            "Epoch 231/500\n",
            "81/81 [==============================] - 0s 2ms/step - loss: 0.1670 - val_loss: 0.1550\n",
            "Epoch 232/500\n",
            "81/81 [==============================] - 0s 3ms/step - loss: 0.1656 - val_loss: 0.1542\n",
            "Epoch 233/500\n",
            "81/81 [==============================] - 0s 3ms/step - loss: 0.1620 - val_loss: 0.1471\n",
            "Epoch 234/500\n",
            "81/81 [==============================] - 0s 2ms/step - loss: 0.1614 - val_loss: 0.1418\n",
            "Epoch 235/500\n",
            "81/81 [==============================] - 0s 3ms/step - loss: 0.1604 - val_loss: 0.1364\n",
            "Epoch 236/500\n",
            "81/81 [==============================] - 0s 2ms/step - loss: 0.1590 - val_loss: 0.1419\n",
            "Epoch 237/500\n",
            "81/81 [==============================] - 0s 3ms/step - loss: 0.1568 - val_loss: 0.1394\n",
            "Epoch 238/500\n",
            "81/81 [==============================] - 0s 2ms/step - loss: 0.1562 - val_loss: 0.1370\n",
            "Epoch 239/500\n",
            "81/81 [==============================] - 0s 2ms/step - loss: 0.1572 - val_loss: 0.1382\n",
            "Epoch 240/500\n",
            "81/81 [==============================] - 0s 2ms/step - loss: 0.1539 - val_loss: 0.1370\n",
            "Epoch 241/500\n",
            "81/81 [==============================] - 0s 2ms/step - loss: 0.1538 - val_loss: 0.1428\n",
            "Epoch 242/500\n",
            "81/81 [==============================] - 0s 2ms/step - loss: 0.1501 - val_loss: 0.1337\n",
            "Epoch 243/500\n",
            "81/81 [==============================] - 0s 2ms/step - loss: 0.1534 - val_loss: 0.1376\n",
            "Epoch 244/500\n",
            "81/81 [==============================] - 0s 2ms/step - loss: 0.1492 - val_loss: 0.1339\n",
            "Epoch 245/500\n",
            "81/81 [==============================] - 0s 2ms/step - loss: 0.1537 - val_loss: 0.1261\n",
            "Epoch 246/500\n",
            "81/81 [==============================] - 0s 3ms/step - loss: 0.1459 - val_loss: 0.1449\n",
            "Epoch 247/500\n",
            "81/81 [==============================] - 0s 2ms/step - loss: 0.1494 - val_loss: 0.1359\n",
            "Epoch 248/500\n",
            "81/81 [==============================] - 0s 3ms/step - loss: 0.1465 - val_loss: 0.1312\n",
            "Epoch 249/500\n",
            "81/81 [==============================] - 0s 3ms/step - loss: 0.1455 - val_loss: 0.1382\n",
            "Epoch 250/500\n",
            "81/81 [==============================] - 0s 2ms/step - loss: 0.1457 - val_loss: 0.1313\n",
            "Epoch 251/500\n",
            "81/81 [==============================] - 0s 2ms/step - loss: 0.1459 - val_loss: 0.1312\n",
            "Epoch 252/500\n",
            "81/81 [==============================] - 0s 3ms/step - loss: 0.1439 - val_loss: 0.1301\n",
            "Epoch 253/500\n",
            "81/81 [==============================] - 0s 2ms/step - loss: 0.1441 - val_loss: 0.1276\n",
            "Epoch 254/500\n",
            "81/81 [==============================] - 0s 3ms/step - loss: 0.1426 - val_loss: 0.1262\n",
            "Epoch 255/500\n",
            "81/81 [==============================] - 0s 2ms/step - loss: 0.1405 - val_loss: 0.1293\n",
            "Epoch 256/500\n",
            "81/81 [==============================] - 0s 2ms/step - loss: 0.1392 - val_loss: 0.1263\n",
            "Epoch 257/500\n",
            "81/81 [==============================] - 0s 3ms/step - loss: 0.1393 - val_loss: 0.1242\n",
            "Epoch 258/500\n",
            "81/81 [==============================] - 0s 2ms/step - loss: 0.1393 - val_loss: 0.1311\n",
            "Epoch 259/500\n",
            "81/81 [==============================] - 0s 3ms/step - loss: 0.1364 - val_loss: 0.1263\n",
            "Epoch 260/500\n",
            "81/81 [==============================] - 0s 3ms/step - loss: 0.1382 - val_loss: 0.1223\n",
            "Epoch 261/500\n",
            "81/81 [==============================] - 0s 3ms/step - loss: 0.1353 - val_loss: 0.1268\n",
            "Epoch 262/500\n",
            "81/81 [==============================] - 0s 2ms/step - loss: 0.1349 - val_loss: 0.1217\n",
            "Epoch 263/500\n",
            "81/81 [==============================] - 0s 2ms/step - loss: 0.1371 - val_loss: 0.1240\n",
            "Epoch 264/500\n",
            "81/81 [==============================] - 0s 3ms/step - loss: 0.1332 - val_loss: 0.1222\n",
            "Epoch 265/500\n",
            "81/81 [==============================] - 0s 2ms/step - loss: 0.1326 - val_loss: 0.1233\n",
            "Epoch 266/500\n",
            "81/81 [==============================] - 0s 3ms/step - loss: 0.1320 - val_loss: 0.1221\n",
            "Epoch 267/500\n",
            "81/81 [==============================] - 0s 3ms/step - loss: 0.1347 - val_loss: 0.1200\n",
            "Epoch 268/500\n",
            "81/81 [==============================] - 0s 2ms/step - loss: 0.1309 - val_loss: 0.1203\n",
            "Epoch 269/500\n",
            "81/81 [==============================] - 0s 2ms/step - loss: 0.1316 - val_loss: 0.1244\n",
            "Epoch 270/500\n",
            "81/81 [==============================] - 0s 2ms/step - loss: 0.1297 - val_loss: 0.1219\n",
            "Epoch 271/500\n",
            "81/81 [==============================] - 0s 2ms/step - loss: 0.1282 - val_loss: 0.1217\n",
            "Epoch 272/500\n",
            "81/81 [==============================] - 0s 3ms/step - loss: 0.1290 - val_loss: 0.1234\n",
            "Epoch 273/500\n",
            "81/81 [==============================] - 0s 2ms/step - loss: 0.1273 - val_loss: 0.1179\n",
            "Epoch 274/500\n",
            "81/81 [==============================] - 0s 2ms/step - loss: 0.1273 - val_loss: 0.1216\n",
            "Epoch 275/500\n",
            "81/81 [==============================] - 0s 2ms/step - loss: 0.1272 - val_loss: 0.1269\n",
            "Epoch 276/500\n",
            "81/81 [==============================] - 0s 2ms/step - loss: 0.1282 - val_loss: 0.1254\n",
            "Epoch 277/500\n",
            "81/81 [==============================] - 0s 3ms/step - loss: 0.1283 - val_loss: 0.1217\n",
            "Epoch 278/500\n",
            "81/81 [==============================] - 0s 2ms/step - loss: 0.1245 - val_loss: 0.1173\n",
            "Epoch 279/500\n",
            "81/81 [==============================] - 0s 2ms/step - loss: 0.1254 - val_loss: 0.1153\n",
            "Epoch 280/500\n",
            "81/81 [==============================] - 0s 3ms/step - loss: 0.1252 - val_loss: 0.1230\n",
            "Epoch 281/500\n",
            "81/81 [==============================] - 0s 3ms/step - loss: 0.1236 - val_loss: 0.1145\n",
            "Epoch 282/500\n",
            "81/81 [==============================] - 0s 2ms/step - loss: 0.1229 - val_loss: 0.1119\n",
            "Epoch 283/500\n",
            "81/81 [==============================] - 0s 3ms/step - loss: 0.1219 - val_loss: 0.1146\n",
            "Epoch 284/500\n",
            "81/81 [==============================] - 0s 3ms/step - loss: 0.1234 - val_loss: 0.1139\n",
            "Epoch 285/500\n",
            "81/81 [==============================] - 0s 3ms/step - loss: 0.1212 - val_loss: 0.1186\n",
            "Epoch 286/500\n",
            "81/81 [==============================] - 0s 3ms/step - loss: 0.1214 - val_loss: 0.1213\n",
            "Epoch 287/500\n",
            "81/81 [==============================] - 0s 3ms/step - loss: 0.1205 - val_loss: 0.1175\n",
            "Epoch 288/500\n",
            "81/81 [==============================] - 0s 3ms/step - loss: 0.1195 - val_loss: 0.1115\n",
            "Epoch 289/500\n",
            "81/81 [==============================] - 0s 2ms/step - loss: 0.1191 - val_loss: 0.1128\n",
            "Epoch 290/500\n",
            "81/81 [==============================] - 0s 3ms/step - loss: 0.1184 - val_loss: 0.1148\n",
            "Epoch 291/500\n",
            "81/81 [==============================] - 0s 2ms/step - loss: 0.1183 - val_loss: 0.1127\n",
            "Epoch 292/500\n",
            "81/81 [==============================] - 0s 3ms/step - loss: 0.1193 - val_loss: 0.1090\n",
            "Epoch 293/500\n",
            "81/81 [==============================] - 0s 2ms/step - loss: 0.1181 - val_loss: 0.1133\n",
            "Epoch 294/500\n",
            "81/81 [==============================] - 0s 2ms/step - loss: 0.1166 - val_loss: 0.1132\n",
            "Epoch 295/500\n",
            "81/81 [==============================] - 0s 2ms/step - loss: 0.1178 - val_loss: 0.1135\n",
            "Epoch 296/500\n",
            "81/81 [==============================] - 0s 2ms/step - loss: 0.1186 - val_loss: 0.1175\n",
            "Epoch 297/500\n",
            "81/81 [==============================] - 0s 3ms/step - loss: 0.1146 - val_loss: 0.1254\n",
            "Epoch 298/500\n",
            "81/81 [==============================] - 0s 2ms/step - loss: 0.1165 - val_loss: 0.1105\n",
            "Epoch 299/500\n",
            "81/81 [==============================] - 0s 2ms/step - loss: 0.1152 - val_loss: 0.1168\n",
            "Epoch 300/500\n",
            "81/81 [==============================] - 0s 2ms/step - loss: 0.1187 - val_loss: 0.1054\n",
            "Epoch 301/500\n",
            "81/81 [==============================] - 0s 3ms/step - loss: 0.1158 - val_loss: 0.1120\n",
            "Epoch 302/500\n",
            "81/81 [==============================] - 0s 3ms/step - loss: 0.1149 - val_loss: 0.1135\n",
            "Epoch 303/500\n",
            "81/81 [==============================] - 0s 3ms/step - loss: 0.1135 - val_loss: 0.1092\n",
            "Epoch 304/500\n",
            "81/81 [==============================] - 0s 2ms/step - loss: 0.1141 - val_loss: 0.1196\n",
            "Epoch 305/500\n",
            "81/81 [==============================] - 0s 3ms/step - loss: 0.1158 - val_loss: 0.1133\n",
            "Epoch 306/500\n",
            "81/81 [==============================] - 0s 3ms/step - loss: 0.1114 - val_loss: 0.1142\n",
            "Epoch 307/500\n",
            "81/81 [==============================] - 0s 3ms/step - loss: 0.1104 - val_loss: 0.1070\n",
            "Epoch 308/500\n",
            "81/81 [==============================] - 0s 3ms/step - loss: 0.1115 - val_loss: 0.1077\n",
            "Epoch 309/500\n",
            "81/81 [==============================] - 0s 2ms/step - loss: 0.1114 - val_loss: 0.1113\n",
            "Epoch 310/500\n",
            "81/81 [==============================] - 0s 3ms/step - loss: 0.1112 - val_loss: 0.1054\n",
            "Epoch 311/500\n",
            "81/81 [==============================] - 0s 2ms/step - loss: 0.1104 - val_loss: 0.1076\n",
            "Epoch 312/500\n",
            "81/81 [==============================] - 0s 2ms/step - loss: 0.1130 - val_loss: 0.1137\n",
            "Epoch 313/500\n",
            "81/81 [==============================] - 0s 3ms/step - loss: 0.1110 - val_loss: 0.1049\n",
            "Epoch 314/500\n",
            "81/81 [==============================] - 0s 2ms/step - loss: 0.1114 - val_loss: 0.1044\n",
            "Epoch 315/500\n",
            "81/81 [==============================] - 0s 3ms/step - loss: 0.1094 - val_loss: 0.1094\n",
            "Epoch 316/500\n",
            "81/81 [==============================] - 0s 3ms/step - loss: 0.1088 - val_loss: 0.1108\n",
            "Epoch 317/500\n",
            "81/81 [==============================] - 0s 3ms/step - loss: 0.1110 - val_loss: 0.1100\n",
            "Epoch 318/500\n",
            "81/81 [==============================] - 0s 2ms/step - loss: 0.1111 - val_loss: 0.1130\n",
            "Epoch 319/500\n",
            "81/81 [==============================] - 0s 3ms/step - loss: 0.1107 - val_loss: 0.1088\n",
            "Epoch 320/500\n",
            "81/81 [==============================] - 0s 2ms/step - loss: 0.1086 - val_loss: 0.1091\n",
            "Epoch 321/500\n",
            "81/81 [==============================] - 0s 3ms/step - loss: 0.1089 - val_loss: 0.1111\n",
            "Epoch 322/500\n",
            "81/81 [==============================] - 0s 2ms/step - loss: 0.1087 - val_loss: 0.1142\n",
            "Epoch 323/500\n",
            "81/81 [==============================] - 0s 2ms/step - loss: 0.1070 - val_loss: 0.1077\n",
            "Epoch 324/500\n",
            "81/81 [==============================] - 0s 3ms/step - loss: 0.1094 - val_loss: 0.1131\n",
            "Epoch 325/500\n",
            "81/81 [==============================] - 0s 2ms/step - loss: 0.1072 - val_loss: 0.1076\n",
            "Epoch 326/500\n",
            "81/81 [==============================] - 0s 3ms/step - loss: 0.1079 - val_loss: 0.1101\n",
            "Epoch 327/500\n",
            "81/81 [==============================] - 0s 2ms/step - loss: 0.1078 - val_loss: 0.1095\n",
            "Epoch 328/500\n",
            "81/81 [==============================] - 0s 2ms/step - loss: 0.1061 - val_loss: 0.1130\n",
            "Epoch 329/500\n",
            "81/81 [==============================] - 0s 2ms/step - loss: 0.1068 - val_loss: 0.1117\n",
            "Epoch 330/500\n",
            "81/81 [==============================] - 0s 2ms/step - loss: 0.1061 - val_loss: 0.1134\n",
            "Epoch 331/500\n",
            "81/81 [==============================] - 0s 2ms/step - loss: 0.1049 - val_loss: 0.1121\n",
            "Epoch 332/500\n",
            "81/81 [==============================] - 0s 3ms/step - loss: 0.1070 - val_loss: 0.1104\n",
            "Epoch 333/500\n",
            "81/81 [==============================] - 0s 2ms/step - loss: 0.1043 - val_loss: 0.1076\n",
            "Epoch 334/500\n",
            "81/81 [==============================] - 0s 3ms/step - loss: 0.1033 - val_loss: 0.1066\n",
            "Epoch 335/500\n",
            "81/81 [==============================] - 0s 3ms/step - loss: 0.1064 - val_loss: 0.1106\n",
            "Epoch 336/500\n",
            "81/81 [==============================] - 0s 3ms/step - loss: 0.1045 - val_loss: 0.1093\n",
            "Epoch 337/500\n",
            "81/81 [==============================] - 0s 2ms/step - loss: 0.1055 - val_loss: 0.1083\n",
            "Epoch 338/500\n",
            "81/81 [==============================] - 0s 2ms/step - loss: 0.1032 - val_loss: 0.1065\n",
            "Epoch 339/500\n",
            "81/81 [==============================] - 0s 3ms/step - loss: 0.1021 - val_loss: 0.1044\n",
            "Epoch 340/500\n",
            "81/81 [==============================] - 0s 3ms/step - loss: 0.1026 - val_loss: 0.1063\n",
            "Epoch 341/500\n",
            "81/81 [==============================] - 0s 3ms/step - loss: 0.1032 - val_loss: 0.1069\n",
            "Epoch 342/500\n",
            "81/81 [==============================] - 0s 2ms/step - loss: 0.1031 - val_loss: 0.1060\n",
            "Epoch 343/500\n",
            "81/81 [==============================] - 0s 3ms/step - loss: 0.1043 - val_loss: 0.1042\n",
            "Epoch 344/500\n",
            "81/81 [==============================] - 0s 3ms/step - loss: 0.1035 - val_loss: 0.1054\n",
            "Epoch 345/500\n",
            "81/81 [==============================] - 0s 2ms/step - loss: 0.1032 - val_loss: 0.1044\n",
            "Epoch 346/500\n",
            "81/81 [==============================] - 0s 2ms/step - loss: 0.1024 - val_loss: 0.1097\n",
            "Epoch 347/500\n",
            "81/81 [==============================] - 0s 3ms/step - loss: 0.1041 - val_loss: 0.1138\n",
            "Epoch 348/500\n",
            "81/81 [==============================] - 0s 2ms/step - loss: 0.1048 - val_loss: 0.1128\n",
            "Epoch 349/500\n",
            "81/81 [==============================] - 0s 3ms/step - loss: 0.1013 - val_loss: 0.1058\n",
            "Epoch 350/500\n",
            "81/81 [==============================] - 0s 2ms/step - loss: 0.1019 - val_loss: 0.1132\n",
            "Epoch 351/500\n",
            "81/81 [==============================] - 0s 3ms/step - loss: 0.1009 - val_loss: 0.1051\n",
            "Epoch 352/500\n",
            "81/81 [==============================] - 0s 3ms/step - loss: 0.1024 - val_loss: 0.1118\n",
            "Epoch 353/500\n",
            "81/81 [==============================] - 0s 3ms/step - loss: 0.1008 - val_loss: 0.1046\n",
            "Epoch 354/500\n",
            "81/81 [==============================] - 0s 3ms/step - loss: 0.1017 - val_loss: 0.1054\n",
            "Epoch 355/500\n",
            "81/81 [==============================] - 0s 2ms/step - loss: 0.1011 - val_loss: 0.1102\n",
            "Epoch 356/500\n",
            "81/81 [==============================] - 0s 2ms/step - loss: 0.1018 - val_loss: 0.1112\n",
            "Epoch 357/500\n",
            "81/81 [==============================] - 0s 2ms/step - loss: 0.1045 - val_loss: 0.1097\n",
            "Epoch 358/500\n",
            "81/81 [==============================] - 0s 3ms/step - loss: 0.1027 - val_loss: 0.1115\n",
            "Epoch 359/500\n",
            "81/81 [==============================] - 0s 3ms/step - loss: 0.1002 - val_loss: 0.1056\n",
            "Epoch 360/500\n",
            "81/81 [==============================] - 0s 2ms/step - loss: 0.1020 - val_loss: 0.1070\n",
            "Epoch 361/500\n",
            "81/81 [==============================] - 0s 3ms/step - loss: 0.0982 - val_loss: 0.1082\n",
            "Epoch 362/500\n",
            "81/81 [==============================] - 0s 2ms/step - loss: 0.0993 - val_loss: 0.1055\n",
            "Epoch 363/500\n",
            "81/81 [==============================] - 0s 3ms/step - loss: 0.1010 - val_loss: 0.1030\n",
            "Epoch 364/500\n",
            "81/81 [==============================] - 0s 3ms/step - loss: 0.0998 - val_loss: 0.1063\n",
            "Epoch 365/500\n",
            "81/81 [==============================] - 0s 3ms/step - loss: 0.0996 - val_loss: 0.1058\n",
            "Epoch 366/500\n",
            "81/81 [==============================] - 0s 2ms/step - loss: 0.1010 - val_loss: 0.1032\n",
            "Epoch 367/500\n",
            "81/81 [==============================] - 0s 2ms/step - loss: 0.0986 - val_loss: 0.1055\n",
            "Epoch 368/500\n",
            "81/81 [==============================] - 0s 3ms/step - loss: 0.0981 - val_loss: 0.1059\n",
            "Epoch 369/500\n",
            "81/81 [==============================] - 0s 3ms/step - loss: 0.0987 - val_loss: 0.1079\n",
            "Epoch 370/500\n",
            "81/81 [==============================] - 0s 2ms/step - loss: 0.0995 - val_loss: 0.1099\n",
            "Epoch 371/500\n",
            "81/81 [==============================] - 0s 3ms/step - loss: 0.0993 - val_loss: 0.1095\n",
            "Epoch 372/500\n",
            "81/81 [==============================] - 0s 2ms/step - loss: 0.0978 - val_loss: 0.1143\n",
            "Epoch 373/500\n",
            "81/81 [==============================] - 0s 3ms/step - loss: 0.0982 - val_loss: 0.1110\n",
            "Epoch 374/500\n",
            "81/81 [==============================] - 0s 2ms/step - loss: 0.0991 - val_loss: 0.1138\n",
            "Epoch 375/500\n",
            "81/81 [==============================] - 0s 2ms/step - loss: 0.0982 - val_loss: 0.1103\n",
            "Epoch 376/500\n",
            "81/81 [==============================] - 0s 2ms/step - loss: 0.1022 - val_loss: 0.1064\n",
            "Epoch 377/500\n",
            "81/81 [==============================] - 0s 2ms/step - loss: 0.0969 - val_loss: 0.1057\n",
            "Epoch 378/500\n",
            "81/81 [==============================] - 0s 2ms/step - loss: 0.0997 - val_loss: 0.1038\n",
            "Epoch 379/500\n",
            "81/81 [==============================] - 0s 2ms/step - loss: 0.0960 - val_loss: 0.1126\n",
            "Epoch 380/500\n",
            "81/81 [==============================] - 0s 3ms/step - loss: 0.0971 - val_loss: 0.1093\n",
            "Epoch 381/500\n",
            "81/81 [==============================] - 0s 2ms/step - loss: 0.0977 - val_loss: 0.1057\n",
            "Epoch 382/500\n",
            "81/81 [==============================] - 0s 3ms/step - loss: 0.0973 - val_loss: 0.1088\n",
            "Epoch 383/500\n",
            "81/81 [==============================] - 0s 3ms/step - loss: 0.0954 - val_loss: 0.1156\n",
            "Epoch 384/500\n",
            "81/81 [==============================] - 0s 2ms/step - loss: 0.0983 - val_loss: 0.1151\n",
            "Epoch 385/500\n",
            "81/81 [==============================] - 0s 2ms/step - loss: 0.0962 - val_loss: 0.1135\n",
            "Epoch 386/500\n",
            "81/81 [==============================] - 0s 2ms/step - loss: 0.0964 - val_loss: 0.1073\n",
            "Epoch 387/500\n",
            "81/81 [==============================] - 0s 2ms/step - loss: 0.0957 - val_loss: 0.1088\n",
            "Epoch 388/500\n",
            "81/81 [==============================] - 0s 2ms/step - loss: 0.0962 - val_loss: 0.1045\n",
            "Epoch 389/500\n",
            "81/81 [==============================] - 0s 2ms/step - loss: 0.0962 - val_loss: 0.1062\n",
            "Epoch 390/500\n",
            "81/81 [==============================] - 0s 3ms/step - loss: 0.0979 - val_loss: 0.1157\n",
            "Epoch 391/500\n",
            "81/81 [==============================] - 0s 2ms/step - loss: 0.0964 - val_loss: 0.1147\n",
            "Epoch 392/500\n",
            "81/81 [==============================] - 0s 3ms/step - loss: 0.0979 - val_loss: 0.1154\n",
            "Epoch 393/500\n",
            "81/81 [==============================] - 0s 2ms/step - loss: 0.0985 - val_loss: 0.1163\n",
            "Epoch 394/500\n",
            "81/81 [==============================] - 0s 3ms/step - loss: 0.0959 - val_loss: 0.1064\n",
            "Epoch 395/500\n",
            "81/81 [==============================] - 0s 3ms/step - loss: 0.0964 - val_loss: 0.1024\n",
            "Epoch 396/500\n",
            "81/81 [==============================] - 0s 3ms/step - loss: 0.0956 - val_loss: 0.1073\n",
            "Epoch 397/500\n",
            "81/81 [==============================] - 0s 2ms/step - loss: 0.0936 - val_loss: 0.1065\n",
            "Epoch 398/500\n",
            "81/81 [==============================] - 0s 3ms/step - loss: 0.0961 - val_loss: 0.1145\n",
            "Epoch 399/500\n",
            "81/81 [==============================] - 0s 3ms/step - loss: 0.0951 - val_loss: 0.1075\n",
            "Epoch 400/500\n",
            "81/81 [==============================] - 0s 2ms/step - loss: 0.0933 - val_loss: 0.1109\n",
            "Epoch 401/500\n",
            "81/81 [==============================] - 0s 3ms/step - loss: 0.0936 - val_loss: 0.1076\n",
            "Epoch 402/500\n",
            "81/81 [==============================] - 0s 3ms/step - loss: 0.0948 - val_loss: 0.1100\n",
            "Epoch 403/500\n",
            "81/81 [==============================] - 0s 3ms/step - loss: 0.0958 - val_loss: 0.1085\n",
            "Epoch 404/500\n",
            "81/81 [==============================] - 0s 2ms/step - loss: 0.0943 - val_loss: 0.1110\n",
            "Epoch 405/500\n",
            "81/81 [==============================] - 0s 3ms/step - loss: 0.0951 - val_loss: 0.1143\n",
            "Epoch 406/500\n",
            "81/81 [==============================] - 0s 2ms/step - loss: 0.0943 - val_loss: 0.1103\n",
            "Epoch 407/500\n",
            "81/81 [==============================] - 0s 3ms/step - loss: 0.0965 - val_loss: 0.1061\n",
            "Epoch 408/500\n",
            "81/81 [==============================] - 0s 3ms/step - loss: 0.0938 - val_loss: 0.1183\n",
            "Epoch 409/500\n",
            "81/81 [==============================] - 0s 3ms/step - loss: 0.0946 - val_loss: 0.1076\n",
            "Epoch 410/500\n",
            "81/81 [==============================] - 0s 3ms/step - loss: 0.0945 - val_loss: 0.1105\n",
            "Epoch 411/500\n",
            "81/81 [==============================] - 0s 3ms/step - loss: 0.0958 - val_loss: 0.1169\n",
            "Epoch 412/500\n",
            "81/81 [==============================] - 0s 2ms/step - loss: 0.0942 - val_loss: 0.1163\n",
            "Epoch 413/500\n",
            "81/81 [==============================] - 0s 2ms/step - loss: 0.0938 - val_loss: 0.1087\n",
            "Epoch 414/500\n",
            "81/81 [==============================] - 0s 2ms/step - loss: 0.0951 - val_loss: 0.1142\n",
            "Epoch 415/500\n",
            "81/81 [==============================] - 0s 2ms/step - loss: 0.0921 - val_loss: 0.1114\n",
            "Epoch 416/500\n",
            "81/81 [==============================] - 0s 3ms/step - loss: 0.0933 - val_loss: 0.1137\n",
            "Epoch 417/500\n",
            "81/81 [==============================] - 0s 3ms/step - loss: 0.0945 - val_loss: 0.1137\n",
            "Epoch 418/500\n",
            "81/81 [==============================] - 0s 2ms/step - loss: 0.0930 - val_loss: 0.1089\n",
            "Epoch 419/500\n",
            "81/81 [==============================] - 0s 2ms/step - loss: 0.0947 - val_loss: 0.1075\n",
            "Epoch 420/500\n",
            "81/81 [==============================] - 0s 2ms/step - loss: 0.0951 - val_loss: 0.1194\n",
            "Epoch 421/500\n",
            "81/81 [==============================] - 0s 3ms/step - loss: 0.0947 - val_loss: 0.1194\n",
            "Epoch 422/500\n",
            "81/81 [==============================] - 0s 3ms/step - loss: 0.0949 - val_loss: 0.1166\n",
            "Epoch 423/500\n",
            "81/81 [==============================] - 0s 2ms/step - loss: 0.0927 - val_loss: 0.1161\n",
            "Epoch 424/500\n",
            "81/81 [==============================] - 0s 3ms/step - loss: 0.0935 - val_loss: 0.1105\n",
            "Epoch 425/500\n",
            "81/81 [==============================] - 0s 2ms/step - loss: 0.0935 - val_loss: 0.1115\n",
            "Epoch 426/500\n",
            "81/81 [==============================] - 0s 2ms/step - loss: 0.0954 - val_loss: 0.1107\n",
            "Epoch 427/500\n",
            "81/81 [==============================] - 0s 2ms/step - loss: 0.0932 - val_loss: 0.1114\n",
            "Epoch 428/500\n",
            "81/81 [==============================] - 0s 2ms/step - loss: 0.0923 - val_loss: 0.1138\n",
            "Epoch 429/500\n",
            "81/81 [==============================] - 0s 3ms/step - loss: 0.0943 - val_loss: 0.1191\n",
            "Epoch 430/500\n",
            "81/81 [==============================] - 0s 3ms/step - loss: 0.0943 - val_loss: 0.1073\n",
            "Epoch 431/500\n",
            "81/81 [==============================] - 0s 3ms/step - loss: 0.0955 - val_loss: 0.1295\n",
            "Epoch 432/500\n",
            "81/81 [==============================] - 0s 3ms/step - loss: 0.0929 - val_loss: 0.1220\n",
            "Epoch 433/500\n",
            "81/81 [==============================] - 0s 2ms/step - loss: 0.0996 - val_loss: 0.1263\n",
            "Epoch 434/500\n",
            "81/81 [==============================] - 0s 3ms/step - loss: 0.0970 - val_loss: 0.1171\n",
            "Epoch 435/500\n",
            "81/81 [==============================] - 0s 2ms/step - loss: 0.0917 - val_loss: 0.1182\n",
            "Epoch 436/500\n",
            "81/81 [==============================] - 0s 3ms/step - loss: 0.0922 - val_loss: 0.1095\n",
            "Epoch 437/500\n",
            "81/81 [==============================] - 0s 3ms/step - loss: 0.0943 - val_loss: 0.1136\n",
            "Epoch 438/500\n",
            "81/81 [==============================] - 0s 2ms/step - loss: 0.0929 - val_loss: 0.1192\n",
            "Epoch 439/500\n",
            "81/81 [==============================] - 0s 3ms/step - loss: 0.0914 - val_loss: 0.1115\n",
            "Epoch 440/500\n",
            "81/81 [==============================] - 0s 2ms/step - loss: 0.0922 - val_loss: 0.1106\n",
            "Epoch 441/500\n",
            "81/81 [==============================] - 0s 3ms/step - loss: 0.0927 - val_loss: 0.1184\n",
            "Epoch 442/500\n",
            "81/81 [==============================] - 0s 2ms/step - loss: 0.0914 - val_loss: 0.1100\n",
            "Epoch 443/500\n",
            "81/81 [==============================] - 0s 3ms/step - loss: 0.0904 - val_loss: 0.1119\n",
            "Epoch 444/500\n",
            "81/81 [==============================] - 0s 2ms/step - loss: 0.0930 - val_loss: 0.1089\n",
            "Epoch 445/500\n",
            "81/81 [==============================] - 0s 3ms/step - loss: 0.0928 - val_loss: 0.1190\n",
            "Epoch 446/500\n",
            "81/81 [==============================] - 0s 3ms/step - loss: 0.0907 - val_loss: 0.1098\n",
            "Epoch 447/500\n",
            "81/81 [==============================] - 0s 2ms/step - loss: 0.0906 - val_loss: 0.1100\n",
            "Epoch 448/500\n",
            "81/81 [==============================] - 0s 2ms/step - loss: 0.0902 - val_loss: 0.1113\n",
            "Epoch 449/500\n",
            "81/81 [==============================] - 0s 2ms/step - loss: 0.0917 - val_loss: 0.1195\n",
            "Epoch 450/500\n",
            "81/81 [==============================] - 0s 2ms/step - loss: 0.0920 - val_loss: 0.1229\n",
            "Epoch 451/500\n",
            "81/81 [==============================] - 0s 2ms/step - loss: 0.0902 - val_loss: 0.1186\n",
            "Epoch 452/500\n",
            "81/81 [==============================] - 0s 3ms/step - loss: 0.0897 - val_loss: 0.1124\n",
            "Epoch 453/500\n",
            "81/81 [==============================] - 0s 3ms/step - loss: 0.0921 - val_loss: 0.1057\n",
            "Epoch 454/500\n",
            "81/81 [==============================] - 0s 2ms/step - loss: 0.0863 - val_loss: 0.1291\n",
            "Epoch 455/500\n",
            "81/81 [==============================] - 0s 3ms/step - loss: 0.0908 - val_loss: 0.1136\n",
            "Epoch 456/500\n",
            "81/81 [==============================] - 0s 3ms/step - loss: 0.0920 - val_loss: 0.1186\n",
            "Epoch 457/500\n",
            "81/81 [==============================] - 0s 3ms/step - loss: 0.0911 - val_loss: 0.1217\n",
            "Epoch 458/500\n",
            "81/81 [==============================] - 0s 3ms/step - loss: 0.0895 - val_loss: 0.1132\n",
            "Epoch 459/500\n",
            "81/81 [==============================] - 0s 3ms/step - loss: 0.0902 - val_loss: 0.1190\n",
            "Epoch 460/500\n",
            "81/81 [==============================] - 0s 3ms/step - loss: 0.0909 - val_loss: 0.1220\n",
            "Epoch 461/500\n",
            "81/81 [==============================] - 0s 3ms/step - loss: 0.0902 - val_loss: 0.1257\n",
            "Epoch 462/500\n",
            "81/81 [==============================] - 0s 3ms/step - loss: 0.0893 - val_loss: 0.1133\n",
            "Epoch 463/500\n",
            "81/81 [==============================] - 0s 2ms/step - loss: 0.0913 - val_loss: 0.1115\n",
            "Epoch 464/500\n",
            "81/81 [==============================] - 0s 2ms/step - loss: 0.0895 - val_loss: 0.1206\n",
            "Epoch 465/500\n",
            "81/81 [==============================] - 0s 2ms/step - loss: 0.0911 - val_loss: 0.1274\n",
            "Epoch 466/500\n",
            "81/81 [==============================] - 0s 2ms/step - loss: 0.0890 - val_loss: 0.1192\n",
            "Epoch 467/500\n",
            "81/81 [==============================] - 0s 3ms/step - loss: 0.0886 - val_loss: 0.1186\n",
            "Epoch 468/500\n",
            "81/81 [==============================] - 0s 2ms/step - loss: 0.0886 - val_loss: 0.1043\n",
            "Epoch 469/500\n",
            "81/81 [==============================] - 0s 2ms/step - loss: 0.0928 - val_loss: 0.1232\n",
            "Epoch 470/500\n",
            "81/81 [==============================] - 0s 2ms/step - loss: 0.0902 - val_loss: 0.1199\n",
            "Epoch 471/500\n",
            "81/81 [==============================] - 0s 2ms/step - loss: 0.0893 - val_loss: 0.1172\n",
            "Epoch 472/500\n",
            "81/81 [==============================] - 0s 3ms/step - loss: 0.0895 - val_loss: 0.1112\n",
            "Epoch 473/500\n",
            "81/81 [==============================] - 0s 3ms/step - loss: 0.0883 - val_loss: 0.1210\n",
            "Epoch 474/500\n",
            "81/81 [==============================] - 0s 3ms/step - loss: 0.0891 - val_loss: 0.1181\n",
            "Epoch 475/500\n",
            "81/81 [==============================] - 0s 3ms/step - loss: 0.0898 - val_loss: 0.1155\n",
            "Epoch 476/500\n",
            "81/81 [==============================] - 0s 3ms/step - loss: 0.0915 - val_loss: 0.1061\n",
            "Epoch 477/500\n",
            "81/81 [==============================] - 0s 3ms/step - loss: 0.0920 - val_loss: 0.1369\n",
            "Epoch 478/500\n",
            "81/81 [==============================] - 0s 3ms/step - loss: 0.0888 - val_loss: 0.1160\n",
            "Epoch 479/500\n",
            "81/81 [==============================] - 0s 3ms/step - loss: 0.0888 - val_loss: 0.1273\n",
            "Epoch 480/500\n",
            "81/81 [==============================] - 0s 3ms/step - loss: 0.0892 - val_loss: 0.1189\n",
            "Epoch 481/500\n",
            "81/81 [==============================] - 0s 3ms/step - loss: 0.0893 - val_loss: 0.1159\n",
            "Epoch 482/500\n",
            "81/81 [==============================] - 0s 2ms/step - loss: 0.0895 - val_loss: 0.1253\n",
            "Epoch 483/500\n",
            "81/81 [==============================] - 0s 2ms/step - loss: 0.0879 - val_loss: 0.1217\n",
            "Epoch 484/500\n",
            "81/81 [==============================] - 0s 3ms/step - loss: 0.0899 - val_loss: 0.1268\n",
            "Epoch 485/500\n",
            "81/81 [==============================] - 0s 3ms/step - loss: 0.0913 - val_loss: 0.1202\n",
            "Epoch 486/500\n",
            "81/81 [==============================] - 0s 3ms/step - loss: 0.0897 - val_loss: 0.1269\n",
            "Epoch 487/500\n",
            "81/81 [==============================] - 0s 3ms/step - loss: 0.0888 - val_loss: 0.1152\n",
            "Epoch 488/500\n",
            "81/81 [==============================] - 0s 2ms/step - loss: 0.0876 - val_loss: 0.1240\n",
            "Epoch 489/500\n",
            "81/81 [==============================] - 0s 3ms/step - loss: 0.0871 - val_loss: 0.1238\n",
            "Epoch 490/500\n",
            "81/81 [==============================] - 0s 3ms/step - loss: 0.0881 - val_loss: 0.1138\n",
            "Epoch 491/500\n",
            "81/81 [==============================] - 0s 3ms/step - loss: 0.0890 - val_loss: 0.1163\n",
            "Epoch 492/500\n",
            "81/81 [==============================] - 0s 3ms/step - loss: 0.0883 - val_loss: 0.1183\n",
            "Epoch 493/500\n",
            "81/81 [==============================] - 0s 2ms/step - loss: 0.0864 - val_loss: 0.1212\n",
            "Epoch 494/500\n",
            "81/81 [==============================] - 0s 3ms/step - loss: 0.0908 - val_loss: 0.1248\n",
            "Epoch 495/500\n",
            "81/81 [==============================] - 0s 3ms/step - loss: 0.0901 - val_loss: 0.1323\n",
            "Epoch 496/500\n",
            "81/81 [==============================] - 0s 3ms/step - loss: 0.0888 - val_loss: 0.1315\n",
            "Epoch 497/500\n",
            "81/81 [==============================] - 0s 3ms/step - loss: 0.0887 - val_loss: 0.1324\n",
            "Epoch 498/500\n",
            "81/81 [==============================] - 0s 3ms/step - loss: 0.0882 - val_loss: 0.1315\n",
            "Epoch 499/500\n",
            "81/81 [==============================] - 0s 3ms/step - loss: 0.0866 - val_loss: 0.1184\n",
            "Epoch 500/500\n",
            "81/81 [==============================] - 0s 2ms/step - loss: 0.0872 - val_loss: 0.1285\n"
          ]
        },
        {
          "output_type": "execute_result",
          "data": {
            "text/plain": [
              "<keras.callbacks.History at 0x7f1afae15e90>"
            ]
          },
          "metadata": {},
          "execution_count": 140
        }
      ],
      "source": [
        "model.fit(scaled_X_train,\n",
        "          scaled_y_train,\n",
        "          batch_size=256,\n",
        "          epochs=500,\n",
        "          validation_data=(scaled_X_test,scaled_y_test))"
      ]
    },
    {
      "cell_type": "code",
      "execution_count": 141,
      "id": "a5RNmDApGjya",
      "metadata": {
        "colab": {
          "base_uri": "https://localhost:8080/",
          "height": 282
        },
        "id": "a5RNmDApGjya",
        "outputId": "a17d301d-059a-4dd8-c3d2-717449ee69d8"
      },
      "outputs": [
        {
          "output_type": "execute_result",
          "data": {
            "text/plain": [
              "(0.0, 100.0)"
            ]
          },
          "metadata": {},
          "execution_count": 141
        },
        {
          "output_type": "display_data",
          "data": {
            "text/plain": [
              "<Figure size 432x288 with 1 Axes>"
            ],
            "image/png": "[encoded data removed]"
          },
          "metadata": {
            "needs_background": "light"
          }
        }
      ],
      "source": [
        "losses = pd.DataFrame(model.history.history)\n",
        "losses[['loss','val_loss']].plot()\n",
        "plt.xlim(0,100)"
      ]
    },
    {
      "cell_type": "code",
      "execution_count": 142,
      "id": "2GPIEsz3HU5x",
      "metadata": {
        "colab": {
          "base_uri": "https://localhost:8080/"
        },
        "id": "2GPIEsz3HU5x",
        "outputId": "2590e6de-e76a-41b9-c8b1-f7a08482e797"
      },
      "outputs": [
        {
          "output_type": "stream",
          "name": "stdout",
          "text": [
            "0.8754599323223312\n"
          ]
        }
      ],
      "source": [
        "pred_nn = model.predict(scaled_X_test)\n",
        "train_pred_nn = model.predict(scaled_X_train)\n",
        "\n",
        "print(r2_score(scaled_y_test,pred_nn))"
      ]
    },
    {
      "cell_type": "markdown",
      "id": "Y6jPWKBIISXb",
      "metadata": {
        "id": "Y6jPWKBIISXb"
      },
      "source": [
        "# Results"
      ]
    },
    {
      "cell_type": "code",
      "execution_count": 143,
      "id": "2DOG9DbjIUH5",
      "metadata": {
        "id": "2DOG9DbjIUH5"
      },
      "outputs": [],
      "source": [
        "lin1 = r2_score(y_test,pred_lin)*100\n",
        "dtr1 = r2_score(y_test,pred_dtree)*100\n",
        "rfr1 = r2_score(y_test,pred_rfr)*100\n",
        "knn1 = r2_score(y_test,pred_knn)*100\n",
        "knr1 = r2_score(y_test,pred_knr)*100\n",
        "svr1 = r2_score(scaled_y_test,pred_svr)*100\n",
        "fsvr1 = r2_score(scaled_y_test,pred_f_svr)*100\n",
        "nn1 = r2_score(scaled_y_test,pred_nn)*100\n",
        "\n",
        "lin2 = r2_score(y_train,train_pred_lin)*100\n",
        "dtr2 = r2_score(y_train,train_pred_dtree)*100\n",
        "rfr2 = r2_score(y_train,train_pred_rfr)*100\n",
        "knn2 = r2_score(y_train,train_pred_knn)*100\n",
        "knr2 = r2_score(y_train,train_pred_knr)*100\n",
        "svr2 = r2_score(scaled_y_train,train_pred_svr)*100\n",
        "fsvr2 = r2_score(scaled_y_train,train_pred_f_svr)*100\n",
        "nn2 = r2_score(scaled_y_train,train_pred_nn)*100\n",
        "\n",
        "test_score_dict = {'LR':lin1,'DTree':dtr1,'RFC':rfr1,\n",
        "              'KNR':knn1,'KNR (tuned)':knr1,'SVM':svr1,'SVM (tuned)':fsvr1,'Neural Networks':nn1}\n",
        "              \n",
        "train_score_dict = {'LR':lin2,'DTree':dtr2,'RFC':rfr2,\n",
        "              'KNR':knn2,'KNR (tuned)':knr2,'SVM':svr2,'SVM (tuned)':fsvr2,'Neural Networks':nn2}"
      ]
    },
    {
      "cell_type": "code",
      "execution_count": 144,
      "id": "rEDwoBRYKB56",
      "metadata": {
        "colab": {
          "base_uri": "https://localhost:8080/",
          "height": 337
        },
        "id": "rEDwoBRYKB56",
        "outputId": "9b83a171-3664-468d-86bd-a6d0f69321b2"
      },
      "outputs": [
        {
          "output_type": "execute_result",
          "data": {
            "text/plain": [
              "(array([0, 1, 2, 3, 4, 5, 6, 7]), <a list of 8 Text major ticklabel objects>)"
            ]
          },
          "metadata": {},
          "execution_count": 144
        },
        {
          "output_type": "display_data",
          "data": {
            "text/plain": [
              "<Figure size 1008x360 with 1 Axes>"
            ],
            "image/png": "[encoded data removed]"
          },
          "metadata": {
            "needs_background": "light"
          }
        }
      ],
      "source": [
        "df_scores = pd.DataFrame([train_score_dict,test_score_dict],index=['Train Accuracy','Test Accuracy']).transpose()\n",
        "\n",
        "df_scores.plot(kind='bar',figsize=(14,5))\n",
        "plt.xticks(rotation=0)"
      ]
    },
    {
      "cell_type": "markdown",
      "id": "uyqrSlX8PyX9",
      "metadata": {
        "id": "uyqrSlX8PyX9"
      },
      "source": [
        "# Apply Random Forest Regressor model to make predictions"
      ]
    },
    {
      "cell_type": "code",
      "execution_count": 145,
      "id": "FDfMQwLjP2Mv",
      "metadata": {
        "id": "FDfMQwLjP2Mv"
      },
      "outputs": [],
      "source": [
        "pred_final = rfr.predict(test).round()\n",
        "predictions = pd.DataFrame(pred_final,columns=['TARGET(PRICE_IN_LACS)'])"
      ]
    },
    {
      "cell_type": "markdown",
      "source": [
        "## Merging predictions with the test dataframe"
      ],
      "metadata": {
        "id": "pF7tfGDQDl38"
      },
      "id": "pF7tfGDQDl38"
    },
    {
      "cell_type": "code",
      "source": [
        "test_predict = pd.read_csv('test.csv')"
      ],
      "metadata": {
        "id": "7_GwY8JLO7ve"
      },
      "id": "7_GwY8JLO7ve",
      "execution_count": 146,
      "outputs": []
    },
    {
      "cell_type": "code",
      "source": [
        "test_predict['TARGET(PRICE_IN_LACS)'] = predictions\n",
        "test_predict.head()"
      ],
      "metadata": {
        "colab": {
          "base_uri": "https://localhost:8080/",
          "height": 319
        },
        "id": "efHS1ns7Dq3o",
        "outputId": "a7791416-a4a5-4ef3-9b7a-0c3698e4acaf"
      },
      "id": "efHS1ns7Dq3o",
      "execution_count": 147,
      "outputs": [
        {
          "output_type": "execute_result",
          "data": {
            "text/plain": [
              "  POSTED_BY  UNDER_CONSTRUCTION  RERA  BHK_NO. BHK_OR_RK    SQUARE_FT  \\\n",
              "0     Owner                   0     0        1       BHK   545.171340   \n",
              "1    Dealer                   1     1        2       BHK   800.000000   \n",
              "2    Dealer                   0     0        2       BHK  1257.096513   \n",
              "3    Dealer                   0     0        3       BHK  1400.329489   \n",
              "4     Owner                   0     0        1       BHK   430.477830   \n",
              "\n",
              "   READY_TO_MOVE  RESALE             ADDRESS  LONGITUDE   LATITUDE  \\\n",
              "0              1       1        Kamrej,Surat  21.262000  73.047700   \n",
              "1              0       0     Panvel,Lalitpur  18.966114  73.148278   \n",
              "2              1       1    New Town,Kolkata  22.592200  88.484911   \n",
              "3              1       1  Kalwar Road,Jaipur  26.988300  75.584600   \n",
              "4              1       1   Mai Mandir,Nadiad  22.700000  72.870000   \n",
              "\n",
              "   TARGET(PRICE_IN_LACS)  \n",
              "0                   19.0  \n",
              "1                   76.0  \n",
              "2                   67.0  \n",
              "3                   62.0  \n",
              "4                   13.0  "
            ],
            "text/html": [
              "\n",
              "  <div id=\"df-03e79454-1b21-4a78-8ad2-6ab512597636\">\n",
              "    <div class=\"colab-df-container\">\n",
              "      <div>\n",
              "<style scoped>\n",
              "    .dataframe tbody tr th:only-of-type {\n",
              "        vertical-align: middle;\n",
              "    }\n",
              "\n",
              "    .dataframe tbody tr th {\n",
              "        vertical-align: top;\n",
              "    }\n",
              "\n",
              "    .dataframe thead th {\n",
              "        text-align: right;\n",
              "    }\n",
              "</style>\n",
              "<table border=\"1\" class=\"dataframe\">\n",
              "  <thead>\n",
              "    <tr style=\"text-align: right;\">\n",
              "      <th></th>\n",
              "      <th>POSTED_BY</th>\n",
              "      <th>UNDER_CONSTRUCTION</th>\n",
              "      <th>RERA</th>\n",
              "      <th>BHK_NO.</th>\n",
              "      <th>BHK_OR_RK</th>\n",
              "      <th>SQUARE_FT</th>\n",
              "      <th>READY_TO_MOVE</th>\n",
              "      <th>RESALE</th>\n",
              "      <th>ADDRESS</th>\n",
              "      <th>LONGITUDE</th>\n",
              "      <th>LATITUDE</th>\n",
              "      <th>TARGET(PRICE_IN_LACS)</th>\n",
              "    </tr>\n",
              "  </thead>\n",
              "  <tbody>\n",
              "    <tr>\n",
              "      <th>0</th>\n",
              "      <td>Owner</td>\n",
              "      <td>0</td>\n",
              "      <td>0</td>\n",
              "      <td>1</td>\n",
              "      <td>BHK</td>\n",
              "      <td>545.171340</td>\n",
              "      <td>1</td>\n",
              "      <td>1</td>\n",
              "      <td>Kamrej,Surat</td>\n",
              "      <td>21.262000</td>\n",
              "      <td>73.047700</td>\n",
              "      <td>19.0</td>\n",
              "    </tr>\n",
              "    <tr>\n",
              "      <th>1</th>\n",
              "      <td>Dealer</td>\n",
              "      <td>1</td>\n",
              "      <td>1</td>\n",
              "      <td>2</td>\n",
              "      <td>BHK</td>\n",
              "      <td>800.000000</td>\n",
              "      <td>0</td>\n",
              "      <td>0</td>\n",
              "      <td>Panvel,Lalitpur</td>\n",
              "      <td>18.966114</td>\n",
              "      <td>73.148278</td>\n",
              "      <td>76.0</td>\n",
              "    </tr>\n",
              "    <tr>\n",
              "      <th>2</th>\n",
              "      <td>Dealer</td>\n",
              "      <td>0</td>\n",
              "      <td>0</td>\n",
              "      <td>2</td>\n",
              "      <td>BHK</td>\n",
              "      <td>1257.096513</td>\n",
              "      <td>1</td>\n",
              "      <td>1</td>\n",
              "      <td>New Town,Kolkata</td>\n",
              "      <td>22.592200</td>\n",
              "      <td>88.484911</td>\n",
              "      <td>67.0</td>\n",
              "    </tr>\n",
              "    <tr>\n",
              "      <th>3</th>\n",
              "      <td>Dealer</td>\n",
              "      <td>0</td>\n",
              "      <td>0</td>\n",
              "      <td>3</td>\n",
              "      <td>BHK</td>\n",
              "      <td>1400.329489</td>\n",
              "      <td>1</td>\n",
              "      <td>1</td>\n",
              "      <td>Kalwar Road,Jaipur</td>\n",
              "      <td>26.988300</td>\n",
              "      <td>75.584600</td>\n",
              "      <td>62.0</td>\n",
              "    </tr>\n",
              "    <tr>\n",
              "      <th>4</th>\n",
              "      <td>Owner</td>\n",
              "      <td>0</td>\n",
              "      <td>0</td>\n",
              "      <td>1</td>\n",
              "      <td>BHK</td>\n",
              "      <td>430.477830</td>\n",
              "      <td>1</td>\n",
              "      <td>1</td>\n",
              "      <td>Mai Mandir,Nadiad</td>\n",
              "      <td>22.700000</td>\n",
              "      <td>72.870000</td>\n",
              "      <td>13.0</td>\n",
              "    </tr>\n",
              "  </tbody>\n",
              "</table>\n",
              "</div>\n",
              "      <button class=\"colab-df-convert\" onclick=\"convertToInteractive('df-03e79454-1b21-4a78-8ad2-6ab512597636')\"\n",
              "              title=\"Convert this dataframe to an interactive table.\"\n",
              "              style=\"display:none;\">\n",
              "        \n",
              "  <svg xmlns=\"http://www.w3.org/2000/svg\" height=\"24px\"viewBox=\"0 0 24 24\"\n",
              "       width=\"24px\">\n",
              "    <path d=\"M0 0h24v24H0V0z\" fill=\"none\"/>\n",
              "    <path d=\"M18.56 5.44l.94 2.06.94-2.06 2.06-.94-2.06-.94-.94-2.06-.94 2.06-2.06.94zm-11 1L8.5 8.5l.94-2.06 2.06-.94-2.06-.94L8.5 2.5l-.94 2.06-2.06.94zm10 10l.94 2.06.94-2.06 2.06-.94-2.06-.94-.94-2.06-.94 2.06-2.06.94z\"/><path d=\"M17.41 7.96l-1.37-1.37c-.4-.4-.92-.59-1.43-.59-.52 0-1.04.2-1.43.59L10.3 9.45l-7.72 7.72c-.78.78-.78 2.05 0 2.83L4 21.41c.39.39.9.59 1.41.59.51 0 1.02-.2 1.41-.59l7.78-7.78 2.81-2.81c.8-.78.8-2.07 0-2.86zM5.41 20L4 18.59l7.72-7.72 1.47 1.35L5.41 20z\"/>\n",
              "  </svg>\n",
              "      </button>\n",
              "      \n",
              "  <style>\n",
              "    .colab-df-container {\n",
              "      display:flex;\n",
              "      flex-wrap:wrap;\n",
              "      gap: 12px;\n",
              "    }\n",
              "\n",
              "    .colab-df-convert {\n",
              "      background-color: #E8F0FE;\n",
              "      border: none;\n",
              "      border-radius: 50%;\n",
              "      cursor: pointer;\n",
              "      display: none;\n",
              "      fill: #1967D2;\n",
              "      height: 32px;\n",
              "      padding: 0 0 0 0;\n",
              "      width: 32px;\n",
              "    }\n",
              "\n",
              "    .colab-df-convert:hover {\n",
              "      background-color: #E2EBFA;\n",
              "      box-shadow: 0px 1px 2px rgba(60, 64, 67, 0.3), 0px 1px 3px 1px rgba(60, 64, 67, 0.15);\n",
              "      fill: #174EA6;\n",
              "    }\n",
              "\n",
              "    [theme=dark] .colab-df-convert {\n",
              "      background-color: #3B4455;\n",
              "      fill: #D2E3FC;\n",
              "    }\n",
              "\n",
              "    [theme=dark] .colab-df-convert:hover {\n",
              "      background-color: #434B5C;\n",
              "      box-shadow: 0px 1px 3px 1px rgba(0, 0, 0, 0.15);\n",
              "      filter: drop-shadow(0px 1px 2px rgba(0, 0, 0, 0.3));\n",
              "      fill: #FFFFFF;\n",
              "    }\n",
              "  </style>\n",
              "\n",
              "      <script>\n",
              "        const buttonEl =\n",
              "          document.querySelector('#df-03e79454-1b21-4a78-8ad2-6ab512597636 button.colab-df-convert');\n",
              "        buttonEl.style.display =\n",
              "          google.colab.kernel.accessAllowed ? 'block' : 'none';\n",
              "\n",
              "        async function convertToInteractive(key) {\n",
              "          const element = document.querySelector('#df-03e79454-1b21-4a78-8ad2-6ab512597636');\n",
              "          const dataTable =\n",
              "            await google.colab.kernel.invokeFunction('convertToInteractive',\n",
              "                                                     [key], {});\n",
              "          if (!dataTable) return;\n",
              "\n",
              "          const docLinkHtml = 'Like what you see? Visit the ' +\n",
              "            '<a target=\"_blank\" href=https://colab.research.google.com/notebooks/data_table.ipynb>data table notebook</a>'\n",
              "            + ' to learn more about interactive tables.';\n",
              "          element.innerHTML = '';\n",
              "          dataTable['output_type'] = 'display_data';\n",
              "          await google.colab.output.renderOutput(dataTable, element);\n",
              "          const docLink = document.createElement('div');\n",
              "          docLink.innerHTML = docLinkHtml;\n",
              "          element.appendChild(docLink);\n",
              "        }\n",
              "      </script>\n",
              "    </div>\n",
              "  </div>\n",
              "  "
            ]
          },
          "metadata": {},
          "execution_count": 147
        }
      ]
    }
  ],
  "metadata": {
    "colab": {
      "collapsed_sections": [
        "a684cfa2",
        "232b0c16",
        "0cbbb094",
        "b8bf8a4c"
      ],
      "name": "Housing_Price_2.ipynb",
      "provenance": [],
      "toc_visible": true
    },
    "gpuClass": "standard",
    "kernelspec": {
      "display_name": "Python 3",
      "language": "python",
      "name": "python3"
    },
    "language_info": {
      "codemirror_mode": {
        "name": "ipython",
        "version": 3
      },
      "file_extension": ".py",
      "mimetype": "text/x-python",
      "name": "python",
      "nbconvert_exporter": "python",
      "pygments_lexer": "ipython3",
      "version": "3.8.8"
    }
  },
  "nbformat": 4,
  "nbformat_minor": 5
}